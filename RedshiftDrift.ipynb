{
 "cells": [
  {
   "cell_type": "code",
   "execution_count": 1,
   "id": "2cc01ef8",
   "metadata": {},
   "outputs": [],
   "source": [
    "%run Main.ipynb"
   ]
  },
  {
   "cell_type": "markdown",
   "id": "a606ce7a",
   "metadata": {},
   "source": [
    "# Redshift Drift \n",
    "\n",
    "## - Spectroscopic velocity\n",
    "\n",
    "$\\Delta v = \\frac{c \\Delta z}{1+z} = c H_0 \\Delta t \\left[1 - \\frac{E(z)}{1+z}\\right] = kh \\left[1 - \\frac{E(z)}{1+z}\\right]$, where $H_0 = 100 H_{100}$ and $k = c H_{100}\\delta t$\n",
    "\n",
    "Assuming $\\delta t = 1$ year we have $k=3.064$ cm/s."
   ]
  },
  {
   "cell_type": "code",
   "execution_count": 2,
   "id": "eaf0762c",
   "metadata": {},
   "outputs": [],
   "source": [
    "def spect_velocity(zs, h, OmegaM, w0, wa, NrYears):\n",
    "    if w0 == None: \n",
    "        w0 = -1.\n",
    "    if wa == None: \n",
    "        wa = 0\n",
    "    return c100t1 * NrYears * h * ( 1 - 1/(1+zs) * function_E_z(zs, OmegaM, w0, wa))"
   ]
  },
  {
   "cell_type": "markdown",
   "id": "e28e1269",
   "metadata": {},
   "source": [
    "## - Spectroscopic velocity uncertainty\n",
    "\n",
    "#### Liske Approach - (Approximation of the spectroscopic velocity uncertainty for ELT)\n",
    "$\\sigma_{\\Delta v} = 1.35 \\frac{2370}{S/N} \\sqrt{\\frac{30}{N_{QSO}})} \\left({\\frac{5}{1+z_{QSO}}}\\right)^x$, with $x=1.7$ for $z\\leqslant4$ and $x=0.9$ for $z>4$ "
   ]
  },
  {
   "cell_type": "code",
   "execution_count": 3,
   "id": "52493d04",
   "metadata": {},
   "outputs": [],
   "source": [
    "def uncLiske_spect_velocity(zs):\n",
    "    NrQSO = 6\n",
    "    SN    = 3000\n",
    "    unc_zELT = np.zeros_like(zs)\n",
    "    for i in np.arange(len(zs)):\n",
    "        if zs[i] <= 4:\n",
    "            x = 1.7\n",
    "        else:\n",
    "            x = .9\n",
    "        unc_zELT[i] = 1.35 * 2370/SN * np.sqrt(30/NrQSO) * (5/(1+zs[i]))**x\n",
    "    return unc_zELT"
   ]
  },
  {
   "cell_type": "markdown",
   "id": "b1b5a8f8",
   "metadata": {},
   "source": [
    "## - Derivatives calculation"
   ]
  },
  {
   "cell_type": "code",
   "execution_count": 4,
   "id": "50273bf3",
   "metadata": {},
   "outputs": [],
   "source": [
    "def dfdh_z(z, h, OmegaM, w0, wa, NrYears):\n",
    "    return ( spect_velocity(z, h+hh, OmegaM, w0, wa, NrYears)-spect_velocity(z, h, OmegaM, w0, wa, NrYears) )/hh\n",
    "\n",
    "def dfdOmegaM_z(z, h, OmegaM, w0, wa, NrYears):\n",
    "    return ( spect_velocity(z, h,OmegaM+hh, w0, wa, NrYears)-spect_velocity(z, h, OmegaM, w0, wa, NrYears) )/hh\n",
    "\n",
    "def dfdw0_z(z, h, OmegaM, w0, wa, NrYears):\n",
    "    if w0 != None:\n",
    "        return ( spect_velocity(z, h, OmegaM, w0+hh, wa, NrYears)-spect_velocity(z, h, OmegaM, w0, wa, NrYears) )/hh\n",
    "    else:\n",
    "        return 0\n",
    "\n",
    "def dfdwa_z(z, h, OmegaM, w0, wa, NrYears):\n",
    "    if wa != None:\n",
    "        return ( spect_velocity(z, h,OmegaM, w0, wa+hh, NrYears)-spect_velocity(z, h, OmegaM, w0, wa, NrYears) )/hh\n",
    "    else:\n",
    "        return 0"
   ]
  },
  {
   "cell_type": "markdown",
   "id": "2eae14ea",
   "metadata": {},
   "source": [
    "# Measurements\n",
    "### - Redshifts"
   ]
  },
  {
   "cell_type": "code",
   "execution_count": 5,
   "id": "99d234d6",
   "metadata": {},
   "outputs": [],
   "source": [
    "zLiske = np.array([2.,  2.5, 3.,  3.5, 4.5])"
   ]
  },
  {
   "cell_type": "markdown",
   "id": "827aa18a",
   "metadata": {},
   "source": [
    "### - Uncertainties"
   ]
  },
  {
   "cell_type": "code",
   "execution_count": 6,
   "id": "1d5558b2",
   "metadata": {},
   "outputs": [],
   "source": [
    "unc_zLiske = uncLiske_spect_velocity(zLiske)"
   ]
  },
  {
   "cell_type": "markdown",
   "id": "86a293bc",
   "metadata": {},
   "source": [
    "# Priors"
   ]
  },
  {
   "cell_type": "code",
   "execution_count": 7,
   "id": "b0ad9b3b",
   "metadata": {},
   "outputs": [],
   "source": [
    "unch = 0.05\n",
    "uncOmegaM = 0.03\n",
    "uncw0 = 0.1\n",
    "uncwa = 0.4"
   ]
  },
  {
   "cell_type": "markdown",
   "id": "fa7a3a60",
   "metadata": {},
   "source": [
    "# Fisher Matrices\n",
    "## - No Priors"
   ]
  },
  {
   "cell_type": "markdown",
   "id": "4e4dd361",
   "metadata": {},
   "source": [
    "#### CPL"
   ]
  },
  {
   "cell_type": "code",
   "execution_count": 8,
   "id": "b56e6de8",
   "metadata": {},
   "outputs": [],
   "source": [
    "CPLT_Liske_np = FisherMatrix_z(zLiske, unc_zLiske, h, OmegaM, w0=-0.8, wa=-0.2, NrYears=20, analysis = 'redshift')\n",
    "CPLF_Liske_np = FisherMatrix_z(zLiske, unc_zLiske, h, OmegaM, w0=-0.9, wa=0.3, NrYears=20, analysis = 'redshift')"
   ]
  },
  {
   "cell_type": "markdown",
   "id": "88cebd9f",
   "metadata": {},
   "source": [
    "## - With Priors"
   ]
  },
  {
   "cell_type": "markdown",
   "id": "be43af05",
   "metadata": {},
   "source": [
    "#### CPL"
   ]
  },
  {
   "cell_type": "code",
   "execution_count": 9,
   "id": "81b9a7c9",
   "metadata": {},
   "outputs": [],
   "source": [
    "#Priors in h,OmegaM,w0,wa \n",
    "CPLT_Liske = add1DPriors(CPLT_Liske_np, [[unch,0],[uncOmegaM,1],[uncw0,2], [uncwa,3]])\n",
    "CPLF_Liske = add1DPriors(CPLF_Liske_np, [[unch,0],[uncOmegaM,1],[uncw0,2], [uncwa,3]])"
   ]
  }
 ],
 "metadata": {
  "kernelspec": {
   "display_name": "Python 3 (ipykernel)",
   "language": "python",
   "name": "python3"
  },
  "language_info": {
   "codemirror_mode": {
    "name": "ipython",
    "version": 3
   },
   "file_extension": ".py",
   "mimetype": "text/x-python",
   "name": "python",
   "nbconvert_exporter": "python",
   "pygments_lexer": "ipython3",
   "version": "3.7.9"
  }
 },
 "nbformat": 4,
 "nbformat_minor": 5
}
