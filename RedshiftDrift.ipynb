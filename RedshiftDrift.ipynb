{
 "cells": [
  {
   "cell_type": "code",
   "execution_count": 1,
   "id": "2cc01ef8",
   "metadata": {},
   "outputs": [],
   "source": [
    "%run Main.ipynb"
   ]
  },
  {
   "cell_type": "markdown",
   "id": "a606ce7a",
   "metadata": {},
   "source": [
    "# Redshift Drift \n",
    "\n",
    "## - Spectroscopic velocity\n",
    "\n",
    "$\\Delta v = \\frac{c \\Delta z}{1+z} = c H_0 \\Delta t \\left[1 - \\frac{E(z)}{1+z}\\right] = kh \\left[1 - \\frac{E(z)}{1+z}\\right]$, where $H_0 = 100 H_{100}$ and $k = c H_{100}\\delta t$\n",
    "\n",
    "Assuming $\\delta t = 1$ year we have $k=3.064$ cm/s."
   ]
  },
  {
   "cell_type": "code",
   "execution_count": 2,
   "id": "eaf0762c",
   "metadata": {},
   "outputs": [],
   "source": [
    "def spect_velocity(zs, h, OmegaM, w0, wa, NrYears):\n",
    "    if w0 == None: \n",
    "        w0 = -1.\n",
    "    if wa == None: \n",
    "        wa = 0\n",
    "    return c100t1 * NrYears * h * ( 1 - 1/(1+zs) * function_E_z(zs, OmegaM, w0, wa))"
   ]
  },
  {
   "cell_type": "markdown",
   "id": "e28e1269",
   "metadata": {},
   "source": [
    "## - Spectroscopic velocity uncertainty\n",
    "\n",
    "#### Liske Approach - (Approximation of the spectroscopic velocity uncertainty for ELT)\n",
    "$\\sigma_{\\Delta v} = 1.35 \\frac{2370}{S/N} \\sqrt{\\frac{30}{N_{QSO}})} \\left({\\frac{5}{1+z_{QSO}}}\\right)^x$, with $x=1.7$ for $z\\leqslant4$ and $x=0.9$ for $z>4$ "
   ]
  },
  {
   "cell_type": "code",
   "execution_count": 3,
   "id": "52493d04",
   "metadata": {},
   "outputs": [],
   "source": [
    "def uncLiske_spect_velocity(zs):\n",
    "    NrQSO = 6\n",
    "    SN    = 3000\n",
    "    unc_zELT = np.zeros_like(zs)\n",
    "    for i in np.arange(len(zs)):\n",
    "        if zs[i] <= 4:\n",
    "            x = 1.7\n",
    "        else:\n",
    "            x = .9\n",
    "        unc_zELT[i] = 1.35 * 2370/SN * np.sqrt(30/NrQSO) * (5/(1+zs[i]))**x\n",
    "    return unc_zELT"
   ]
  },
  {
   "cell_type": "markdown",
   "id": "b1b5a8f8",
   "metadata": {},
   "source": [
    "## - Derivatives calculation"
   ]
  },
  {
   "cell_type": "code",
   "execution_count": 4,
   "id": "50273bf3",
   "metadata": {},
   "outputs": [],
   "source": [
    "def dfdh_z(z, h, OmegaM, w0, wa, NrYears):\n",
    "    return ( spect_velocity(z, h+hh, OmegaM, w0, wa, NrYears)-spect_velocity(z, h, OmegaM, w0, wa, NrYears) )/hh\n",
    "\n",
    "def dfdOmegaM_z(z, h, OmegaM, w0, wa, NrYears):\n",
    "    return ( spect_velocity(z, h,OmegaM+hh, w0, wa, NrYears)-spect_velocity(z, h, OmegaM, w0, wa, NrYears) )/hh\n",
    "\n",
    "def dfdw0_z(z, h, OmegaM, w0, wa, NrYears):\n",
    "    if w0 != None:\n",
    "        return ( spect_velocity(z, h, OmegaM, w0+hh, wa, NrYears)-spect_velocity(z, h, OmegaM, w0, wa, NrYears) )/hh\n",
    "    else:\n",
    "        return 0\n",
    "\n",
    "def dfdwa_z(z, h, OmegaM, w0, wa, NrYears):\n",
    "    if wa != None:\n",
    "        return ( spect_velocity(z, h,OmegaM, w0, wa+hh, NrYears)-spect_velocity(z, h, OmegaM, w0, wa, NrYears) )/hh\n",
    "    else:\n",
    "        return 0"
   ]
  },
  {
   "cell_type": "markdown",
   "id": "2eae14ea",
   "metadata": {},
   "source": [
    "# Measurements\n",
    "### - Redshifts"
   ]
  },
  {
   "cell_type": "code",
   "execution_count": 5,
   "id": "99d234d6",
   "metadata": {},
   "outputs": [],
   "source": [
    "zLiske = np.array([2., 2.5, 3., 3.5, 4.5])"
   ]
  },
  {
   "cell_type": "markdown",
   "id": "827aa18a",
   "metadata": {},
   "source": [
    "### - Uncertainties"
   ]
  },
  {
   "cell_type": "code",
   "execution_count": 6,
   "id": "1d5558b2",
   "metadata": {},
   "outputs": [],
   "source": [
    "unc_zLiske = uncLiske_spect_velocity(zLiske)"
   ]
  },
  {
   "cell_type": "markdown",
   "id": "86a293bc",
   "metadata": {},
   "source": [
    "# Priors"
   ]
  },
  {
   "cell_type": "code",
   "execution_count": 7,
   "id": "b0ad9b3b",
   "metadata": {},
   "outputs": [],
   "source": [
    "unch = 0.05\n",
    "uncOmegaM = 0.03\n",
    "uncw0 = 0.1\n",
    "uncwa = 0.4"
   ]
  },
  {
   "cell_type": "markdown",
   "id": "0c22a143",
   "metadata": {},
   "source": [
    "# Fiducial Models\n",
    "\n",
    "<b>- Freezing CPL:</b> CPLF $(w_0 = −0.9, w_a = +0.3)$\n",
    "\n",
    "<b>- Thawing CPL:</b> CPLT $(w_0 = −0.8, w_a = −0.2)$"
   ]
  },
  {
   "cell_type": "markdown",
   "id": "fa7a3a60",
   "metadata": {},
   "source": [
    "# Fisher Matrices\n",
    "## - No Priors"
   ]
  },
  {
   "cell_type": "code",
   "execution_count": 8,
   "id": "b56e6de8",
   "metadata": {},
   "outputs": [],
   "source": [
    "CPLT_Liske_np = FisherMatrix_z(zLiske, unc_zLiske, h, OmegaM, w0=-0.8, wa=-0.2, NrYears=20, analysis = 'redshift')\n",
    "CPLF_Liske_np = FisherMatrix_z(zLiske, unc_zLiske, h, OmegaM, w0=-0.9, wa=0.3, NrYears=20, analysis = 'redshift')"
   ]
  },
  {
   "cell_type": "markdown",
   "id": "88cebd9f",
   "metadata": {},
   "source": [
    "## - With Priors"
   ]
  },
  {
   "cell_type": "code",
   "execution_count": 9,
   "id": "81b9a7c9",
   "metadata": {},
   "outputs": [],
   "source": [
    "#Separate priors in h,OmegaM,w0,wa \n",
    "CPLT_Liske = add1DPriors(CPLT_Liske_np, [[unch,0],[uncOmegaM,1],[uncw0,2],[uncwa,3]])\n",
    "CPLF_Liske = add1DPriors(CPLF_Liske_np, [[unch,0],[uncOmegaM,1],[uncw0,2], [uncwa,3]])"
   ]
  },
  {
   "cell_type": "markdown",
   "id": "23b5a5c5",
   "metadata": {},
   "source": [
    "# Confidence ellipses (1-sigma)"
   ]
  },
  {
   "cell_type": "code",
   "execution_count": 10,
   "id": "03be2dd7",
   "metadata": {},
   "outputs": [],
   "source": [
    "def EllipsesRed(parameter1,parameter2, parameter_values, Fs, ells_color, ells_linestyle, Fs_legend=None): \n",
    "    ells = []\n",
    "    custom_lines=[]\n",
    "    if not Fs_legend:\n",
    "        Fs_legend = len(Fs)*[None]\n",
    "    for i in range(len(Fs)):\n",
    "        parameter1_value, parameter2_value = parameter_values[i] \n",
    "        \n",
    "        if parameter1 == 'w0':\n",
    "            parameter1_legend = '$w_0$'\n",
    "            \n",
    "            if parameter2 == 'wa':\n",
    "                Fm = marginalize(Fs[i],'OmegaM',analysis='redshift')\n",
    "                Fm = marginalize(Fm,'h',analysis='redshift')\n",
    "                parameter2_legend = '$w_a$' \n",
    "                \n",
    "            if parameter2 == 'h':\n",
    "                Fm = marginalize(Fs[i],'wa',analysis='redshift')\n",
    "                Fm = marginalize(Fm,'OmegaM',analysis='redshift')\n",
    "                parameter2_legend = '$h$'\n",
    "    \n",
    "        \n",
    "        if parameter1 == 'OmegaM':\n",
    "            parameter1_legend = '$\\Omega_m$'\n",
    "        \n",
    "            if parameter2 == 'w0':\n",
    "                Fm = marginalize(Fs[i],'wa',analysis='redshift')\n",
    "                Fm = marginalize(Fm,'h',analysis='redshift')\n",
    "                parameter2_legend = '$w_0$'\n",
    "                \n",
    "            if parameter2 == 'wa':\n",
    "                Fm = marginalize(Fs[i],'w0',analysis='redshift')\n",
    "                Fm = marginalize(Fm,'h',analysis='redshift')\n",
    "                parameter2_legend = '$w_a$'\n",
    "            \n",
    "            \n",
    "        if parameter1 == 'wa' and parameter2 == 'h':\n",
    "            parameter1_legend = '$w_a$'\n",
    "            parameter2_legend = '$h$'\n",
    "            Fm = marginalize(Fs[i],'w0',analysis='redshift')\n",
    "            Fm = marginalize(Fm,'OmegaM',analysis='redshift')\n",
    "              \n",
    "            \n",
    "        if parameter1 == 'h' and parameter2 == 'OmegaM':\n",
    "            parameter1_legend = '$h$'\n",
    "            parameter2_legend = '$\\Omega_m$'\n",
    "            Fm = marginalize(Fs[i],'wa',analysis='redshift')\n",
    "            Fm = marginalize(Fm,'w0',analysis='redshift')\n",
    "            \n",
    "        \n",
    "        Pa = preelipse(Fm)\n",
    "        color, name, style,facecolor, alpha = ells_color[i], Fs_legend[i], ells_linestyle[i], 'none', 1\n",
    "        ells.append([parameter1_value,parameter2_value,Pa[0],Pa[1],Pa[2],name,color,style,facecolor, alpha])\n",
    "        custom_lines+= [Line2D([0], [0], color=ells_color[i], lw=1.1, ls=ells_linestyle[i])]\n",
    "        \n",
    "                            \n",
    "    ellipses(ells,[parameter1_legend,parameter2_legend])\n",
    "    plt.tick_params(axis='both', which='major', labelsize=16)\n",
    "    if Fs_legend[0]: \n",
    "        plt.legend(custom_lines, Fs_legend)\n",
    "    \n",
    "    #Definition of plot limits and figure name\n",
    "    #plt.xlim(-1.1,-0.7)\n",
    "    #plt.ylim(-0.4, 1.0)\n",
    "    #plt.savefig('name.png', dpi=300, bbox_inches='tight')\n",
    "\n",
    "    plt.show()"
   ]
  },
  {
   "cell_type": "markdown",
   "id": "4ad33190",
   "metadata": {},
   "source": [
    "The possible combinations are: (h,OmegaM), (OmegaM, w0), (OmegaM, wa), (w0, wa), (w0, h), (wa, h)\n",
    "\n",
    "Specify the <b>combination of parameters</b>, <b>fiducial values</b> of the model, the <b>matrices</b>, <b>colours</b>, <b>linestyle</b> and <b>names</b> for the legend."
   ]
  },
  {
   "cell_type": "code",
   "execution_count": 11,
   "id": "66930f29",
   "metadata": {},
   "outputs": [],
   "source": [
    "#EllipsesRed('h','OmegaM',[[0.7,0.3],[0.7,0.3]],[CPLT_Liske, CPLF_Liske], ['blue','red'], ['-', (0, (8,8))],['Thawing', 'Freezing'])"
   ]
  },
  {
   "cell_type": "markdown",
   "id": "8f39021d",
   "metadata": {},
   "source": [
    "# Table with ρ, FoM and σ"
   ]
  },
  {
   "cell_type": "code",
   "execution_count": 12,
   "id": "96af8300",
   "metadata": {},
   "outputs": [],
   "source": [
    "def TableRed(matrices):\n",
    "    i=0\n",
    "    df=pd.DataFrame()\n",
    "    nformat = \"{:.0f}\"\n",
    "    float_format=\"{:.3f}\"\n",
    "    \n",
    "    \n",
    "    for matrix in matrices:\n",
    "        \n",
    "        rows = {'ρ(h, Ωm)':float_format.format(FigMeriteRho(matrix,['w0','wa'],analysis='redshift')[1]),\n",
    "                'ρ(Ωm, w0)':float_format.format(FigMeriteRho(matrix,['h','wa'],analysis='redshift')[1]),\n",
    "                'ρ(h, w0)':float_format.format(FigMeriteRho(matrix,['OmegaM','wa'],analysis='redshift')[1]),                       \n",
    "                'ρ(Ωm, wa)':float_format.format(FigMeriteRho(matrix,['h','w0'],analysis='redshift')[1]),\n",
    "                'ρ(h, wa)':float_format.format(FigMeriteRho(matrix,['OmegaM','w0'],analysis='redshift')[1]),\n",
    "                'ρ(w0, wa)':float_format.format(FigMeriteRho(matrix,['h','OmegaM'],analysis='redshift')[1]),\n",
    "                'FoM(h, Ωm)': nformat.format(FigMeriteRho(matrix,['w0','wa'],analysis='redshift')[0]),\n",
    "                'FoM(Ωm, w0)': nformat.format(FigMeriteRho(matrix,['h','wa'],analysis='redshift')[0]),\n",
    "                'FoM(h, w0)': nformat.format(FigMeriteRho(matrix,['OmegaM','wa'],analysis='redshift')[0]),\n",
    "                'FoM(Ωm, wa)': nformat.format(FigMeriteRho(matrix,['h','w0'],analysis='redshift')[0]),\n",
    "                'FoM(h, wa)': nformat.format(FigMeriteRho(matrix,['OmegaM','w0'],analysis='redshift')[0]),\n",
    "                'FoM(w0, wa)': nformat.format(FigMeriteRho(matrix,['h','OmegaM'],analysis='redshift')[0]),\n",
    "                'σ(h)':float_format.format(Sigmas(matrix)[0]),\n",
    "                'σ(Ωm)':float_format.format(Sigmas(matrix)[1]),\n",
    "                'σ(w0)':float_format.format(Sigmas(matrix)[2]),\n",
    "                'σ(wa)':float_format.format(Sigmas(matrix)[3])}\n",
    "        \n",
    "        i+=1\n",
    "        df = df.append(rows,ignore_index=True)\n",
    "        del rows\n",
    "            \n",
    "    Datasets = ['Thawing CPL', 'Freezing CPL']\n",
    "    df.insert(0, \"Parameters\", Datasets, True)\n",
    "    \n",
    "    df = df.transpose()\n",
    "    \n",
    "            \n",
    "    return df"
   ]
  },
  {
   "cell_type": "code",
   "execution_count": 13,
   "id": "55e4c2a4",
   "metadata": {},
   "outputs": [],
   "source": [
    "matricesCPL = [CPLT_Liske, CPLF_Liske]\n",
    "#tab = TableRed(matricesCPL)\n",
    "\n",
    "#See the table in DataFrame:\n",
    "#tab\n",
    "\n",
    "#Transform dataframe to latex code:\n",
    "#print(tab.to_latex(header=False,index=True))"
   ]
  }
 ],
 "metadata": {
  "kernelspec": {
   "display_name": "Python 3 (ipykernel)",
   "language": "python",
   "name": "python3"
  },
  "language_info": {
   "codemirror_mode": {
    "name": "ipython",
    "version": 3
   },
   "file_extension": ".py",
   "mimetype": "text/x-python",
   "name": "python",
   "nbconvert_exporter": "python",
   "pygments_lexer": "ipython3",
   "version": "3.7.9"
  }
 },
 "nbformat": 4,
 "nbformat_minor": 5
}
