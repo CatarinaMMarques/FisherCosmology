{
 "cells": [
  {
   "cell_type": "code",
   "execution_count": 1,
   "id": "2cc01ef8",
   "metadata": {},
   "outputs": [],
   "source": [
    "%run Main.ipynb"
   ]
  },
  {
   "cell_type": "markdown",
   "id": "a606ce7a",
   "metadata": {},
   "source": [
    "# Redshift Drift \n",
    "\n",
    "## - Spectroscopic velocity\n",
    "\n",
    "$\\Delta v = \\frac{c \\Delta z}{1+z} = c H_0 \\Delta t \\left[1 - \\frac{E(z)}{1+z}\\right] = kh \\left[1 - \\frac{E(z)}{1+z}\\right]$, where $H_0 = 100 H_{100}$ and $k = c H_{100}\\delta t$\n",
    "\n",
    "Assuming $\\delta t = 1$ year we have $k=3.064$ cm/s."
   ]
  },
  {
   "cell_type": "code",
   "execution_count": 2,
   "id": "eaf0762c",
   "metadata": {},
   "outputs": [],
   "source": [
    "def spect_velocity(zs, h, OmegaM, w0, wa, NrYears):\n",
    "    if w0 == None: \n",
    "        w0 = -1.\n",
    "    if wa == None: \n",
    "        wa = 0\n",
    "    return c100t1 * NrYears * h * ( 1 - 1/(1+zs) * function_E_z(zs, OmegaM, w0, wa))"
   ]
  },
  {
   "cell_type": "markdown",
   "id": "e28e1269",
   "metadata": {},
   "source": [
    "## - Spectroscopic velocity uncertainty\n",
    "\n",
    "$\\sigma_{\\Delta v} = 1.35 \\frac{2370}{S/N} \\sqrt{\\frac{30}{N_{QSO}})} \\left({\\frac{5}{1+z_{QSO}}}\\right)^x$, with $x=1.7$ for $z\\leqslant4$ and $x=0.9$ for $z>4$ "
   ]
  },
  {
   "cell_type": "code",
   "execution_count": 3,
   "id": "52493d04",
   "metadata": {},
   "outputs": [],
   "source": [
    "def uncLiske_spect_velocity(zs):\n",
    "    NrQSO = 6\n",
    "    SN    = 3000\n",
    "    unc_zELT = np.zeros_like(zs)\n",
    "    for i in np.arange(len(zs)):\n",
    "        if zs[i] <= 4:\n",
    "            x = 1.7\n",
    "        else:\n",
    "            x = .9\n",
    "        unc_zELT[i] = 1.35 * 2370/SN * np.sqrt(30/NrQSO) * (5/(1+zs[i]))**x\n",
    "    return unc_zELT"
   ]
  },
  {
   "cell_type": "code",
   "execution_count": 4,
   "id": "f31c21f5",
   "metadata": {},
   "outputs": [],
   "source": [
    "def uncSKA_spect_velocity(zs, h, OmegaM, w0, wa, NrYears):\n",
    "    NrZs = len(zs)\n",
    "    Percent = np.array([.02, .04, .06, .08, .1])\n",
    "    unc_zSKA = np.zeros(NrZs)\n",
    "    for i in np.arange(NrZs):\n",
    "        unc_zSKA[i] = Percent[i] * spect_velocity(zs[i], h, OmegaM, w0, wa, NrYears)\n",
    "    return unc_zSKA"
   ]
  },
  {
   "cell_type": "markdown",
   "id": "b1b5a8f8",
   "metadata": {},
   "source": [
    "## - Derivatives calculation"
   ]
  },
  {
   "cell_type": "code",
   "execution_count": 5,
   "id": "50273bf3",
   "metadata": {},
   "outputs": [],
   "source": [
    "def dfdh_z(z, h, OmegaM, w0, wa, NrYears):\n",
    "    return ( spect_velocity(z, h+hh, OmegaM, w0, wa, NrYears)-spect_velocity(z, h, OmegaM, w0, wa, NrYears) )/hh\n",
    "\n",
    "def dfdOmegaM_z(z, h, OmegaM, w0, wa, NrYears):\n",
    "    return ( spect_velocity(z, h,OmegaM+hh, w0, wa, NrYears)-spect_velocity(z, h, OmegaM, w0, wa, NrYears) )/hh\n",
    "\n",
    "def dfdw0_z(z, h, OmegaM, w0, wa, NrYears):\n",
    "    if w0 != None:\n",
    "        return ( spect_velocity(z, h, OmegaM, w0+hh, wa, NrYears)-spect_velocity(z, h, OmegaM, w0, wa, NrYears) )/hh\n",
    "    else:\n",
    "        return 0\n",
    "\n",
    "def dfdwa_z(z, h, OmegaM, w0, wa, NrYears):\n",
    "    if wa != None:\n",
    "        return ( spect_velocity(z, h,OmegaM, w0, wa+hh, NrYears)-spect_velocity(z, h, OmegaM, w0, wa, NrYears) )/hh\n",
    "    else:\n",
    "        return 0"
   ]
  },
  {
   "cell_type": "markdown",
   "id": "d66e6787",
   "metadata": {},
   "source": [
    "## - Add Priors (Separate, Planck and COrE)"
   ]
  },
  {
   "cell_type": "code",
   "execution_count": 6,
   "id": "224ea5bd",
   "metadata": {},
   "outputs": [],
   "source": [
    "def add1DPriors(F, priors): #to add priors locally in the intended parameters\n",
    "    '''F-Fisher matrix, priors-[[sigma_prior1,local1],...]'''\n",
    "    G = np.copy(F)\n",
    "    for i in range(len(priors)): \n",
    "        G[priors[i][1],priors[i][1]]+=priors[i][0]**-2\n",
    "    return G\n",
    "\n",
    "def addDimPrior_z(Foriginal_z, Fprior_z): #to add the Planck and COrE priors\n",
    "    'Fori - original F, Fprior - F with the priors but different dimension'\n",
    "    dimFreal = len(Foriginal_z)\n",
    "    while len(Fprior_z) != dimFreal:\n",
    "        Fprior_z = np.insert(Fprior_z, len(Fprior_z), 0, axis=1) # add column\n",
    "        Fprior_z = np.insert(Fprior_z, len(Fprior_z), 0, axis=0) # add line\n",
    "    return Foriginal_z+Fprior_z\n",
    "\n",
    "def addPriors_z(F_z, cur_z): #combination of the previous two\n",
    "    'F-Fisher matrix, cur=1 -current priors, cur=0-future priors'\n",
    "    newF_z = np.copy(F_z)\n",
    "    if len(F_z) == 2: # 2x2 matrix - minimum\n",
    "        if cur_z == 1:\n",
    "            newF_z = addDimPrior_z(F_z, FPlanck)\n",
    "        else:\n",
    "            newF_z = addDimPrior_z(F_z, FCORE)\n",
    "    elif len(F_z) == 3: # 3x3 matrix\n",
    "        if cur_z == 1:\n",
    "            newF_z = addDimPrior_z(F_z, FPlanck)\n",
    "            newF_z = add1DPriors(newF_z, [[uncw0Cur,2]])\n",
    "        else:\n",
    "            newF_z = addDimPrior_z(F_z, FCORE)\n",
    "            newF_z = add1DPriors(newF_z, [[uncw0Fut,2]])\n",
    "    elif len(F_z) == 4: # 4x4 matrix - maximum\n",
    "        if cur_z == 1:\n",
    "            newF_z = addDimPrior_z(F_z, FPlanck)\n",
    "            newF_z = add1DPriors(newF_z, [[uncw0Cur,2],[uncwaCur,3]])\n",
    "        else:\n",
    "            newF_z = addDimPrior_z(F_z, FCORE)\n",
    "    return newF_z"
   ]
  },
  {
   "cell_type": "code",
   "execution_count": 7,
   "id": "0b6de003",
   "metadata": {},
   "outputs": [],
   "source": [
    "#Priors in h and OmegaM for Planck and CORE\n",
    "def getPriorsHOmegaM(Priors): # the 1st row in h and the second Om\n",
    "    return np.array([[(2*h*OmegaM)**2*Priors**-2   , 2*OmegaM*h**3*Priors**-2],\n",
    "                     [2*OmegaM*h**3*Priors**-2 , h**4*Priors**-2]])"
   ]
  },
  {
   "cell_type": "code",
   "execution_count": 8,
   "id": "b7da8741",
   "metadata": {},
   "outputs": [],
   "source": [
    "uncw0Cur = .1\n",
    "uncwaCur = .3\n",
    "uncPlack = .0013 # uncertainty in Omega_m * h**2\n",
    "FPlanck  = getPriorsHOmegaM(uncPlack)"
   ]
  },
  {
   "cell_type": "code",
   "execution_count": 9,
   "id": "dae91c79",
   "metadata": {},
   "outputs": [],
   "source": [
    "uncw0Fut = .02\n",
    "uncwaFut = .1\n",
    "uncCORE  = .00028 # uncertainty in Omega_m * h**2\n",
    "FCORE    = getPriorsHOmegaM(uncCORE)"
   ]
  },
  {
   "cell_type": "markdown",
   "id": "2eae14ea",
   "metadata": {},
   "source": [
    "# Measurements\n",
    "### - Redshifts"
   ]
  },
  {
   "cell_type": "code",
   "execution_count": 10,
   "id": "99d234d6",
   "metadata": {},
   "outputs": [],
   "source": [
    "zLiske = np.array([2.,  2.5, 3.,  3.5, 4.5])\n",
    "zSKA   = np.array([0.1, 0.2, 0.3, 0.4, 0.5])\n",
    "zGoldenSample = np.array([4.111, 4.260, 3.240, 4.072, 3.655, 2.800, 3.835, 4.728, 3.400, 3.123, 4.147, 4.040, 3.093, 4.190, 3.370, 3.765, 3.765, 4.780, 3.700, 3.273, 3.090, 3.703, 3.712, 3.783, 3.685, 3.549, 3.897, 3.280, 3.473, 4.771])"
   ]
  },
  {
   "cell_type": "markdown",
   "id": "827aa18a",
   "metadata": {},
   "source": [
    "### - Uncertainties"
   ]
  },
  {
   "cell_type": "code",
   "execution_count": 11,
   "id": "1d5558b2",
   "metadata": {},
   "outputs": [],
   "source": [
    "unc_zLiske = uncLiske_spect_velocity(zLiske)\n",
    "unc_zSKA   = uncSKA_spect_velocity(zSKA, h, OmegaM, w0=-1, wa=0, NrYears=.5)\n",
    "unc_zGoldenSample = np.zeros(30) + 22.8"
   ]
  },
  {
   "cell_type": "markdown",
   "id": "fa7a3a60",
   "metadata": {},
   "source": [
    "# Fisher Matrices\n",
    "## - No Priors\n",
    "#### $\\Lambda$CDM"
   ]
  },
  {
   "cell_type": "code",
   "execution_count": 12,
   "id": "7fbf1d75",
   "metadata": {},
   "outputs": [],
   "source": [
    "FM_LCDM_Liske_np_z  = FisherMatrix_z(zLiske, unc_zLiske, h, OmegaM, w0=None, wa=None, NrYears=20, analysis = 'redshift')\n",
    "FM_LCDM_SKA_np_z    = FisherMatrix_z(zSKA , unc_zSKA, h, OmegaM, w0=None, wa=None, NrYears=.5, analysis = 'redshift')\n",
    "FM_LCDM_GoldenSample_np_z = FisherMatrix_z(zGoldenSample, unc_zGoldenSample, h, OmegaM, w0=None, wa=None, NrYears=25, analysis = 'redshift')\n",
    "\n",
    "FM_LCDM_LiskeSKA_np_z = FM_LCDM_Liske_np_z + FM_LCDM_SKA_np_z\n",
    "FM_LCDM_GoldenSKA_np_z = FM_LCDM_GoldenSample_np_z + FM_LCDM_SKA_np_z"
   ]
  },
  {
   "cell_type": "markdown",
   "id": "4e4dd361",
   "metadata": {},
   "source": [
    "#### CPL"
   ]
  },
  {
   "cell_type": "code",
   "execution_count": 13,
   "id": "b56e6de8",
   "metadata": {},
   "outputs": [],
   "source": [
    "FM_CPL_Liske_np_z = FisherMatrix_z(zLiske, unc_zLiske, h, OmegaM, w0=-0.9, wa=0.3, NrYears=20, analysis = 'redshift')\n",
    "FM_CPL_SKA_np_z   = FisherMatrix_z(zSKA, unc_zSKA, h, OmegaM, w0=-0.9, wa=0.3, NrYears=.5, analysis = 'redshift')\n",
    "FM_CPL_GoldenSample_np_z = FisherMatrix_z(zGoldenSample, unc_zGoldenSample, h, OmegaM, w0=-0.9, wa=0.3, NrYears=25, analysis = 'redshift')\n",
    "\n",
    "FM_CPL_LiskeSKA_np_z = FM_CPL_Liske_np_z + FM_CPL_SKA_np_z\n",
    "FM_CPL_GoldenSKA_np_z = FM_CPL_GoldenSample_np_z + FM_CPL_SKA_np_z"
   ]
  },
  {
   "cell_type": "markdown",
   "id": "88cebd9f",
   "metadata": {},
   "source": [
    "## - With Priors\n",
    "#### $\\Lambda$CDM"
   ]
  },
  {
   "cell_type": "code",
   "execution_count": 14,
   "id": "288b8456",
   "metadata": {},
   "outputs": [],
   "source": [
    "#Priors in h and OmegaM\n",
    "FM_LCDM_Liske_pOH = add1DPriors(FM_LCDM_Liske_np_z, [[unch,0],[uncOmegaM,1]])\n",
    "FM_LCDM_SKA_pOH = add1DPriors(FM_LCDM_SKA_np_z, [[unch,0],[uncOmegaM,1]])\n",
    "FM_LCDM_GoldenSample_pOH = add1DPriors(FM_LCDM_GoldenSample_np_z, [[unch,0],[uncOmegaM,1]])\n",
    "\n",
    "PriorsOnly = np.zeros((2,2))\n",
    "PriorsOnly = add1DPriors(PriorsOnly, [[unch,0],[uncOmegaM,1]])\n",
    "\n",
    "FM_LCDM_LiskeSKA_pOH = FM_LCDM_Liske_pOH + FM_LCDM_SKA_pOH\n",
    "FM_LCDM_GoldenSKA_pOH = FM_LCDM_GoldenSample_pOH + FM_LCDM_SKA_pOH"
   ]
  },
  {
   "cell_type": "code",
   "execution_count": 15,
   "id": "1ccd7b56",
   "metadata": {},
   "outputs": [],
   "source": [
    "#Current Priors cur_z=1 - Planck\n",
    "FM_LCDM_Liske_pCur_z = addPriors_z(FM_LCDM_Liske_np_z, cur_z=1)\n",
    "FM_LCDM_SKA_pCur_z   = addPriors_z(FM_LCDM_SKA_np_z  , cur_z=1)\n",
    "FM_LCDM_GoldenSample_pCur_z = addPriors_z(FM_LCDM_GoldenSample_np_z, cur_z=1)\n",
    "\n",
    "FM_LCDM_LiskeSKA_pCur_z = addPriors_z(FM_LCDM_LiskeSKA_np_z, cur_z=1)\n",
    "FM_LCDM_GoldenSKA_pCur_z = addPriors_z(FM_LCDM_GoldenSKA_np_z, cur_z=1)"
   ]
  },
  {
   "cell_type": "markdown",
   "id": "be43af05",
   "metadata": {},
   "source": [
    "#### CPL"
   ]
  },
  {
   "cell_type": "code",
   "execution_count": 16,
   "id": "81b9a7c9",
   "metadata": {},
   "outputs": [],
   "source": [
    "#Priors in h,OmegaM,w0,wa \n",
    "FM_CPL_Liske_pOH = add1DPriors(FM_CPL_Liske_np_z, [[unch,0],[uncOmegaM,1],[uncw0Cur,2], [uncwaCur,3]])\n",
    "FM_CPL_SKA_pOH = add1DPriors(FM_CPL_SKA_np_z, [[unch,0],[uncOmegaM,1],[uncw0Cur,2], [uncwaCur,3]])\n",
    "FM_CPL_GoldenSample_pOH = add1DPriors(FM_CPL_GoldenSample_np_z, [[unch,0],[uncOmegaM,1],[uncw0Cur,2], [uncwaCur,3]])\n",
    "\n",
    "FM_CPL_LiskeSKA_pOH = FM_CPL_Liske_pOH + FM_CPL_SKA_pOH\n",
    "FM_CPL_GoldenSKA_pOH = FM_CPL_GoldenSample_pOH + FM_CPL_SKA_pOH"
   ]
  },
  {
   "cell_type": "markdown",
   "id": "68edee6e",
   "metadata": {},
   "source": [
    "# Confidence ellipses (1-sigma)\n",
    "#### $\\Lambda$CDM"
   ]
  },
  {
   "cell_type": "code",
   "execution_count": 17,
   "id": "e2e6153e",
   "metadata": {},
   "outputs": [],
   "source": [
    "def grafhOm(h,OmegaM,w0,wa,Fs,*model): \n",
    "    ells,nn = [],[]\n",
    "    if model != () :\n",
    "        nn.append('_'+model[0]+'_')\n",
    "    for i in range(len(Fs)):\n",
    "        try: # if the matrix is 4x4, marginalizes wa\n",
    "            Fs[i][3][3]\n",
    "            Fm = marginalize(Fs[i],'wa',analysis='redshift')\n",
    "        except IndexError:\n",
    "            Fm = np.copy(Fs[i])\n",
    "        try: # if the matrix is 3x3, marginalizes w0\n",
    "            Fm[2][2]\n",
    "            Fm = marginalize(Fm,'w0',analysis='redshift')\n",
    "        except IndexError:\n",
    "            pass\n",
    "        Pa = preelipse(Fm)\n",
    "        color,name,style = colornamestyle(Fs[i])\n",
    "        ells.append([h,OmegaM,Pa[0],Pa[1],Pa[2],name,color,style])\n",
    "        if name[-3:] not in nn:\n",
    "            nn.append(name[-3:])\n",
    "    ellipses(ells,['h','$\\Omega_m$'])\n",
    "    plt.xlim(-1.2,2.6)\n",
    "    plt.ylim(0.0,0.6)\n",
    "    plt.tick_params(axis='both', which='major', labelsize=12)\n",
    "    #   plt.savefig('hOm.png', dpi=300, bbox_inches='tight')\n",
    "    plt.show()\n",
    "    \n",
    "#grafhOm(h,OmegaM,w0,wa,np.array([FM_LCDM_Liske_np_z, FM_LCDM_SKA_np_z,FM_LCDM_GoldenSample_np_z]))"
   ]
  },
  {
   "cell_type": "markdown",
   "id": "d1d78b8c",
   "metadata": {},
   "source": [
    "#### CPL"
   ]
  },
  {
   "cell_type": "code",
   "execution_count": 18,
   "id": "41d577bc",
   "metadata": {},
   "outputs": [],
   "source": [
    "def CPLRedwaw0(w0,wa,Fs): \n",
    "    ells = []\n",
    "    for i in range(len(Fs)):\n",
    "        Fm = marginalize(Fs[i],'OmegaM',analysis='redshift')\n",
    "        Fm = marginalize(Fm,'h',analysis='redshift')\n",
    "        Pa = preelipse(Fm)\n",
    "        color,name,style = colornamestyle(Fs[i])\n",
    "        ells.append([w0,wa, Pa[0],Pa[1],Pa[2],name,color,style])\n",
    "    ellipses(ells,['$w_0$','$w_a$'])\n",
    "    plt.tick_params(axis='both', which='major', labelsize=12)\n",
    "    #plt.savefig('CPLRedwaw0.png', dpi=300, bbox_inches='tight')\n",
    "    plt.show()\n",
    "    \n",
    "#CPLRedwaw0(-0.9,0.3,[FM_CPL_Liske_pOH,FM_CPL_SKA_pOH,FM_CPL_GoldenSample_pOH])"
   ]
  },
  {
   "cell_type": "code",
   "execution_count": 19,
   "id": "60a6315d",
   "metadata": {},
   "outputs": [],
   "source": [
    "def CPLRedOmegaMw0(OmegaM,w0,Fs): \n",
    "    ells = []\n",
    "    for i in range(len(Fs)):\n",
    "        Fm = marginalize(Fs[i],'wa',analysis='redshift')\n",
    "        Fm = marginalize(Fm,'h',analysis='redshift')\n",
    "        Pa = preelipse(Fm)\n",
    "        color,name,style = colornamestyle(Fs[i])\n",
    "        ells.append([OmegaM,w0, Pa[0],Pa[1],Pa[2],name,color,style])\n",
    "    ellipses(ells,['$\\Omega_m$','$w_0$'])\n",
    "    plt.tick_params(axis='both', which='major', labelsize=12)\n",
    "    #plt.savefig('CPLOmegaMwa.png', dpi=300, bbox_inches='tight')\n",
    "    plt.show()\n",
    "    \n",
    "#CPLRedOmegaMw0(0.3,-0.9,[FM_CPL_Liske_pOH,FM_CPL_SKA_pOH,FM_CPL_GoldenSample_pOH])"
   ]
  },
  {
   "cell_type": "code",
   "execution_count": 20,
   "id": "c24842a7",
   "metadata": {},
   "outputs": [],
   "source": [
    "def CPLRedOmegaMh(OmegaM,h,Fs): \n",
    "    ells = []\n",
    "    for i in range(len(Fs)):\n",
    "        Fm = marginalize(Fs[i],'wa',analysis='redshift')\n",
    "        Fm = marginalize(Fm,'w0',analysis='redshift')\n",
    "        Pa = preelipse(Fm)\n",
    "        color,name,style = colornamestyle(Fs[i])\n",
    "        ells.append([h,OmegaM, Pa[0],Pa[1],Pa[2],name,color,style])\n",
    "    ellipses(ells,['$h$','$\\Omega_m$'])\n",
    "    plt.tick_params(axis='both', which='major', labelsize=12)\n",
    "    plt.xlim(0.6,0.8)\n",
    "    plt.ylim(0.25,0.35)\n",
    "    #plt.savefig('CPLRedOmegaMh.png', dpi=300, bbox_inches='tight')\n",
    "    plt.show()\n",
    "    \n",
    "#CPLRedOmegaMh(0.3,0.7,[FM_CPL_Liske_pOH,FM_CPL_SKA_pOH,FM_CPL_GoldenSample_pOH])"
   ]
  },
  {
   "cell_type": "code",
   "execution_count": 21,
   "id": "1ec4bc34",
   "metadata": {},
   "outputs": [],
   "source": [
    "def CPLRedOmegaMwa(OmegaM,wa,Fs): \n",
    "    ells = []\n",
    "    for i in range(len(Fs)):\n",
    "        Fm = marginalize(Fs[i],'w0',analysis='redshift')\n",
    "        Fm = marginalize(Fm,'h',analysis='redshift')\n",
    "        Pa = preelipse(Fm)\n",
    "        color,name,style = colornamestyle(Fs[i])\n",
    "        ells.append([OmegaM,wa, Pa[0],Pa[1],Pa[2],name,color,style])\n",
    "    ellipses(ells,['$\\Omega_m$','$w_a$'])\n",
    "    plt.tick_params(axis='both', which='major', labelsize=12)\n",
    "    #plt.savefig('CPLOmegaMwa.png', dpi=300, bbox_inches='tight')\n",
    "    plt.show()\n",
    "    \n",
    "#CPLRedOmegaMwa(0.3,0.3,[FM_CPL_Liske_pOH,FM_CPL_SKA_pOH,FM_CPL_GoldenSample_pOH])"
   ]
  },
  {
   "cell_type": "code",
   "execution_count": 22,
   "id": "8749a2ee",
   "metadata": {},
   "outputs": [],
   "source": [
    "def CPLRedhwa(h,wa,Fs): \n",
    "    ells = []\n",
    "    for i in range(len(Fs)):\n",
    "        Fm = marginalize(Fs[i],'w0',analysis='redshift')\n",
    "        Fm = marginalize(Fm,'OmegaM',analysis='redshift')\n",
    "        Pa = preelipse(Fm)\n",
    "        color,name,style = colornamestyle(Fs[i])\n",
    "        ells.append([wa,h, Pa[0],Pa[1],Pa[2],name,color,style])\n",
    "    ellipses(ells,['$w_a$','h'])\n",
    "    plt.tick_params(axis='both', which='major', labelsize=12)\n",
    "    #plt.savefig('CPLOmegaMwa.png', dpi=300, bbox_inches='tight')\n",
    "    plt.show()\n",
    "    \n",
    "#CPLRedhwa(0.7,0.3,[FM_CPL_Liske_pOH,FM_CPL_SKA_pOH,FM_CPL_GoldenSample_pOH])"
   ]
  },
  {
   "cell_type": "code",
   "execution_count": 23,
   "id": "e125b6d0",
   "metadata": {},
   "outputs": [],
   "source": [
    "def CPLRedhw0(h,w0,Fs): \n",
    "    ells = []\n",
    "    for i in range(len(Fs)):\n",
    "        Fm = marginalize(Fs[i],'wa',analysis='redshift')\n",
    "        Fm = marginalize(Fm,'OmegaM',analysis='redshift')\n",
    "        Pa = preelipse(Fm)\n",
    "        color,name,style = colornamestyle(Fs[i])\n",
    "        ells.append([w0,h, Pa[0],Pa[1],Pa[2],name,color,style])\n",
    "    ellipses(ells,['$w_0$','h'])\n",
    "    plt.tick_params(axis='both', which='major', labelsize=12)\n",
    "    #plt.savefig('CPLOmegaMwa.png', dpi=300, bbox_inches='tight')\n",
    "    plt.show()\n",
    "    \n",
    "#CPLRedhw0(0.7,-0.9,[FM_CPL_Liske_pOH,FM_CPL_SKA_pOH,FM_CPL_GoldenSample_pOH])"
   ]
  },
  {
   "cell_type": "markdown",
   "id": "252814c2",
   "metadata": {},
   "source": [
    "# FoM vs $\\sigma_v$ for the Golden Sample analysis"
   ]
  },
  {
   "cell_type": "code",
   "execution_count": 24,
   "id": "e7295648",
   "metadata": {},
   "outputs": [],
   "source": [
    "sigma = np.arange(0.9, 22.8+0.1, 0.1)   \n",
    "FOM = np.zeros(len(sigma))\n",
    "RHO = np.zeros(len(sigma))\n",
    "\n",
    "for i in range(len(sigma)):\n",
    "    sigmaV = np.zeros(30) + sigma[i]\n",
    "    FOM_aux = FisherMatrix_z(zGoldenSample, sigmaV, h, OmegaM, w0=None, wa=None, NrYears=25, analysis = 'redshift')\n",
    "    FOM[i], RHO[i] = FigMeriteRho(FOM_aux,[],analysis='redshift')"
   ]
  },
  {
   "cell_type": "code",
   "execution_count": 25,
   "id": "86fd1ec2",
   "metadata": {},
   "outputs": [],
   "source": [
    "sigma2 = np.arange(0.9, 22.8+0.1, 0.01)   \n",
    "FOM2 = np.zeros(len(sigma2))\n",
    "RHO2 = np.zeros(len(sigma2))\n",
    "\n",
    "for i in range(len(sigma2)):\n",
    "    sigmaV2 = np.zeros(30) + sigma2[i]\n",
    "    FOM_aux2 = FisherMatrix_z(zGoldenSample, sigmaV2, h, OmegaM, w0=None, wa=None, NrYears=25, analysis = 'redshift')\n",
    "    FOM_aux3 = add1DPriors(FOM_aux2, [[unch,0],[uncOmegaM,1]])\n",
    "    FOM2[i], RHO2[i] = FigMeriteRho(FOM_aux3,[],analysis='redshift')"
   ]
  },
  {
   "cell_type": "code",
   "execution_count": 26,
   "id": "23b70e78",
   "metadata": {},
   "outputs": [],
   "source": [
    "sigma3 = np.arange(0.9, 22.8+0.1, 0.01)   \n",
    "FOM3 = np.zeros(len(sigma3))\n",
    "RHO3 = np.zeros(len(sigma3))\n",
    "\n",
    "for i in range(len(sigma3)):\n",
    "    sigmaV3 = np.zeros(30) + sigma3[i]\n",
    "    FOM_aux4 = FisherMatrix_z(zGoldenSample, sigmaV3, h, OmegaM, w0=None, wa=None, NrYears=25, analysis = 'redshift')\n",
    "    FOM_aux5 = addPriors_z(FOM_aux4, cur_z=1)\n",
    "    FOM3[i], RHO3[i] = FigMeriteRho(FOM_aux5,[],analysis='redshift')"
   ]
  },
  {
   "cell_type": "code",
   "execution_count": 27,
   "id": "ac6897b2",
   "metadata": {},
   "outputs": [],
   "source": [
    "def intercept(sigma, FOM, value):\n",
    "    interp = InterpolatedUnivariateSpline(sigma, FOM - value)\n",
    "    root = interp.roots()\n",
    "    return root[0], interp(root[0])  + value"
   ]
  },
  {
   "cell_type": "markdown",
   "id": "ef83b957",
   "metadata": {},
   "source": [
    "#### No Priors"
   ]
  },
  {
   "cell_type": "code",
   "execution_count": 28,
   "id": "3133384e",
   "metadata": {},
   "outputs": [],
   "source": [
    "fig = plt.figure(figsize=[10, 8])\n",
    "\n",
    "target_value = FigMeriteRho(FM_LCDM_Liske_np_z,[],analysis='redshift')[0]\n",
    "\n",
    "plt.plot(sigma, FOM, color = 'purple')\n",
    "plt.hlines(target_value, sigma[0], sigma[-1], color = 'blue')\n",
    "plt.ylabel('FoM', fontsize=16)\n",
    "plt.xlabel(r'$\\sigma_v$',fontsize=16)\n",
    "\n",
    "x_pos, y_pos = intercept(sigma, FOM, target_value)\n",
    "\n",
    "my_formatter = \"{0:.2f}\"\n",
    "my_formatter2 = \"{:.0f}\"\n",
    "x_pos, y_pos = float(x_pos), float(y_pos)\n",
    "plt.text (x_pos, y_pos+8,'({}, {})'. format(my_formatter.format(x_pos), my_formatter2.format(y_pos)), fontsize=12)\n",
    "\n",
    "plt.scatter(x_pos, y_pos, color = 'black')\n",
    "\n",
    "plt.ylim(0,400)\n",
    "plt.tick_params(axis='both', which='major', labelsize=12)\n",
    "#Comment to display the graphic:\n",
    "plt.close()\n",
    "#plt.savefig('a.png', dpi=300, bbox_inches='tight')"
   ]
  },
  {
   "cell_type": "markdown",
   "id": "0fa7a0d6",
   "metadata": {},
   "source": [
    "#### Separate Priors"
   ]
  },
  {
   "cell_type": "code",
   "execution_count": 29,
   "id": "f936fc9a",
   "metadata": {},
   "outputs": [],
   "source": [
    "fig = plt.figure(figsize=[10, 8])\n",
    "plt.ylabel('FoM', fontsize=16)\n",
    "plt.xlabel(r'$\\sigma_v$',fontsize=16)\n",
    "\n",
    "target_value = FigMeriteRho(FM_LCDM_Liske_pOH,[],analysis='redshift')[0]\n",
    "plt.plot (sigma2, FOM2, color = 'purple')\n",
    "plt.hlines(target_value, sigma2[0], sigma2[-1], color = 'blue')\n",
    "\n",
    "my_formatter = \"{0:.2f}\"\n",
    "my_formatter2 = \"{:.0f}\"\n",
    "\n",
    "x_pos2, y_pos2 = intercept(sigma2, FOM2, target_value)\n",
    "x_pos2, y_pos2 = float(x_pos2), float(y_pos2)\n",
    "plt.text (x_pos2, y_pos2+25,'({}, {})'. format(my_formatter.format(x_pos2), my_formatter2.format(y_pos2)), fontsize=12)\n",
    "\n",
    "plt.scatter(x_pos2, y_pos2, color = 'black')\n",
    "\n",
    "plt.ylim(200,2000)\n",
    "plt.tick_params(axis='both', which='major', labelsize=12)\n",
    "#Comment to display the graphic:\n",
    "plt.close()\n",
    "#plt.savefig('b.png', dpi=300, bbox_inches='tight')"
   ]
  },
  {
   "cell_type": "markdown",
   "id": "5a7ea1a1",
   "metadata": {},
   "source": [
    "#### Planck Prior"
   ]
  },
  {
   "cell_type": "code",
   "execution_count": 30,
   "id": "4211a813",
   "metadata": {},
   "outputs": [],
   "source": [
    "fig = plt.figure(figsize=[10, 8])\n",
    "plt.ylabel('FoM', fontsize=16)\n",
    "plt.xlabel(r'$\\sigma_v$',fontsize=16)\n",
    "\n",
    "target_value = FigMeriteRho(FM_LCDM_Liske_pCur_z,[],analysis='redshift')[0]\n",
    "plt.plot (sigma3, FOM3, color = 'purple')\n",
    "plt.hlines(target_value, sigma3[0], sigma3[-1], color = 'blue')\n",
    "\n",
    "my_formatter = \"{0:.2f}\"\n",
    "my_formatter2 = \"{:.0f}\"\n",
    "\n",
    "x_pos3, y_pos3 = intercept(sigma3, FOM3, target_value)\n",
    "x_pos3, y_pos3 = float(x_pos3), float(y_pos3)\n",
    "plt.text (x_pos3, y_pos3+300,'({}, {})'. format(my_formatter.format(x_pos3), my_formatter2.format(y_pos3)), fontsize=12)\n",
    "\n",
    "plt.scatter(x_pos3, y_pos3, color = 'black')\n",
    "\n",
    "plt.ylim(2000,20000)\n",
    "plt.tick_params(axis='both', which='major', labelsize=12)\n",
    "#Comment to display the graphic:\n",
    "plt.close()\n",
    "#plt.savefig('c.png', dpi=300, bbox_inches='tight')"
   ]
  },
  {
   "cell_type": "markdown",
   "id": "b7861a1b",
   "metadata": {},
   "source": [
    "# Tables\n",
    "#### $\\Lambda$CDM"
   ]
  },
  {
   "cell_type": "code",
   "execution_count": 31,
   "id": "4a918b72",
   "metadata": {},
   "outputs": [],
   "source": [
    "def tableLambdaCDM(matrices):\n",
    "    i=0\n",
    "    df=pd.DataFrame()\n",
    "    nformat = \"{:.0f}\"\n",
    "\n",
    "    for matrix in matrices:\n",
    "        columns = {'ρ(h, Ωm)':FigMeriteRho(matrix,[],analysis='redshift')[1], \n",
    "                  'FoM(h, Ωm)': nformat.format(FigMeriteRho(matrix,[],analysis='redshift')[0]), \n",
    "                  'σ(h)':Sigmas(matrix)[0],\n",
    "                  'σ(Ωm)':Sigmas(matrix)[1]}\n",
    "        i+=1\n",
    "        df = df.append(columns, ignore_index=True)\n",
    "        del columns\n",
    "    Priors = ['None', 'Separated', 'Planck', 'None', 'Separated', 'Planck', 'None', 'Separated', 'Planck', 'None', 'Separated', 'Planck', 'None', 'Separated', 'Planck']\n",
    "    Datasets = ['','Liske', '', '','Golden Sample', '', '', 'SKA','', '', 'Liske+SKA','', '', 'Golden Sample + SKA', '']\n",
    "    df.insert(0, \"Datasets\", Datasets, True)\n",
    "    df.insert(1, 'Priors', Priors, True)\n",
    "    \n",
    "    return df"
   ]
  },
  {
   "cell_type": "code",
   "execution_count": 32,
   "id": "f0dc7fcc",
   "metadata": {},
   "outputs": [],
   "source": [
    "#ΛCDM - Liske + Golden Sample + SKA + (Liske+SKA) + (GoldenSample + SKA)\n",
    "\n",
    "#matrices = [FM_LCDM_Liske_np_z, FM_LCDM_Liske_pOH, FM_LCDM_Liske_pCur_z,\n",
    "#            FM_LCDM_GoldenSample_np_z, FM_LCDM_GoldenSample_pOH, FM_LCDM_GoldenSample_pCur_z,\n",
    "#            FM_LCDM_SKA_np_z, FM_LCDM_SKA_pOH, FM_LCDM_SKA_pCur_z,  \n",
    "#            FM_LCDM_LiskeSKA_np_z, FM_LCDM_LiskeSKA_pOH, FM_LCDM_LiskeSKA_pCur_z, \n",
    "#            FM_LCDM_GoldenSKA_np_z, FM_LCDM_GoldenSKA_pOH, FM_LCDM_GoldenSKA_pCur_z]\n",
    "#tab1 = tableLambdaCDM(matrices)\n",
    "\n",
    "#See the table in DataFrame:\n",
    "#tab1\n",
    "\n",
    "#Transform dataframe to latex code:\n",
    "#print(tab1.to_latex(index=False, float_format=\"%.3f\"))"
   ]
  },
  {
   "cell_type": "markdown",
   "id": "a4d88ff5",
   "metadata": {},
   "source": [
    "#### CPL"
   ]
  },
  {
   "cell_type": "code",
   "execution_count": 33,
   "id": "3fa92f55",
   "metadata": {},
   "outputs": [],
   "source": [
    "def tableCPL(matrices):\n",
    "    i=0\n",
    "    df=pd.DataFrame()\n",
    "    nformat = \"{:.0f}\"\n",
    "    float_format=\"{:.3f}\"\n",
    "    \n",
    "\n",
    "    for matrix in matrices:\n",
    "        rows = {'ρ(h, Ωm)':float_format.format(FigMeriteRho(matrix,['w0','wa'],analysis='redshift')[1]),\n",
    "                'ρ(Ωm, w0)':float_format.format(FigMeriteRho(matrix,['h','wa'],analysis='redshift')[1]),\n",
    "                'ρ(h, w0)':float_format.format(FigMeriteRho(matrix,['OmegaM','wa'],analysis='redshift')[1]),                       \n",
    "                'ρ(Ωm, wa)':float_format.format(FigMeriteRho(matrix,['h','w0'],analysis='redshift')[1]),\n",
    "                'ρ(h, wa)':float_format.format(FigMeriteRho(matrix,['OmegaM','w0'],analysis='redshift')[1]),\n",
    "                'ρ(w0, wa)':float_format.format(FigMeriteRho(matrix,['h','OmegaM'],analysis='redshift')[1]),\n",
    "                'FoM(h, Ωm)': nformat.format(FigMeriteRho(matrix,['w0','wa'],analysis='redshift')[0]),\n",
    "                'FoM(Ωm, w0)': nformat.format(FigMeriteRho(matrix,['h','wa'],analysis='redshift')[0]),\n",
    "                'FoM(h, w0)': nformat.format(FigMeriteRho(matrix,['OmegaM','wa'],analysis='redshift')[0]),\n",
    "                'FoM(Ωm, wa)': nformat.format(FigMeriteRho(matrix,['h','w0'],analysis='redshift')[0]),\n",
    "                'FoM(h, wa)': nformat.format(FigMeriteRho(matrix,['OmegaM','w0'],analysis='redshift')[0]),\n",
    "                'FoM(w0, wa)': nformat.format(FigMeriteRho(matrix,['h','OmegaM'],analysis='redshift')[0]),\n",
    "                'σ(h)':float_format.format(Sigmas(matrix)[0]),\n",
    "                'σ(Ωm)':float_format.format(Sigmas(matrix)[1]),\n",
    "                'σ(w0)':float_format.format(Sigmas(matrix)[2]),\n",
    "                'σ(wa)':float_format.format(Sigmas(matrix)[3])}\n",
    "        i+=1\n",
    "        \n",
    "        df = df.append(rows,ignore_index=True)\n",
    "        del rows\n",
    "    \n",
    "    \n",
    "    Datasets = ['Liske','Golden Sample', 'SKA', 'Liske+SKA', 'Golden Sample + SKA']\n",
    "    df.insert(0, \"Parameters\", Datasets, True)\n",
    "    \n",
    "    df = df.transpose()\n",
    "    \n",
    "            \n",
    "    return df"
   ]
  },
  {
   "cell_type": "code",
   "execution_count": 34,
   "id": "26e8c735",
   "metadata": {},
   "outputs": [],
   "source": [
    "#CPL - Liske + Golden Sample + SKA + (Liske+SKA) + (GoldenSample + SKA)\n",
    "\n",
    "#matricesCPL = [FM_CPL_Liske_pOH, FM_CPL_GoldenSample_pOH, FM_CPL_SKA_pOH, \n",
    "#               FM_CPL_LiskeSKA_pOH, FM_CPL_GoldenSKA_pOH]\n",
    "#tab1 = tableCPL(matricesCPL)\n",
    "\n",
    "#See the table in DataFrame:\n",
    "#tab1\n",
    "\n",
    "#Transform dataframe to latex code:\n",
    "#print(tab1.to_latex(header=False,index=True))"
   ]
  },
  {
   "cell_type": "code",
   "execution_count": null,
   "id": "034bf663",
   "metadata": {},
   "outputs": [],
   "source": []
  }
 ],
 "metadata": {
  "kernelspec": {
   "display_name": "Python 3 (ipykernel)",
   "language": "python",
   "name": "python3"
  },
  "language_info": {
   "codemirror_mode": {
    "name": "ipython",
    "version": 3
   },
   "file_extension": ".py",
   "mimetype": "text/x-python",
   "name": "python",
   "nbconvert_exporter": "python",
   "pygments_lexer": "ipython3",
   "version": "3.7.9"
  }
 },
 "nbformat": 4,
 "nbformat_minor": 5
}
