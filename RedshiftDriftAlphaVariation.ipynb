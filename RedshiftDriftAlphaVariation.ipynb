{
 "cells": [
  {
   "cell_type": "code",
   "execution_count": 1,
   "id": "b72c7191",
   "metadata": {},
   "outputs": [],
   "source": [
    "%run Main.ipynb\n",
    "%run RedshiftDrift.ipynb\n",
    "%run AlphaVariation.ipynb"
   ]
  },
  {
   "cell_type": "markdown",
   "id": "5f7d7faa",
   "metadata": {},
   "source": [
    "# Redshift Drift + Alpha Variation\n",
    "### Bekenstein (flat ΛCDM case) $(\\zeta_\\Lambda = \\zeta_m = -0.1)$"
   ]
  },
  {
   "cell_type": "code",
   "execution_count": 2,
   "id": "cb535a9c",
   "metadata": {},
   "outputs": [],
   "source": [
    "#Redshift(h,OmegaM)\n",
    "BEK_Red_Liske = FisherMatrix_z(zLiske,unc_zLiske,h, OmegaM=0.3, w0=None, wa=None, NrYears=20, analysis = 'redshift')\n",
    "BEK_Red_Liske = add1DPriors(BEK_Red_Liske, [[unch,0],[uncOmegaM,1]])\n",
    "\n",
    "BEK_Red_GoldenSample = FisherMatrix_z(zGoldenSample,unc_zGoldenSample,h, OmegaM=0.3, w0=None, wa=None, NrYears=25, analysis = 'redshift')\n",
    "BEK_Red_GoldenSample = add1DPriors(BEK_Red_GoldenSample, [[unch,0],[uncOmegaM,1]])\n",
    "\n",
    "\n",
    "\n",
    "#Alpha(OmegaM,zetaM,zetaL)\n",
    "BEK_AlphaB = BEK_AlphaB\n",
    "BEK_AlphaO = BEK_AlphaO\n",
    "\n",
    "\n",
    "#Redshift+Alpha(h,OmegaM,zetaM,zetaL)\n",
    "BEKRedalpha_Liske = FisherMatrix_z(zLiske,unc_zLiske,h, OmegaM=0.3, w0=None, wa=None, NrYears=20, analysis = 'redshift+alpha')\n",
    "BEKRedalpha_GoldenSample = FisherMatrix_z(zGoldenSample,unc_zGoldenSample,h, OmegaM=0.3, w0=None, wa=None, NrYears=25, analysis = 'redshift+alpha')\n",
    "\n",
    "##Baseline\n",
    "BEKBalpha1 = FisherMatrix_ab(zAndes_15baseline, uncAndes_15baseline, OmegaM=0.3, w0=None, wa=None, Zl=-0.1, Zm=-0.1, OCP= 'parameter', analysis = 'redshift+alpha')\n",
    "BEKBalpha2 = FisherMatrix_ab(zAndes_10baseline, uncAndes_10baseline, OmegaM=0.3, w0=None, wa=None, Zl=-0.1, Zm=-0.1, OCP= 'parameter', analysis = 'redshift+alpha')\n",
    "BEKBalpha = BEKBalpha1 + BEKBalpha2\n",
    "\n",
    "FpriorClocksBEK = np.zeros((7,7))\n",
    "FpriorClocksBEK[4:6,4:6] += FpriorClocks_Oparam\n",
    "\n",
    "BEK_RedAlphaB_Liske = BEKRedalpha_Liske + BEKBalpha\n",
    "BEK_RedAlphaB_Liske += FpriorClocksBEK\n",
    "BEK_RedAlphaB_Liske = add1DPriors(BEK_RedAlphaB_Liske, [[unch,0],[uncOmegaM,1]])\n",
    "M7_BEK_B = BEK_RedAlphaB_Liske\n",
    "BEK_RedAlphaB_Liske = np.delete(BEK_RedAlphaB_Liske,[2,3,6],0)\n",
    "BEK_RedAlphaB_Liske = np.delete(BEK_RedAlphaB_Liske,[2,3,6],1)\n",
    "\n",
    "BEK_RedAlphaB_GoldenSample = BEKRedalpha_GoldenSample + BEKBalpha\n",
    "BEK_RedAlphaB_GoldenSample += FpriorClocksBEK\n",
    "BEK_RedAlphaB_GoldenSample = add1DPriors(BEK_RedAlphaB_GoldenSample, [[unch,0],[uncOmegaM,1]])\n",
    "BEK_RedAlphaB_GoldenSample = np.delete(BEK_RedAlphaB_GoldenSample,[2,3,6],0)\n",
    "BEK_RedAlphaB_GoldenSample = np.delete(BEK_RedAlphaB_GoldenSample,[2,3,6],1)\n",
    "\n",
    "\n",
    "##Optimistic\n",
    "BEKOalpha1 = FisherMatrix_ab(zAndes_20optimistic, uncAndes_20optimistic, OmegaM=0.3, w0=None, wa=None, Zl=-0.1, Zm=-0.1, OCP= 'parameter', analysis = 'redshift+alpha')\n",
    "BEKOalpha2 = FisherMatrix_ab(zAndes_15optimistic1, uncAndes_15optimistic1, OmegaM=0.3, w0=None, wa=None, Zl=-0.1, Zm=-0.1, OCP= 'parameter', analysis = 'redshift+alpha')\n",
    "BEKOalpha3 = FisherMatrix_ab(zAndes_15optimistic2, uncAndes_15optimistic2, OmegaM=0.3, w0=None, wa=None, Zl=-0.1, Zm=-0.1, OCP= 'parameter', analysis = 'redshift+alpha')\n",
    "BEK_Oalpha = BEKOalpha1 + BEKOalpha2 + BEKOalpha3\n",
    "\n",
    "BEK_RedAlphaO_Liske = BEKRedalpha_Liske + BEK_Oalpha\n",
    "BEK_RedAlphaO_Liske += FpriorClocksBEK\n",
    "BEK_RedAlphaO_Liske = add1DPriors(BEK_RedAlphaO_Liske, [[unch,0],[uncOmegaM,1]])\n",
    "M7_BEK_O = BEK_RedAlphaO_Liske\n",
    "BEK_RedAlphaO_Liske = np.delete(BEK_RedAlphaO_Liske,[2,3,6],0)\n",
    "BEK_RedAlphaO_Liske = np.delete(BEK_RedAlphaO_Liske,[2,3,6],1)\n",
    "\n",
    "BEK_RedAlphaO_GoldenSample = BEKRedalpha_GoldenSample + BEK_Oalpha\n",
    "BEK_RedAlphaO_GoldenSample += FpriorClocksBEK\n",
    "BEK_RedAlphaO_GoldenSample = add1DPriors(BEK_RedAlphaO_GoldenSample, [[unch,0],[uncOmegaM,1]])\n",
    "BEK_RedAlphaO_GoldenSample = np.delete(BEK_RedAlphaO_GoldenSample,[2,3,6],0)\n",
    "BEK_RedAlphaO_GoldenSample = np.delete(BEK_RedAlphaO_GoldenSample,[2,3,6],1)"
   ]
  },
  {
   "cell_type": "markdown",
   "id": "3885aeca",
   "metadata": {},
   "source": [
    "#### - Confidence ellipses (1-sigma)"
   ]
  },
  {
   "cell_type": "code",
   "execution_count": 3,
   "id": "db65e337",
   "metadata": {},
   "outputs": [],
   "source": [
    "def BEKRedAlphaZlZm(Zl,Zm,Fs): \n",
    "    ells = []\n",
    "    for i in range(len(Fs)):\n",
    "        if Fs[i] is BEK_AlphaB:\n",
    "            Fm = marginalize(Fs[i],'OmegaM',analysis='alpha-BEK')\n",
    "        if Fs[i] is BEK_AlphaO:\n",
    "            Fm = marginalize(Fs[i],'OmegaM',analysis='alpha-BEK')\n",
    "        if Fs[i] is BEK_RedAlphaB_Liske:\n",
    "            Fm = marginalize(Fs[i],'OmegaM',analysis='red+alpha-BEK')\n",
    "            Fm = marginalize(Fm,'h',analysis='red+alpha-BEK')\n",
    "        if Fs[i] is BEK_RedAlphaO_Liske:\n",
    "            Fm = marginalize(Fs[i],'OmegaM',analysis='red+alpha-BEK')\n",
    "            Fm = marginalize(Fm,'h',analysis='red+alpha-BEK')\n",
    "        Pa = preelipse(Fm)\n",
    "        color,name,style = colornamestyle2(Fs[i])\n",
    "        ells.append([Zm,Zl, Pa[0],Pa[1],Pa[2],name,color,style])\n",
    "    ellipses(ells,['$\\zeta_m$ (ppm)','$\\zeta_\\Lambda$ (ppm)'])\n",
    "    plt.tick_params(axis='both', which='major', labelsize=20)\n",
    "    plt.xlim(-0.25,0.05)\n",
    "    plt.ylim(-1,0.8)\n",
    "    #plt.savefig('RedAlphaBEKZlZmO.png', dpi=300, bbox_inches='tight')\n",
    "    plt.show()\n",
    "    \n",
    "#BEKRedAlphaZlZm(-0.1,-0.1,[BEK_AlphaB, BEK_RedAlphaB_Liske])\n",
    "#BEKRedAlphaZlZm(-0.1,-0.1,[BEK_AlphaO, BEK_RedAlphaO_Liske])"
   ]
  },
  {
   "cell_type": "code",
   "execution_count": 4,
   "id": "d73bdf75",
   "metadata": {},
   "outputs": [],
   "source": [
    "def BEKRedAlphaZlOmegaM(Zl,OmegaM,Fs): \n",
    "    ells = []\n",
    "    for i in range(len(Fs)):\n",
    "        if Fs[i] is BEK_AlphaB:\n",
    "            Fm = marginalize(Fs[i],'Zm',analysis='alpha-BEK')\n",
    "        if Fs[i] is BEK_AlphaO:\n",
    "            Fm = marginalize(Fs[i],'Zm',analysis='alpha-BEK')\n",
    "        if Fs[i] is BEK_RedAlphaB_Liske:\n",
    "            Fm = marginalize(Fs[i],'Zm',analysis='red+alpha-BEK')\n",
    "            Fm = marginalize(Fm,'h',analysis='red+alpha-BEK')\n",
    "        if Fs[i] is BEK_RedAlphaO_Liske:\n",
    "            Fm = marginalize(Fs[i],'Zm',analysis='red+alpha-BEK')\n",
    "            Fm = marginalize(Fm,'h',analysis='red+alpha-BEK')\n",
    "        Pa = preelipse(Fm)\n",
    "        color,name,style = colornamestyle2(Fs[i])\n",
    "        ells.append([OmegaM,Zl, Pa[0],Pa[1],Pa[2],name,color,style])\n",
    "    ellipses(ells,['$\\Omega_m$','$\\zeta_\\Lambda$ (ppm)'])\n",
    "    plt.tick_params(axis='both', which='major', labelsize=20)\n",
    "    plt.xlim(0.2,0.4)\n",
    "    plt.locator_params(axis=\"x\", nbins=6)\n",
    "    plt.ylim(-1,0.8)\n",
    "    #plt.savefig('RedAlphaBEKZlOmegaMO.png', dpi=300, bbox_inches='tight')\n",
    "    plt.show()\n",
    "    \n",
    "#BEKRedAlphaZlOmegaM(-0.1,0.3,[BEK_AlphaB, BEK_RedAlphaB_Liske])\n",
    "#BEKRedAlphaZlOmegaM(-0.1,0.3,[BEK_AlphaO, BEK_RedAlphaO_Liske])"
   ]
  },
  {
   "cell_type": "code",
   "execution_count": 5,
   "id": "96568aec",
   "metadata": {},
   "outputs": [],
   "source": [
    "def BEKRedAlphaZmOmegaM(Zm,OmegaM,Fs): \n",
    "    ells = []\n",
    "    for i in range(len(Fs)):\n",
    "        if Fs[i] is BEK_AlphaB:\n",
    "            Fm = marginalize(Fs[i],'Zl',analysis='alpha-BEK',)\n",
    "        if Fs[i] is BEK_AlphaO:\n",
    "            Fm = marginalize(Fs[i],'Zl',analysis='alpha-BEK')\n",
    "        if Fs[i] is BEK_RedAlphaB_Liske:\n",
    "            Fm = marginalize(Fs[i],'Zl',analysis='red+alpha-BEK')\n",
    "            Fm = marginalize(Fm,'h',analysis='red+alpha-BEK')\n",
    "        if Fs[i] is BEK_RedAlphaO_Liske:\n",
    "            Fm = marginalize(Fs[i],'Zl',analysis='red+alpha-BEK')\n",
    "            Fm = marginalize(Fm,'h',analysis='red+alpha-BEK')\n",
    "        Pa = preelipse(Fm)\n",
    "        color,name,style = colornamestyle2(Fs[i])\n",
    "        ells.append([OmegaM,Zm, Pa[0],Pa[1],Pa[2],name,color,style])\n",
    "    ellipses(ells,['$\\Omega_m$','$\\zeta_m$ (ppm)'])\n",
    "    plt.tick_params(axis='both', which='major', labelsize=20)\n",
    "    plt.xlim(0.2,0.4)\n",
    "    plt.locator_params(axis=\"x\", nbins=6)\n",
    "    plt.ylim(-0.25,0.05)\n",
    "    #plt.savefig('RedAlphaBEKZmOmegaMO.png', dpi=300, bbox_inches='tight')\n",
    "    plt.show()\n",
    "    \n",
    "#BEKRedAlphaZmOmegaM(-0.1,0.3,[BEK_AlphaB, BEK_RedAlphaB_Liske])\n",
    "#BEKRedAlphaZmOmegaM(-0.1,0.3,[BEK_AlphaO, BEK_RedAlphaO_Liske])"
   ]
  },
  {
   "cell_type": "code",
   "execution_count": 6,
   "id": "4a0d58af",
   "metadata": {},
   "outputs": [],
   "source": [
    "def BEKRedAlphahOmegaM(h,OmegaM,Fs): \n",
    "    ells = []\n",
    "    for i in range(len(Fs)):\n",
    "        if Fs[i] is BEK_Red_Liske:\n",
    "            Fm = BEK_Red_Liske\n",
    "        if Fs[i] is BEK_RedAlphaB_Liske:\n",
    "            Fm = marginalize(Fs[i],'Zl',analysis='red+alpha-BEK')\n",
    "            Fm = marginalize(Fm, 'Zm',analysis='red+alpha-BEK')\n",
    "        if Fs[i] is BEK_RedAlphaO_Liske:\n",
    "            Fm = marginalize(Fs[i],'Zl',analysis='red+alpha-BEK')\n",
    "            Fm = marginalize(Fm,'Zm',analysis='red+alpha-BEK')\n",
    "        Pa = preelipse(Fm)\n",
    "        color,name,style = colornamestyle2(Fs[i])\n",
    "        ells.append([OmegaM,h, Pa[0],Pa[1],Pa[2],name,color,style])\n",
    "    ellipses(ells,['$\\Omega_m$','$h$'])\n",
    "    plt.tick_params(axis='both', which='major', labelsize=20)\n",
    "    plt.xlim(0.2,0.4)\n",
    "    plt.ylim(0.6,0.8)\n",
    "    plt.locator_params(axis=\"x\", nbins=6)\n",
    "    plt.locator_params(axis=\"y\", nbins=8)\n",
    "    #plt.savefig('RedAlphaBEKhOmegaMO.png', dpi=300, bbox_inches='tight')\n",
    "    plt.show()\n",
    "    \n",
    "#BEKRedAlphahOmegaM(0.7,0.3,[BEK_Red_Liske, BEK_RedAlphaB_Liske])\n",
    "#BEKRedAlphahOmegaM(0.7,0.3,[BEK_Red_Liske, BEK_RedAlphaO_Liske])"
   ]
  },
  {
   "cell_type": "markdown",
   "id": "28da6059",
   "metadata": {},
   "source": [
    "#### - Table"
   ]
  },
  {
   "cell_type": "code",
   "execution_count": 7,
   "id": "d79782ab",
   "metadata": {},
   "outputs": [],
   "source": [
    "def tableRedAlphaBEK(matrices):\n",
    "    i=0\n",
    "    df=pd.DataFrame()\n",
    "    nformat = \"{:.0f}\"\n",
    "    float_format=\"{:.3f}\"\n",
    "\n",
    "    for matrix in matrices:\n",
    "        if matrix[1][1] == BEK_RedAlphaB_Liske[1][1] or matrix[1][1] == BEK_RedAlphaO_Liske[1][1]:\n",
    "            rows = {'FoM(Zm, Zl)': nformat.format(FigMeriteRho(matrix,['OmegaM','h'],analysis='red+alpha-BEK')[0]),\n",
    "                    'FoM(Zm, Ωm)': nformat.format(FigMeriteRho(matrix,['Zl','h'],analysis='red+alpha-BEK')[0]),\n",
    "                    'FoM(Zl, Ωm)': nformat.format(FigMeriteRho(matrix,['Zm','h'],analysis='red+alpha-BEK')[0]),\n",
    "                    'FoM(Ωm, h)': nformat.format(FigMeriteRho(matrix,['Zm','Zl'],analysis='red+alpha-BEK')[0]),\n",
    "                    'σ(h)':float_format.format(Sigmas(matrix)[0]),\n",
    "                    'σ(Ωm)':float_format.format(Sigmas(matrix)[1]),\n",
    "                    'σ(Zm)':float_format.format(Sigmas(matrix)[2]),\n",
    "                    'σ(Zl)':float_format.format(Sigmas(matrix)[3])}\n",
    "            i+=1\n",
    "            df = df.append(rows,ignore_index=True)\n",
    "            del rows\n",
    "            \n",
    "        if matrix[1][1] == BEK_AlphaB[1][1] or matrix[1][1] == BEK_AlphaO[1][1]:\n",
    "            rows = {'FoM(Zm, Zl)': nformat.format(FigMeriteRho(matrix,['OmegaM'],analysis='alpha-BEK')[0]),\n",
    "                'FoM(Zm, Ωm)': nformat.format(FigMeriteRho(matrix,['Zl'],analysis='alpha-BEK')[0]),\n",
    "                'FoM(Zl, Ωm)': nformat.format(FigMeriteRho(matrix,['Zm'],analysis='alpha-BEK')[0]),\n",
    "                'FoM(Ωm, h)': '-',\n",
    "                'σ(h)': '-',\n",
    "                'σ(Ωm)':float_format.format(Sigmas(matrix)[0]),\n",
    "                'σ(Zm)':float_format.format(Sigmas(matrix)[1]),\n",
    "                'σ(Zl)':float_format.format(Sigmas(matrix)[2])}\n",
    "            i+=1\n",
    "        \n",
    "            df = df.append(rows,ignore_index=True)\n",
    "            del rows\n",
    "            \n",
    "        if matrix[1][1] == BEK_Red_Liske[1][1]:\n",
    "            rows = {'FoM(Zm, Zl)': '-',\n",
    "                'FoM(Zm, Ωm)': '-',\n",
    "                'FoM(Zl, Ωm)': '-',\n",
    "                'FoM(Ωm, h)': nformat.format(FigMeriteRho(matrix,[],analysis='redshift')[0]),\n",
    "                'σ(h)': float_format.format(Sigmas(matrix)[0]),\n",
    "                'σ(Ωm)':float_format.format(Sigmas(matrix)[1]),\n",
    "                'σ(Zm)':'-',\n",
    "                'σ(Zl)':'-'}\n",
    "            i+=1\n",
    "            df = df.append(rows,ignore_index=True)\n",
    "            del rows\n",
    "            \n",
    "    \n",
    "    Datasets = ['Liske','Baseline', 'Optimistic', 'Liske + Baseline','Liske + Optimistic']\n",
    "    df.insert(0, \"Parameters\", Datasets, True)\n",
    "    df = df.transpose()\n",
    "          \n",
    "    return df"
   ]
  },
  {
   "cell_type": "code",
   "execution_count": 8,
   "id": "ae052c5b",
   "metadata": {},
   "outputs": [],
   "source": [
    "#Bekenstein RedAlpha - Liske + Baseline + Optimistic + (Liske+Baseline) + (Liske+Optimistic)\n",
    "\n",
    "#matricesRedAlphaBEK = [BEK_Red_Liske, BEK_AlphaB, BEK_AlphaO, BEK_RedAlphaB_Liske, BEK_RedAlphaO_Liske]\n",
    "#tab1 = tableRedAlphaBEK(matricesRedAlphaBEK)\n",
    "\n",
    "#See the table in DataFrame:\n",
    "#tab1\n",
    "\n",
    "#Transform dataframe to latex code:\n",
    "#print(tab1.to_latex(header=False,index=True))"
   ]
  },
  {
   "cell_type": "markdown",
   "id": "75195b54",
   "metadata": {},
   "source": [
    "### CPL $(w_0 = -0.9)$ and $(w_a = 0.3)$"
   ]
  },
  {
   "cell_type": "code",
   "execution_count": 9,
   "id": "57bbf563",
   "metadata": {},
   "outputs": [],
   "source": [
    "#Redshift(h,OmegaM,w0,wa) - Liske\n",
    "CPL_Red_Liske1 = FisherMatrix_z(zLiske,unc_zLiske,h, OmegaM=0.3, w0=-0.9, wa=0.3, NrYears=20, analysis = 'redshift')\n",
    "CPL_Red_Liske = add1DPriors(CPL_Red_Liske1, [[unch,0],[uncOmegaM,1],[uncw0Cur,2], [uncwaCur,3]])\n",
    "\n",
    "CPL_Red_GoldenSample = FisherMatrix_z(zGoldenSample,unc_zGoldenSample,h, OmegaM=0.3, w0=-0.9, wa=0.3, NrYears=25, analysis = 'redshift')\n",
    "CPL_Red_GoldenSample = add1DPriors(CPL_Red_GoldenSample, [[unch,0],[uncOmegaM,1],[uncw0Cur,2], [uncwaCur,3]])\n",
    "\n",
    "\n",
    "#Alpha(OmegaM,w0,wa,zeta)\n",
    "CPL_AlphaB = CPL_AlphaB\n",
    "CPL_AlphaO = CPL_AlphaO\n",
    "\n",
    "#Redshift+Alpha(h,OmegaM,w0,wa,zeta)\n",
    "CPLRedalpha_Liske = FisherMatrix_z(zLiske,unc_zLiske,h, OmegaM=0.3, w0=-0.9, wa=0.3, NrYears=20, analysis = 'redshift+alpha')\n",
    "CPLRedalpha_GoldenSample = FisherMatrix_z(zGoldenSample,unc_zGoldenSample,h, OmegaM=0.3, w0=-0.9, wa=0.3, NrYears=25, analysis = 'redshift+alpha')\n",
    "\n",
    "\n",
    "##Baseline\n",
    "CPLBalpha1 = FisherMatrix_aCPL(zAndes_15baseline, uncAndes_15baseline, OmegaM=0.3, w0=-0.9, wa=0.3, zeta=-0.1, analysis = 'redshift+alpha')\n",
    "CPLBalpha2 = FisherMatrix_aCPL(zAndes_10baseline, uncAndes_10baseline, OmegaM=0.3, w0=-0.9, wa=0.3, zeta=-0.1, analysis = 'redshift+alpha')\n",
    "CPLBalpha = CPLBalpha1 + CPLBalpha2\n",
    "\n",
    "CPL_RedAlphaB_Liske = CPLRedalpha_Liske + CPLBalpha\n",
    "CPL_RedAlphaB_Liske = add1DPriors(CPL_RedAlphaB_Liske, [[unch,0],[uncOmegaM,1],[uncw0Cur,2],[uncwaCur,3],[unczeta,6]])\n",
    "M7_CPL_B = CPL_RedAlphaB_Liske\n",
    "CPL_RedAlphaB_Liske = np.delete(CPL_RedAlphaB_Liske,[4,5],0)\n",
    "CPL_RedAlphaB_Liske = np.delete(CPL_RedAlphaB_Liske,[4,5],1)\n",
    "\n",
    "CPL_RedAlphaB_GoldenSample = CPLRedalpha_GoldenSample + CPLBalpha\n",
    "CPL_RedAlphaB_GoldenSample = add1DPriors(CPL_RedAlphaB_GoldenSample, [[unch,0],[uncOmegaM,1],[uncw0Cur,2],[uncwaCur,3],[unczeta,6]])\n",
    "CPL_RedAlphaB_GoldenSample = np.delete(CPL_RedAlphaB_GoldenSample,[4,5],0)\n",
    "CPL_RedAlphaB_GoldenSample = np.delete(CPL_RedAlphaB_GoldenSample,[4,5],1)\n",
    "\n",
    "\n",
    "##Optimistic\n",
    "\n",
    "CPLOalpha1 = FisherMatrix_aCPL(zAndes_20optimistic, uncAndes_20optimistic, OmegaM=0.3, w0=-0.9, wa=0.3, zeta=-0.1, analysis = 'redshift+alpha')\n",
    "CPLOalpha2 = FisherMatrix_aCPL(zAndes_15optimistic1, uncAndes_15optimistic1, OmegaM=0.3, w0=-0.9, wa=0.3, zeta=-0.1, analysis = 'redshift+alpha')\n",
    "CPLOalpha3 = FisherMatrix_aCPL(zAndes_15optimistic2, uncAndes_15optimistic2, OmegaM=0.3, w0=-0.9, wa=0.3, zeta=-0.1, analysis = 'redshift+alpha')\n",
    "CPLOalpha = CPLOalpha1 + CPLOalpha2 + CPLOalpha3\n",
    "\n",
    "CPL_RedAlphaO_Liske = CPLRedalpha_Liske + CPLOalpha\n",
    "CPL_RedAlphaO_Liske = add1DPriors(CPL_RedAlphaO_Liske, [[unch,0],[uncOmegaM,1],[uncw0Cur,2],[uncwaCur,3],[unczeta,6]])\n",
    "M7_CPL_O = CPL_RedAlphaO_Liske\n",
    "CPL_RedAlphaO_Liske = np.delete(CPL_RedAlphaO_Liske,[4,5],0)\n",
    "CPL_RedAlphaO_Liske = np.delete(CPL_RedAlphaO_Liske,[4,5],1)\n",
    "\n",
    "\n",
    "CPL_RedAlphaO_GoldenSample = CPLRedalpha_GoldenSample + CPLOalpha\n",
    "CPL_RedAlphaO_GoldenSample = add1DPriors(CPL_RedAlphaO_GoldenSample, [[unch,0],[uncOmegaM,1],[uncw0Cur,2],[uncwaCur,3],[unczeta,6]])\n",
    "CPL_RedAlphaO_GoldenSample = np.delete(CPL_RedAlphaO_GoldenSample,[4,5],0)\n",
    "CPL_RedAlphaO_GoldenSample = np.delete(CPL_RedAlphaO_GoldenSample,[4,5],1)"
   ]
  },
  {
   "cell_type": "code",
   "execution_count": 10,
   "id": "ab9990b4",
   "metadata": {},
   "outputs": [
    {
     "data": {
      "text/plain": [
       "array([[ 506.98146061,  550.68110588,   52.23490854,   25.93232237,\n",
       "           0.        ,    0.        ,    0.        ],\n",
       "       [ 550.68110588, 4203.46160791,  297.64550021,  146.9444539 ,\n",
       "           0.        ,    0.        ,   64.24303802],\n",
       "       [  52.23490854,  297.64550021,  178.59118989,   30.43445543,\n",
       "           0.        ,    0.        , -140.18266921],\n",
       "       [  25.93232237,  146.9444539 ,   30.43445543,   23.4661153 ,\n",
       "           0.        ,    0.        ,  -44.71719929],\n",
       "       [   0.        ,    0.        ,    0.        ,    0.        ,\n",
       "           0.        ,    0.        ,    0.        ],\n",
       "       [   0.        ,    0.        ,    0.        ,    0.        ,\n",
       "           0.        ,    0.        ,    0.        ],\n",
       "       [   0.        ,   64.24303802, -140.18266921,  -44.71719929,\n",
       "           0.        ,    0.        ,  451.57890275]])"
      ]
     },
     "execution_count": 10,
     "metadata": {},
     "output_type": "execute_result"
    }
   ],
   "source": [
    "M7_CPL_B"
   ]
  },
  {
   "cell_type": "markdown",
   "id": "a023f42c",
   "metadata": {},
   "source": [
    "#### - Confidence ellipses (1-sigma)"
   ]
  },
  {
   "cell_type": "code",
   "execution_count": 11,
   "id": "b8860a56",
   "metadata": {},
   "outputs": [],
   "source": [
    "def RedAlphazetawa(wa,zeta,Fs): \n",
    "    ells = []\n",
    "    for i in range(len(Fs)):\n",
    "        if Fs[i] is CPL_AlphaB:\n",
    "            Fm = marginalize(Fs[i],'w0',analysis='alpha-CPL')\n",
    "            Fm = marginalize(Fm,'OmegaM',analysis='alpha-CPL')\n",
    "        if Fs[i] is CPL_AlphaO:\n",
    "            Fm = marginalize(Fs[i],'w0',analysis='alpha-CPL')\n",
    "            Fm = marginalize(Fm,'OmegaM',analysis='alpha-CPL')\n",
    "        if Fs[i] is CPL_Red_Liske:\n",
    "            Fm = marginalize(Fs[i],'w',analysis='redshift')\n",
    "            Fm = marginalize(Fm,'h',analysis='redshift')\n",
    "        if Fs[i] is CPL_RedAlphaB_Liske:\n",
    "            Fm = marginalize(Fs[i],'w0',analysis='red+alpha-CPL')\n",
    "            Fm = marginalize(Fm,'OmegaM',analysis='red+alpha-CPL')\n",
    "            Fm = marginalize(Fm,'h',analysis='red+alpha-CPL')\n",
    "        if Fs[i] is CPL_RedAlphaO_Liske:\n",
    "            Fm = marginalize(Fs[i],'w0',analysis='red+alpha-CPL')\n",
    "            Fm = marginalize(Fm,'OmegaM',analysis='red+alpha-CPL')\n",
    "            Fm = marginalize(Fm,'h',analysis='red+alpha-CPL')\n",
    "        Pa = preelipse(Fm)\n",
    "        color,name,style = colornamestyle2(Fs[i])\n",
    "        ells.append([wa,zeta, Pa[0],Pa[1],Pa[2],name,color,style])\n",
    "    ellipses(ells,['$w_a$','$\\zeta$ (ppm)'])\n",
    "    plt.tick_params(axis='both', which='major', labelsize=20)\n",
    "    plt.xlim(-0.4,1.0)\n",
    "    plt.ylim(-0.25,0.05)\n",
    "    #plt.savefig('RedAlphaCPLZetawaO.png', dpi=300, bbox_inches='tight')\n",
    "    plt.show()\n",
    "\n",
    "#RedAlphazetawa(0.3,-0.1,[CPL_AlphaB, CPL_RedAlphaB_Liske])\n",
    "#RedAlphazetawa(0.3,-0.1,[CPL_AlphaO, CPL_RedAlphaO_Liske])"
   ]
  },
  {
   "cell_type": "code",
   "execution_count": 12,
   "id": "d1116251",
   "metadata": {},
   "outputs": [],
   "source": [
    "def RedAlphazetaw0(w0,zeta,Fs): \n",
    "    ells = []\n",
    "    for i in range(len(Fs)):\n",
    "        if Fs[i] is CPL_AlphaB:\n",
    "            Fm = marginalize(Fs[i],'wa',analysis='alpha-CPL')\n",
    "            Fm = marginalize(Fm,'OmegaM',analysis='alpha-CPL')\n",
    "        if Fs[i] is CPL_AlphaO:\n",
    "            Fm = marginalize(Fs[i],'wa',analysis='alpha-CPL')\n",
    "            Fm = marginalize(Fm, 'OmegaM',analysis='alpha-CPL')\n",
    "        if Fs[i] is CPL_RedAlphaB_Liske:\n",
    "            Fm = marginalize(Fs[i],'wa',analysis='red+alpha-CPL')\n",
    "            Fm = marginalize(Fm,'OmegaM',analysis='red+alpha-CPL')\n",
    "            Fm = marginalize(Fm,'h',analysis='red+alpha-CPL')\n",
    "        if Fs[i] is CPL_RedAlphaO_Liske:\n",
    "            Fm = marginalize(Fs[i],'wa',analysis='red+alpha-CPL')\n",
    "            Fm = marginalize(Fm,'OmegaM',analysis='red+alpha-CPL')\n",
    "            Fm = marginalize(Fm,'h',analysis='red+alpha-CPL')\n",
    "        Pa = preelipse(Fm)\n",
    "        color,name,style = colornamestyle2(Fs[i])\n",
    "        ells.append([w0,zeta, Pa[0],Pa[1],Pa[2],name,color,style])\n",
    "    ellipses(ells,['$w_0$','$\\zeta$ (ppm)'])\n",
    "    plt.tick_params(axis='both', which='major', labelsize=20)\n",
    "    plt.xlim(-1.2,-0.6)\n",
    "    plt.ylim(-0.25,0.05)\n",
    "    #plt.savefig('RedAlphaCPLZetaw0O.png', dpi=300, bbox_inches='tight')\n",
    "    plt.show()\n",
    "    \n",
    "#RedAlphazetaw0(-0.9,-0.1,[CPL_AlphaB, CPL_RedAlphaB_Liske])\n",
    "#RedAlphazetaw0(-0.9,-0.1,[CPL_AlphaO, CPL_RedAlphaO_Liske])"
   ]
  },
  {
   "cell_type": "code",
   "execution_count": 13,
   "id": "739bd146",
   "metadata": {},
   "outputs": [],
   "source": [
    "def RedAlphazetaOmegaM(OmegaM,zeta,Fs): \n",
    "    ells = []\n",
    "    for i in range(len(Fs)):\n",
    "        if Fs[i] is CPL_AlphaB:\n",
    "            Fm = marginalize(Fs[i],'wa',analysis='alpha-CPL')\n",
    "            Fm = marginalize(Fm,'w0',analysis='alpha-CPL')\n",
    "        if Fs[i] is CPL_AlphaO:\n",
    "            Fm = marginalize(Fs[i],'wa',analysis='alpha-CPL')\n",
    "            Fm = marginalize(Fm,'w0',analysis='alpha-CPL')\n",
    "        if Fs[i] is CPL_RedAlphaB_Liske:\n",
    "            Fm = marginalize(Fs[i],'wa',analysis='red+alpha-CPL')\n",
    "            Fm = marginalize(Fm,'w0',analysis='red+alpha-CPL')\n",
    "            Fm = marginalize(Fm,'h',analysis='red+alpha-CPL')\n",
    "        if Fs[i] is CPL_RedAlphaO_Liske:\n",
    "            Fm = marginalize(Fs[i],'wa',analysis='red+alpha-CPL')\n",
    "            Fm = marginalize(Fm,'w0',analysis='red+alpha-CPL')\n",
    "            Fm = marginalize(Fm,'h',analysis='red+alpha-CPL')\n",
    "        Pa = preelipse(Fm)\n",
    "        color,name,style = colornamestyle2(Fs[i])\n",
    "        ells.append([OmegaM,zeta, Pa[0],Pa[1],Pa[2],name,color,style])\n",
    "    ellipses(ells,['$\\Omega_m$','$\\zeta$ (ppm)'])\n",
    "    plt.tick_params(axis='both', which='major', labelsize=20)\n",
    "    plt.xlim(0.24,0.36)\n",
    "    plt.ylim(-0.25,0.05)\n",
    "    #plt.savefig('RedAlphaCPLZetaOmegaMO.png', dpi=300, bbox_inches='tight')\n",
    "    plt.show()\n",
    "    \n",
    "#RedAlphazetaOmegaM(0.3,-0.1,[CPL_AlphaB, CPL_RedAlphaB_Liske])\n",
    "#RedAlphazetaOmegaM(0.3,-0.1,[CPL_AlphaO, CPL_RedAlphaO_Liske])"
   ]
  },
  {
   "cell_type": "code",
   "execution_count": 14,
   "id": "41f14c70",
   "metadata": {},
   "outputs": [],
   "source": [
    "def RedAlphaw0wa(w0,wa,Fs): \n",
    "    ells = []\n",
    "    for i in range(len(Fs)):\n",
    "        if Fs[i] is CPL_AlphaB:\n",
    "            Fm = marginalize(Fs[i],'zeta',analysis='alpha-CPL')\n",
    "            Fm = marginalize(Fm,'OmegaM',analysis='alpha-CPL')\n",
    "        if Fs[i] is CPL_AlphaO:\n",
    "            Fm = marginalize(Fs[i],'zeta',analysis='alpha-CPL')\n",
    "            Fm = marginalize(Fm,'OmegaM',analysis='alpha-CPL')\n",
    "        if Fs[i] is CPL_Red_Liske:\n",
    "            Fm = marginalize(Fs[i],'OmegaM',analysis='redshift')\n",
    "            Fm = marginalize(Fm,'h',analysis='redshift')\n",
    "        if Fs[i] is CPL_RedAlphaB_Liske:\n",
    "            Fm = marginalize(Fs[i],'zeta',analysis='red+alpha-CPL')\n",
    "            Fm = marginalize(Fm,'OmegaM',analysis='red+alpha-CPL')\n",
    "            Fm = marginalize(Fm,'h',analysis='red+alpha-CPL')\n",
    "        if Fs[i] is CPL_RedAlphaO_Liske:\n",
    "            Fm = marginalize(Fs[i],'zeta',analysis='red+alpha-CPL')\n",
    "            Fm = marginalize(Fm,'OmegaM',analysis='red+alpha-CPL')\n",
    "            Fm = marginalize(Fm,'h',analysis='red+alpha-CPL')    \n",
    "        Pa = preelipse(Fm)\n",
    "        color,name,style = colornamestyle2(Fs[i])\n",
    "        ells.append([w0,wa, Pa[0],Pa[1],Pa[2],name,color,style])\n",
    "    ellipses(ells,['$w_0$','$w_a$'])\n",
    "    plt.tick_params(axis='both', which='major', labelsize=20)\n",
    "    plt.xlim(-1.2,-0.6)\n",
    "    plt.ylim(-0.4,1)\n",
    "    #plt.savefig('RedAlphaCPLw0waO.png', dpi=300, bbox_inches='tight')\n",
    "    plt.show()\n",
    "    \n",
    "#RedAlphaw0wa(-0.9,0.3,[CPL_Red_Liske, CPL_RedAlphaB_Liske, CPL_AlphaB])\n",
    "#RedAlphaw0wa(-0.9,0.3,[CPL_Red_Liske, CPL_RedAlphaO_Liske, CPL_AlphaO])"
   ]
  },
  {
   "cell_type": "code",
   "execution_count": 15,
   "id": "9e6819e6",
   "metadata": {},
   "outputs": [],
   "source": [
    "def RedAlphaOmegaMwa(OmegaM,wa,Fs): \n",
    "    ells = []\n",
    "    for i in range(len(Fs)):\n",
    "        if Fs[i] is CPL_AlphaB:\n",
    "            Fm = marginalize(Fs[i],'zeta',analysis='alpha-CPL')\n",
    "            Fm = marginalize(Fm,'w0',analysis='alpha-CPL')\n",
    "        if Fs[i] is CPL_AlphaO:\n",
    "            Fm = marginalize(Fs[i],'zeta',analysis='alpha-CPL')\n",
    "            Fm = marginalize(Fm,'w0',analysis='alpha-CPL')\n",
    "        if Fs[i] is CPL_Red_Liske:\n",
    "            Fm = marginalize(Fs[i],'w0',analysis='redshift')\n",
    "            Fm = marginalize(Fm,'h',analysis='redshift')\n",
    "        if Fs[i] is CPL_RedAlphaB_Liske:\n",
    "            Fm = marginalize(Fs[i],'zeta',analysis='red+alpha-CPL')\n",
    "            Fm = marginalize(Fm,'w0',analysis='red+alpha-CPL')\n",
    "            Fm = marginalize(Fm,'h',analysis='red+alpha-CPL')\n",
    "        if Fs[i] is CPL_RedAlphaO_Liske:\n",
    "            Fm = marginalize(Fs[i],'zeta',analysis='red+alpha-CPL')\n",
    "            Fm = marginalize(Fm,'w0',analysis='red+alpha-CPL')\n",
    "            Fm = marginalize(Fm,'h',analysis='red+alpha-CPL')\n",
    "        Pa = preelipse(Fm)\n",
    "        color,name,style = colornamestyle2(Fs[i])\n",
    "        ells.append([OmegaM,wa, Pa[0],Pa[1],Pa[2],name,color,style])\n",
    "    ellipses(ells,['$\\Omega_m$','$w_a$'])\n",
    "    plt.tick_params(axis='both', which='major', labelsize=20)\n",
    "    plt.xlim(0.24,0.36)\n",
    "    plt.ylim(-0.4,1)\n",
    "    #plt.savefig('RedAlphaCPLOmegaMwaO.png', dpi=300, bbox_inches='tight')\n",
    "    plt.show()\n",
    "    \n",
    "#RedAlphaOmegaMwa(0.3,0.3,[CPL_Red_Liske, CPL_RedAlphaB_Liske, CPL_AlphaB])\n",
    "#RedAlphaOmegaMwa(0.3,0.3,[CPL_Red_Liske, CPL_RedAlphaO_Liske, CPL_AlphaO])"
   ]
  },
  {
   "cell_type": "code",
   "execution_count": 16,
   "id": "3229c5cf",
   "metadata": {},
   "outputs": [],
   "source": [
    "def RedAlphahwa(h,wa,Fs): \n",
    "    ells = []\n",
    "    for i in range(len(Fs)):\n",
    "        if Fs[i] is CPL_Red_Liske:\n",
    "            Fm = marginalize(Fs[i],'w0',analysis='redshift')\n",
    "            Fm = marginalize(Fm,'OmegaM',analysis='redshift')\n",
    "        if Fs[i] is CPL_RedAlphaB_Liske:\n",
    "            Fm = marginalize(Fs[i],'zeta',analysis='red+alpha-CPL')\n",
    "            Fm = marginalize(Fm,'wa',analysis='red+alpha-CPL')\n",
    "            Fm = marginalize(Fm,'w0',analysis='red+alpha-CPL')\n",
    "        if Fs[i] is CPL_RedAlphaO_Liske:\n",
    "            Fm = marginalize(Fs[i],'zeta',analysis='red+alpha-CPL')\n",
    "            Fm = marginalize(Fm,'wa',analysis='red+alpha-CPL')\n",
    "            Fm = marginalize(Fm,'w0',analysis='red+alpha-CPL')\n",
    "        Pa = preelipse(Fm)\n",
    "        color,name,style = colornamestyle2(Fs[i])\n",
    "        ells.append([h,wa, Pa[0],Pa[1],Pa[2],name,color,style])\n",
    "    ellipses(ells,['$h$','$w_a$'])\n",
    "    plt.tick_params(axis='both', which='major', labelsize=20)\n",
    "    plt.locator_params(axis=\"x\", nbins=5)\n",
    "    plt.xlim(0.6,0.8)\n",
    "    plt.ylim(-0.4,1)\n",
    "    #plt.savefig('RedAlphaCPLhWaO.png', dpi=300, bbox_inches='tight')\n",
    "    plt.show()\n",
    "    \n",
    "#RedAlphahwa(0.7,0.3,[CPL_Red_Liske, CPL_RedAlphaB_Liske])\n",
    "#RedAlphahwa(0.7,0.3,[CPL_Red_Liske, CPL_RedAlphaO_Liske])"
   ]
  },
  {
   "cell_type": "code",
   "execution_count": 17,
   "id": "cd478064",
   "metadata": {},
   "outputs": [],
   "source": [
    "def RedAlphaOmegaMw0(OmegaM,w0,Fs): \n",
    "    ells = []\n",
    "    for i in range(len(Fs)):\n",
    "        if Fs[i] is CPL_AlphaB:\n",
    "            Fm = marginalize(Fs[i],'zeta',analysis='alpha-CPL')\n",
    "            Fm = marginalize(Fm,'wa',analysis='alpha-CPL')\n",
    "        if Fs[i] is CPL_AlphaO:\n",
    "            Fm = marginalize(Fs[i],'zeta',analysis='alpha-CPL')\n",
    "            Fm = marginalize(Fm,'wa',analysis='alpha-CPL')\n",
    "        if Fs[i] is CPL_Red_Liske:\n",
    "            Fm = marginalize(Fs[i],'wa',analysis='redshift')\n",
    "            Fm = marginalize(Fm,'h',analysis='redshift')\n",
    "        if Fs[i] is CPL_RedAlphaB_Liske:\n",
    "            Fm = marginalize(Fs[i],'zeta',analysis='red+alpha-CPL')\n",
    "            Fm = marginalize(Fm,'wa',analysis='red+alpha-CPL')\n",
    "            Fm = marginalize(Fm,'h',analysis='red+alpha-CPL')\n",
    "        if Fs[i] is CPL_RedAlphaO_Liske:\n",
    "            Fm = marginalize(Fs[i],'zeta',analysis='red+alpha-CPL')\n",
    "            Fm = marginalize(Fm,'wa',analysis='red+alpha-CPL')\n",
    "            Fm = marginalize(Fm,'h',analysis='red+alpha-CPL')\n",
    "        Pa = preelipse(Fm)\n",
    "        color,name,style = colornamestyle2(Fs[i])\n",
    "        ells.append([OmegaM,w0, Pa[0],Pa[1],Pa[2],name,color,style])\n",
    "    ellipses(ells,['$\\Omega_m$','$w_0$'])\n",
    "    plt.tick_params(axis='both', which='major', labelsize=20)\n",
    "    plt.xlim(0.24,0.36)\n",
    "    plt.ylim(-1.2,-0.6)\n",
    "    #plt.savefig('RedAlphaCPLOmegaMw0O.png', dpi=300, bbox_inches='tight')\n",
    "    plt.show()\n",
    "    \n",
    "#RedAlphaOmegaMw0(0.3,-0.9,[CPL_Red_Liske, CPL_RedAlphaB_Liske, CPL_AlphaB])\n",
    "#RedAlphaOmegaMw0(0.3,-0.9,[CPL_Red_Liske, CPL_RedAlphaO_Liske, CPL_AlphaO])"
   ]
  },
  {
   "cell_type": "code",
   "execution_count": 18,
   "id": "419ddec6",
   "metadata": {},
   "outputs": [],
   "source": [
    "def RedAlphahw0(h,w0,Fs): \n",
    "    ells = []\n",
    "    for i in range(len(Fs)):\n",
    "        if Fs[i] is CPL_Red_Liske:\n",
    "            Fm = marginalize(Fs[i],'wa',analysis='redshift')\n",
    "            Fm = marginalize(Fm,'OmegaM',analysis='redshift')\n",
    "        if Fs[i] is CPL_RedAlphaB_Liske:\n",
    "            Fm = marginalize(Fs[i],'zeta',analysis='red+alpha-CPL')\n",
    "            Fm = marginalize(Fm,'wa',analysis='red+alpha-CPL')\n",
    "            Fm = marginalize(Fm,'OmegaM',analysis='red+alpha-CPL')\n",
    "        if Fs[i] is CPL_RedAlphaO_Liske:\n",
    "            Fm = marginalize(Fs[i],'zeta',analysis='red+alpha-CPL')\n",
    "            Fm = marginalize(Fm,'wa',analysis='red+alpha-CPL')\n",
    "            Fm = marginalize(Fm,'OmegaM',analysis='red+alpha-CPL')\n",
    "        Pa = preelipse(Fm)\n",
    "        color,name,style = colornamestyle2(Fs[i])\n",
    "        ells.append([h,w0, Pa[0],Pa[1],Pa[2],name,color,style])\n",
    "    ellipses(ells,['$h$','$w_0$'])\n",
    "    plt.tick_params(axis='both', which='major', labelsize=20)\n",
    "    plt.locator_params(axis=\"x\", nbins=5)\n",
    "    plt.xlim(0.6,0.8)\n",
    "    plt.ylim(-1.2,-0.6)\n",
    "    #plt.savefig('RedAlphaCPLhw0O.png', dpi=300, bbox_inches='tight')\n",
    "    plt.show()\n",
    "    \n",
    "#RedAlphahw0(0.7,-0.9,[CPL_Red_Liske, CPL_RedAlphaB_Liske])\n",
    "#RedAlphahw0(0.7,-0.9,[CPL_Red_Liske, CPL_RedAlphaO_Liske])"
   ]
  },
  {
   "cell_type": "code",
   "execution_count": 19,
   "id": "677ecbce",
   "metadata": {},
   "outputs": [],
   "source": [
    "def RedAlphahOmegaM(h,OmegaM,Fs): \n",
    "    ells = []\n",
    "    for i in range(len(Fs)):\n",
    "        if Fs[i] is CPL_Red_Liske:\n",
    "            Fm = marginalize(Fs[i],'wa',analysis='redshift')\n",
    "            Fm = marginalize(Fm,'w0',analysis='redshift')\n",
    "        if Fs[i] is CPL_RedAlphaB_Liske:\n",
    "            Fm = marginalize(Fs[i],'zeta',analysis='red+alpha-CPL')\n",
    "            Fm = marginalize(Fm,'wa',analysis='red+alpha-CPL')\n",
    "            Fm = marginalize(Fm,'w0',analysis='red+alpha-CPL')\n",
    "        if Fs[i] is CPL_RedAlphaO_Liske:\n",
    "            Fm = marginalize(Fs[i],'zeta',analysis='red+alpha-CPL')\n",
    "            Fm = marginalize(Fm,'wa',analysis='red+alpha-CPL')\n",
    "            Fm = marginalize(Fm,'w0',analysis='red+alpha-CPL')\n",
    "        Pa = preelipse(Fm)\n",
    "        color,name,style = colornamestyle2(Fs[i])\n",
    "        ells.append([h,OmegaM, Pa[0],Pa[1],Pa[2],name,color,style])\n",
    "    ellipses(ells,['$h$','$\\Omega_m$'])\n",
    "    plt.tick_params(axis='both', which='major', labelsize=20)\n",
    "    plt.locator_params(axis=\"x\", nbins=5)\n",
    "    plt.xlim(0.6,0.8)\n",
    "    plt.ylim(0.24,0.36)\n",
    "    #plt.savefig('RedAlphaCPLOmegaMw0O.png', dpi=300, bbox_inches='tight')\n",
    "    plt.show()\n",
    "    \n",
    "#RedAlphahOmegaM(0.7,0.3,[CPL_Red_Liske, CPL_RedAlphaB_Liske])\n",
    "#RedAlphahOmegaM(0.7,0.3,[CPL_Red_Liske, CPL_RedAlphaO_Liske])"
   ]
  },
  {
   "cell_type": "markdown",
   "id": "75ac6d1b",
   "metadata": {},
   "source": [
    "#### - Table"
   ]
  },
  {
   "cell_type": "code",
   "execution_count": 20,
   "id": "40c07199",
   "metadata": {},
   "outputs": [],
   "source": [
    "def tableRedAlphaCPL(matrices):\n",
    "    i=0\n",
    "    df=pd.DataFrame()\n",
    "    nformat = \"{:.0f}\"\n",
    "    float_format=\"{:.3f}\"\n",
    "\n",
    "    for matrix in matrices:\n",
    "        if matrix[1][1] == CPL_RedAlphaB_Liske[1][1] or matrix[1][1] == CPL_RedAlphaO_Liske[1][1]:\n",
    "            rows = {'FoM(zeta, wa)': nformat.format(FigMeriteRho(matrix,['w0','OmegaM','h'],analysis='red+alpha-CPL')[0]),\n",
    "                    'FoM(zeta, w0)': nformat.format(FigMeriteRho(matrix,['wa','OmegaM','h'],analysis='red+alpha-CPL')[0]),\n",
    "                    'FoM(zeta, Ωm)': nformat.format(FigMeriteRho(matrix,['wa','w0','h'],analysis='red+alpha-CPL')[0]),\n",
    "                    'FoM(wa, w0)': nformat.format(FigMeriteRho(matrix,['zeta','OmegaM','h'],analysis='red+alpha-CPL')[0]),\n",
    "                    'FoM(wa, Ωm)': nformat.format(FigMeriteRho(matrix,['zeta','w0','h'],analysis='red+alpha-CPL')[0]),\n",
    "                    'FoM(w0, Ωm)': nformat.format(FigMeriteRho(matrix,['zeta','wa','h'],analysis='red+alpha-CPL')[0]),\n",
    "                    'FoM(wa, h)': nformat.format(FigMeriteRho(matrix,['zeta','w0','OmegaM'],analysis='red+alpha-CPL')[0]),\n",
    "                    'FoM(w0, h)': nformat.format(FigMeriteRho(matrix,['zeta','wa','OmegaM'],analysis='red+alpha-CPL')[0]),\n",
    "                    'FoM(Ωm, h)': nformat.format(FigMeriteRho(matrix,['zeta','wa','w0'],analysis='red+alpha-CPL')[0]),\n",
    "                    'σ(h)':float_format.format(Sigmas(matrix)[0]),\n",
    "                    'σ(Ωm)':float_format.format(Sigmas(matrix)[1]),\n",
    "                    'σ(w0)':float_format.format(Sigmas(matrix)[2]),\n",
    "                    'σ(wa)':float_format.format(Sigmas(matrix)[3]),\n",
    "                    'σ(zeta)':float_format.format(Sigmas(matrix)[4])}\n",
    "            i+=1\n",
    "            df = df.append(rows,ignore_index=True)\n",
    "            del rows\n",
    "            \n",
    "        if matrix[1][1] == CPL_AlphaB[1][1] or matrix[1][1] == CPL_AlphaO[1][1]:\n",
    "            rows = {'FoM(zeta, wa)': nformat.format(FigMeriteRho(matrix,['w0','OmegaM'],analysis='alpha-CPL')[0]),\n",
    "                'FoM(zeta, w0)': nformat.format(FigMeriteRho(matrix,['wa','OmegaM'],analysis='alpha-CPL')[0]),\n",
    "                'FoM(zeta, Ωm)': nformat.format(FigMeriteRho(matrix,['wa','w0'],analysis='alpha-CPL')[0]),\n",
    "                'FoM(wa, w0)': nformat.format(FigMeriteRho(matrix,['zeta','OmegaM'],analysis='alpha-CPL')[0]),\n",
    "                'FoM(wa, Ωm)': nformat.format(FigMeriteRho(matrix,['zeta','w0'],analysis='alpha-CPL')[0]),\n",
    "                'FoM(w0, Ωm)': nformat.format(FigMeriteRho(matrix,['zeta','wa'],analysis='alpha-CPL')[0]),\n",
    "                'FoM(wa, h)': '-',\n",
    "                'FoM(w0, h)': '-',\n",
    "                'FoM(Ωm, h)': '-',\n",
    "                'σ(h)': '-',\n",
    "                'σ(Ωm)':float_format.format(Sigmas(matrix)[0]),\n",
    "                'σ(w0)':float_format.format(Sigmas(matrix)[1]),\n",
    "                'σ(wa)':float_format.format(Sigmas(matrix)[2]),\n",
    "                'σ(zeta)':float_format.format(Sigmas(matrix)[3])}\n",
    "            i+=1\n",
    "            df = df.append(rows,ignore_index=True)\n",
    "            del rows\n",
    "            \n",
    "        if matrix[1][1] == CPL_Red_Liske[1][1]:\n",
    "            rows = {'FoM(zeta, wa)': '-',\n",
    "                'FoM(zeta, w0)': '-',\n",
    "                'FoM(zeta, Ωm)': '-',\n",
    "                'FoM(wa, w0)': nformat.format(FigMeriteRho(matrix,['OmegaM','h'],analysis='redshift')[0]),\n",
    "                'FoM(wa, Ωm)': nformat.format(FigMeriteRho(matrix,['w0','h'],analysis='redshift')[0]),\n",
    "                'FoM(w0, Ωm)': nformat.format(FigMeriteRho(matrix,['wa','h'],analysis='redshift')[0]),\n",
    "                'FoM(wa, h)': nformat.format(FigMeriteRho(matrix,['w0','OmegaM'],analysis='redshift')[0]),\n",
    "                'FoM(w0, h)': nformat.format(FigMeriteRho(matrix,['wa','OmegaM'],analysis='redshift')[0]),\n",
    "                'FoM(Ωm, h)': nformat.format(FigMeriteRho(matrix,['wa','w0'],analysis='redshift')[0]),\n",
    "                'σ(h)': float_format.format(Sigmas(matrix)[0]),\n",
    "                'σ(Ωm)':float_format.format(Sigmas(matrix)[1]),\n",
    "                'σ(w0)':float_format.format(Sigmas(matrix)[2]),\n",
    "                'σ(wa)':float_format.format(Sigmas(matrix)[3]),\n",
    "                'σ(zeta)':'-'}\n",
    "            i+=1\n",
    "            df = df.append(rows,ignore_index=True)\n",
    "            del rows\n",
    "            \n",
    "    \n",
    "    Datasets = ['Liske','Baseline', 'Optimistic', 'Liske + Baseline','Liske + Optimistic']\n",
    "    df.insert(0, \"Parameters\", Datasets, True)\n",
    "    df = df.transpose()\n",
    "    \n",
    "            \n",
    "    return df"
   ]
  },
  {
   "cell_type": "code",
   "execution_count": 21,
   "id": "b0be018f",
   "metadata": {},
   "outputs": [],
   "source": [
    "#CPL RedAlpha - Liske + Baseline + Optimistic + (Liske+Baseline) + (Liske+Optimistic)\n",
    "\n",
    "#matricesRedAlphaCPL = [CPL_Red_Liske, CPL_AlphaB, CPL_AlphaO, CPL_RedAlphaB_Liske, CPL_RedAlphaO_Liske]\n",
    "#tab1 = tableRedAlphaCPL(matricesRedAlphaCPL)\n",
    "\n",
    "#See the table in DataFrame:\n",
    "#tab1\n",
    "\n",
    "#Transform dataframe to latex code:\n",
    "#print(tab1.to_latex(header=False,index=True))"
   ]
  },
  {
   "cell_type": "markdown",
   "id": "4e23a8c5",
   "metadata": {},
   "source": [
    "### CPL $(w_0 = -1)$ and $(w_a = 0)$"
   ]
  },
  {
   "cell_type": "code",
   "execution_count": 22,
   "id": "33cfbc82",
   "metadata": {},
   "outputs": [],
   "source": [
    "#Redshift(h,OmegaM) - Liske\n",
    "CPLLCDM_Red_Liske1 = FisherMatrix_z(zLiske,unc_zLiske,h, OmegaM=0.3, w0=None, wa=None, NrYears=20, analysis = 'redshift')\n",
    "CPLLCDM_Red_Liske = add1DPriors(CPLLCDM_Red_Liske1, [[unch,0],[uncOmegaM,1]])\n",
    "\n",
    "#CPL_Red_GoldenSample = FisherMatrix_z(zGoldenSample,unc_zGoldenSample,h, OmegaM=0.3, w0=-0.9, wa=0.3, NrYears=25, analysis = 'redshift')\n",
    "#CPL_Red_GoldenSample = add1DPriors(CPL_Red_GoldenSample, [[unch,0],[uncOmegaM,1],[uncw0Cur,2], [uncwaCur,3]])\n",
    "\n",
    "\n",
    "#Alpha(OmegaM,zeta)\n",
    "CPLLCDM_AlphaB = CPLLCDM_AlphaB\n",
    "CPLLCDM_AlphaO = CPLLCDM_AlphaO\n",
    "\n",
    "\n",
    "#Redshift+Alpha(h,OmegaM,w0,wa,zeta)\n",
    "CPLLCDMRedalpha_Liske = FisherMatrix_z(zLiske,unc_zLiske,h, OmegaM=0.3, w0=-1, wa=0, NrYears=20, analysis = 'redshift+alpha')\n",
    "\n",
    "\n",
    "##Baseline\n",
    "CPLLCDMBalpha1 = FisherMatrix_aCPL(zAndes_15baseline, uncAndes_15baseline, OmegaM=0.3, w0=-1, wa=0, zeta=-0.1, analysis = 'redshift+alpha')\n",
    "CPLLCDMBalpha2 = FisherMatrix_aCPL(zAndes_10baseline, uncAndes_10baseline, OmegaM=0.3, w0=-1, wa=0, zeta=-0.1, analysis = 'redshift+alpha')\n",
    "CPLLCDMBalpha = CPLLCDMBalpha1 + CPLLCDMBalpha2\n",
    "\n",
    "CPLLCDM_RedAlphaB_Liske = CPLLCDMRedalpha_Liske + CPLLCDMBalpha\n",
    "CPLLCDM_RedAlphaB_Liske = add1DPriors(CPLLCDM_RedAlphaB_Liske, [[unch,0],[uncOmegaM,1]])\n",
    "M7_CPLLCDM_B = CPLLCDM_RedAlphaB_Liske\n",
    "CPLLCDM_RedAlphaB_Liske = np.delete(CPLLCDM_RedAlphaB_Liske,[2,3,4,5,6],0)\n",
    "CPLLCDM_RedAlphaB_Liske = np.delete(CPLLCDM_RedAlphaB_Liske,[2,3,4,5,6],1)\n",
    "\n",
    "\n",
    "\n",
    "##Optimistic\n",
    "CPLLCDMOalpha1 = FisherMatrix_aCPL(zAndes_20optimistic, uncAndes_20optimistic, OmegaM=0.3, w0=-1, wa=0, zeta=-0.1, analysis = 'redshift+alpha')\n",
    "CPLLCDMOalpha2 = FisherMatrix_aCPL(zAndes_15optimistic1, uncAndes_15optimistic1, OmegaM=0.3, w0=-1, wa=0, zeta=-0.1, analysis = 'redshift+alpha')\n",
    "CPLLCDMOalpha3 = FisherMatrix_aCPL(zAndes_15optimistic2, uncAndes_15optimistic2, OmegaM=0.3, w0=-1, wa=0, zeta=-0.1, analysis = 'redshift+alpha')\n",
    "CPLLCDMOalpha = CPLLCDMOalpha1 + CPLLCDMOalpha2 + CPLLCDMOalpha3\n",
    "\n",
    "CPLLCDM_RedAlphaO_Liske = CPLLCDMRedalpha_Liske + CPLLCDMOalpha\n",
    "CPLLCDM_RedAlphaO_Liske = add1DPriors(CPLLCDM_RedAlphaO_Liske, [[unch,0],[uncOmegaM,1]])\n",
    "M7_CPLLCDM_O = CPLLCDM_RedAlphaO_Liske\n",
    "CPLLCDM_RedAlphaO_Liske = np.delete(CPLLCDM_RedAlphaO_Liske,[2,3,4,5,6],0)\n",
    "CPLLCDM_RedAlphaO_Liske = np.delete(CPLLCDM_RedAlphaO_Liske,[2,3,4,5,6],1)"
   ]
  },
  {
   "cell_type": "markdown",
   "id": "3d801e8b",
   "metadata": {},
   "source": [
    "### Bekenstein $(\\zeta_\\Lambda = \\zeta_m = 0)$"
   ]
  },
  {
   "cell_type": "code",
   "execution_count": 23,
   "id": "ff3550e0",
   "metadata": {},
   "outputs": [],
   "source": [
    "#Redshift(h,OmegaM)\n",
    "BEK0_Red_Liske = FisherMatrix_z(zLiske,unc_zLiske,h, OmegaM=0.3, w0=None, wa=None, NrYears=20, analysis = 'redshift')\n",
    "BEK0_Red_Liske = add1DPriors(BEK_Red_Liske, [[unch,0],[uncOmegaM,1]])\n",
    "\n",
    "\n",
    "#Alpha(OmegaM,zetaM,zetaL)\n",
    "BEK0_AlphaB = BEK0_AlphaB\n",
    "BEK0_AlphaO = BEK0_AlphaO\n",
    "\n",
    "\n",
    "#Redshift+Alpha(h,OmegaM,zetaM,zetaL)\n",
    "BEK0Redalpha_Liske = FisherMatrix_z(zLiske,unc_zLiske,h, OmegaM=0.3, w0=None, wa=None, NrYears=20, analysis = 'redshift+alpha')\n",
    "\n",
    "##Baseline\n",
    "BEK0Balpha1 = FisherMatrix_ab(zAndes_15baseline, uncAndes_15baseline, OmegaM=0.3, w0=None, wa=None, Zl=0, Zm=0, OCP= 'parameter', analysis = 'redshift+alpha')\n",
    "BEK0Balpha2 = FisherMatrix_ab(zAndes_10baseline, uncAndes_10baseline, OmegaM=0.3, w0=None, wa=None, Zl=0, Zm=0, OCP= 'parameter', analysis = 'redshift+alpha')\n",
    "BEK0Balpha = BEK0Balpha1 + BEK0Balpha2\n",
    "\n",
    "#FpriorClocksBEK = np.zeros((7,7))\n",
    "#FpriorClocksBEK[4:6,4:6] += FpriorClocks_Oparam\n",
    "\n",
    "BEK0_RedAlphaB_Liske = BEK0Redalpha_Liske + BEK0Balpha\n",
    "#BEK_RedAlphaB_Liske += FpriorClocksBEK\n",
    "BEK0_RedAlphaB_Liske = add1DPriors(BEK0_RedAlphaB_Liske, [[unch,0],[uncOmegaM,1]])\n",
    "M7_BEK0_B = BEK0_RedAlphaB_Liske\n",
    "BEK0_RedAlphaB_Liske = np.delete(BEK0_RedAlphaB_Liske,[2,3,4,5,6],0)\n",
    "BEK0_RedAlphaB_Liske = np.delete(BEK0_RedAlphaB_Liske,[2,3,4,5,6],1)\n",
    "\n",
    "\n",
    "##Optimistic\n",
    "BEK0Oalpha1 = FisherMatrix_ab(zAndes_20optimistic, uncAndes_20optimistic, OmegaM=0.3, w0=None, wa=None, Zl=0, Zm=0, OCP= 'parameter', analysis = 'redshift+alpha')\n",
    "BEK0Oalpha2 = FisherMatrix_ab(zAndes_15optimistic1, uncAndes_15optimistic1, OmegaM=0.3, w0=None, wa=None, Zl=0, Zm=0, OCP= 'parameter', analysis = 'redshift+alpha')\n",
    "BEK0Oalpha3 = FisherMatrix_ab(zAndes_15optimistic2, uncAndes_15optimistic2, OmegaM=0.3, w0=None, wa=None, Zl=0, Zm=0, OCP= 'parameter', analysis = 'redshift+alpha')\n",
    "BEK0_Oalpha = BEK0Oalpha1 + BEK0Oalpha2 + BEK0Oalpha3\n",
    "\n",
    "BEK0_RedAlphaO_Liske = BEK0Redalpha_Liske + BEK0_Oalpha\n",
    "#BEK_RedAlphaO_Liske += FpriorClocksBEK\n",
    "BEK0_RedAlphaO_Liske = add1DPriors(BEK0_RedAlphaO_Liske, [[unch,0],[uncOmegaM,1]])\n",
    "M7_BEK0_O = BEK0_RedAlphaO_Liske\n",
    "BEK0_RedAlphaO_Liske = np.delete(BEK0_RedAlphaO_Liske,[2,3,4,5,6],0)\n",
    "BEK0_RedAlphaO_Liske = np.delete(BEK0_RedAlphaO_Liske,[2,3,4,5,6],1)\n"
   ]
  },
  {
   "cell_type": "markdown",
   "id": "423e015d",
   "metadata": {},
   "source": [
    "# Likelihoods"
   ]
  },
  {
   "cell_type": "code",
   "execution_count": 24,
   "id": "634a5e93",
   "metadata": {},
   "outputs": [],
   "source": [
    "def Standardization(values):\n",
    "    values_norm = (values - values.min())/ (values.max() - values.min())\n",
    "    return values_norm"
   ]
  },
  {
   "cell_type": "code",
   "execution_count": 25,
   "id": "50fd9cc9",
   "metadata": {},
   "outputs": [],
   "source": [
    "#Parameter Variation\n",
    "values_h = np.linspace(-(unch+2.5),(unch+2.5),num=5000)\n",
    "values_OmegaM = np.linspace(-(uncOmegaM+2.5),(uncOmegaM+2.5),num=5000)\n",
    "values_w0 = np.linspace(-(uncw0Cur+2.5),(uncw0Cur+2.5),num=5000)\n",
    "values_wa = np.linspace(-(uncwaCur+2.5),(uncwaCur+2.5),num=5000)\n",
    "values_zeta = np.linspace(-(unczeta+2.5),(unczeta+2.5),num=5000)"
   ]
  },
  {
   "cell_type": "code",
   "execution_count": 26,
   "id": "002f079c",
   "metadata": {},
   "outputs": [],
   "source": [
    "#Mean\n",
    "mean_h = h\n",
    "mean_OmegaM = OmegaM\n",
    "mean_w0 = -0.9\n",
    "mean_wa = 0.3\n",
    "mean_zeta = -0.1"
   ]
  },
  {
   "cell_type": "markdown",
   "id": "dac5099a",
   "metadata": {},
   "source": [
    "### Bekenstein "
   ]
  },
  {
   "cell_type": "code",
   "execution_count": 27,
   "id": "dad64d48",
   "metadata": {},
   "outputs": [],
   "source": [
    "#BEK - H\n",
    "#zetaM=zetaL=-0.1\n",
    "\n",
    "#Alpha Baseline\n",
    "standard_deviation_hBEK_RedAlphaB_Liske = (Sigmas(BEK_RedAlphaB_Liske)[0])\n",
    "likelihood_hBEK_RedAlphaB_Liske = scipy.stats.norm(mean_h, standard_deviation_hBEK_RedAlphaB_Liske)\n",
    "norm_hBEK_RedAlphaB_Liske=Standardization(likelihood_hBEK_RedAlphaB_Liske.pdf(values_h))\n",
    "#Alpha Optimistic\n",
    "standard_deviation_hBEK_RedAlphaO_Liske = (Sigmas(BEK_RedAlphaO_Liske)[0])\n",
    "likelihood_hBEK_RedAlphaO_Liske = scipy.stats.norm(mean_h, standard_deviation_hBEK_RedAlphaO_Liske)\n",
    "norm_hBEK_RedAlphaO_Liske=Standardization(likelihood_hBEK_RedAlphaO_Liske.pdf(values_h))\n",
    "\n",
    "\n",
    "#LambdaCDM\n",
    "#zetaM=zetaL=0\n",
    "\n",
    "#Alpha Baseline\n",
    "standard_deviation_hBEK0_RedAlphaB_Liske = (Sigmas(BEK0_RedAlphaB_Liske)[0])\n",
    "likelihood_hBEK0_RedAlphaB_Liske = scipy.stats.norm(mean_h, standard_deviation_hBEK0_RedAlphaB_Liske)\n",
    "norm_hBEK0_RedAlphaB_Liske=Standardization(likelihood_hBEK0_RedAlphaB_Liske.pdf(values_h))\n",
    "#Alpha Optimistic\n",
    "standard_deviation_hBEK0_RedAlphaO_Liske = (Sigmas(BEK0_RedAlphaO_Liske)[0])\n",
    "likelihood_hBEK0_RedAlphaO_Liske = scipy.stats.norm(mean_h, standard_deviation_hBEK0_RedAlphaO_Liske)\n",
    "norm_hBEK0_RedAlphaO_Liske=Standardization(likelihood_hBEK0_RedAlphaO_Liske.pdf(values_h))"
   ]
  },
  {
   "cell_type": "code",
   "execution_count": 28,
   "id": "794de8f3",
   "metadata": {},
   "outputs": [],
   "source": [
    "fig = plt.figure(figsize=[10,8])\n",
    "\n",
    "plt.plot(values_h, norm_hBEK_RedAlphaB_Liske, color ='blue')\n",
    "plt.plot(values_h, norm_hBEK_RedAlphaO_Liske, 'blue',linestyle='--')\n",
    "\n",
    "plt.plot(values_h, norm_hBEK0_RedAlphaB_Liske, color ='mediumvioletred')\n",
    "plt.plot(values_h, norm_hBEK0_RedAlphaO_Liske, 'mediumvioletred', linestyle='--')\n",
    "\n",
    "plt.tick_params(axis='both', which='major', labelsize=20)\n",
    "plt.ylabel('Likelihood', fontsize=24)\n",
    "plt.xlabel('$h$',fontsize=24)\n",
    "plt.xlim(0.5,0.9)\n",
    "\n",
    "#plt.savefig('LikelihoodBEK_h.png', dpi=300, bbox_inches='tight')\n",
    "plt.close()"
   ]
  },
  {
   "cell_type": "code",
   "execution_count": 29,
   "id": "f9234513",
   "metadata": {},
   "outputs": [],
   "source": [
    "#BEK - OMEGAM\n",
    "#zetaM=zetaL=-0.1\n",
    "\n",
    "#Alpha Baseline\n",
    "standard_deviation_OmegaMBEK_RedAlphaB_Liske = (Sigmas(BEK_RedAlphaB_Liske)[1])\n",
    "likelihood_OmegaMBEK_RedAlphaB_Liske = scipy.stats.norm(mean_OmegaM, standard_deviation_OmegaMBEK_RedAlphaB_Liske)\n",
    "norm_OmegaMBEK_RedAlphaB_Liske=Standardization(likelihood_OmegaMBEK_RedAlphaB_Liske.pdf(values_OmegaM))\n",
    "#Alpha Optimistic\n",
    "standard_deviation_OmegaMBEK_RedAlphaO_Liske = (Sigmas(BEK_RedAlphaO_Liske)[1])\n",
    "likelihood_OmegaMBEK_RedAlphaO_Liske = scipy.stats.norm(mean_OmegaM, standard_deviation_OmegaMBEK_RedAlphaO_Liske)\n",
    "norm_OmegaMBEK_RedAlphaO_Liske=Standardization(likelihood_OmegaMBEK_RedAlphaO_Liske.pdf(values_OmegaM))\n",
    "\n",
    "\n",
    "#LambdaCDM\n",
    "#zetaM=zetaL=0\n",
    "\n",
    "#Alpha Baseline\n",
    "standard_deviation_OmegaMBEK0_RedAlphaB_Liske = (Sigmas(BEK0_RedAlphaB_Liske)[1])\n",
    "likelihood_OmegaMBEK0_RedAlphaB_Liske = scipy.stats.norm(mean_OmegaM, standard_deviation_OmegaMBEK0_RedAlphaB_Liske)\n",
    "norm_OmegaMBEK0_RedAlphaB_Liske=Standardization(likelihood_OmegaMBEK0_RedAlphaB_Liske.pdf(values_OmegaM))\n",
    "#Alpha Optimistic\n",
    "standard_deviation_OmegaMBEK0_RedAlphaO_Liske = (Sigmas(BEK0_RedAlphaO_Liske)[1])\n",
    "likelihood_OmegaMBEK0_RedAlphaO_Liske = scipy.stats.norm(mean_OmegaM, standard_deviation_OmegaMBEK0_RedAlphaO_Liske)\n",
    "norm_OmegaMBEK0_RedAlphaO_Liske=Standardization(likelihood_OmegaMBEK0_RedAlphaO_Liske.pdf(values_OmegaM))"
   ]
  },
  {
   "cell_type": "code",
   "execution_count": 30,
   "id": "326082bf",
   "metadata": {},
   "outputs": [],
   "source": [
    "fig = plt.figure(figsize=[10,8])\n",
    "\n",
    "plt.plot(values_OmegaM, norm_OmegaMBEK_RedAlphaB_Liske, color ='blue')\n",
    "plt.plot(values_OmegaM, norm_OmegaMBEK_RedAlphaO_Liske, 'blue',linestyle='--')\n",
    "\n",
    "plt.plot(values_OmegaM, norm_OmegaMBEK0_RedAlphaB_Liske, color ='mediumvioletred')\n",
    "plt.plot(values_OmegaM, norm_OmegaMBEK0_RedAlphaO_Liske, 'mediumvioletred', linestyle='--')\n",
    "\n",
    "plt.locator_params(axis=\"x\", nbins=5)\n",
    "plt.tick_params(axis='both', which='major', labelsize=20)\n",
    "plt.ylabel('Likelihood', fontsize=24)\n",
    "plt.xlabel('$\\Omega_m$',fontsize=24)\n",
    "plt.xlim(0.2,0.4)\n",
    "\n",
    "#plt.savefig('LikelihoodBEK_OmegaM.png', dpi=300, bbox_inches='tight')\n",
    "plt.close()"
   ]
  },
  {
   "cell_type": "code",
   "execution_count": 31,
   "id": "83f31faa",
   "metadata": {},
   "outputs": [],
   "source": [
    "#BEK - ZETAM\n",
    "#zetaM=zetaL=-0.1\n",
    "\n",
    "#Alpha Baseline\n",
    "standard_deviation_zetaMBEK_RedAlphaB_Liske = (Sigmas(BEK_RedAlphaB_Liske)[2])\n",
    "likelihood_zetaMBEK_RedAlphaB_Liske = scipy.stats.norm(mean_zeta, standard_deviation_zetaMBEK_RedAlphaB_Liske)\n",
    "norm_zetaMBEK_RedAlphaB_Liske=Standardization(likelihood_zetaMBEK_RedAlphaB_Liske.pdf(values_zeta))\n",
    "#Alpha Optimistic\n",
    "standard_deviation_zetaMBEK_RedAlphaO_Liske = (Sigmas(BEK_RedAlphaO_Liske)[2])\n",
    "likelihood_zetaMBEK_RedAlphaO_Liske = scipy.stats.norm(mean_zeta, standard_deviation_zetaMBEK_RedAlphaO_Liske)\n",
    "norm_zetaMBEK_RedAlphaO_Liske=Standardization(likelihood_zetaMBEK_RedAlphaO_Liske.pdf(values_zeta))\n",
    "\n",
    "\n",
    "#LambdaCDM\n",
    "#zetaM=zetaL=0\n",
    "\n",
    "#Alpha Baseline\n",
    "likelihood_zetaMBEK0_RedAlphaB_Liske = scipy.stats.norm(0, standard_deviation_zetaMBEK_RedAlphaB_Liske)\n",
    "norm_zetaMBEK0_RedAlphaB_Liske=Standardization(likelihood_zetaMBEK0_RedAlphaB_Liske.pdf(values_zeta))\n",
    "#Alpha Optimistic\n",
    "likelihood_zetaMBEK0_RedAlphaO_Liske = scipy.stats.norm(0, standard_deviation_zetaMBEK_RedAlphaO_Liske)\n",
    "norm_zetaMBEK0_RedAlphaO_Liske=Standardization(likelihood_zetaMBEK0_RedAlphaO_Liske.pdf(values_zeta))"
   ]
  },
  {
   "cell_type": "code",
   "execution_count": 32,
   "id": "c95cfafb",
   "metadata": {},
   "outputs": [],
   "source": [
    "fig = plt.figure(figsize=[10,8])\n",
    "\n",
    "plt.plot(values_zeta, norm_zetaMBEK_RedAlphaB_Liske, color ='blue')\n",
    "plt.plot(values_zeta, norm_zetaMBEK_RedAlphaO_Liske, 'blue',linestyle='--')\n",
    "\n",
    "plt.plot(values_zeta, norm_zetaMBEK0_RedAlphaB_Liske, color ='mediumvioletred')\n",
    "plt.plot(values_zeta, norm_zetaMBEK0_RedAlphaO_Liske, 'mediumvioletred', linestyle='--')\n",
    "\n",
    "plt.tick_params(axis='both', which='major', labelsize=20)\n",
    "plt.ylabel('Likelihood', fontsize=24)\n",
    "plt.xlabel('$\\zeta_m$ (ppm)',fontsize=24)\n",
    "plt.xlim(-0.3,0.2)\n",
    "\n",
    "#plt.savefig('LikelihoodBEK_Zm.png', dpi=300, bbox_inches='tight')\n",
    "plt.close()"
   ]
  },
  {
   "cell_type": "code",
   "execution_count": 33,
   "id": "bcb55142",
   "metadata": {},
   "outputs": [],
   "source": [
    "#BEK - ZETAL\n",
    "#zetaM=zetaL=-0.1\n",
    "\n",
    "#Alpha Baseline\n",
    "standard_deviation_zetaLBEK_RedAlphaB_Liske = (Sigmas(BEK_RedAlphaB_Liske)[3])\n",
    "likelihood_zetaLBEK_RedAlphaB_Liske = scipy.stats.norm(mean_zeta, standard_deviation_zetaLBEK_RedAlphaB_Liske)\n",
    "norm_zetaLBEK_RedAlphaB_Liske=Standardization(likelihood_zetaLBEK_RedAlphaB_Liske.pdf(values_zeta))\n",
    "#Alpha Optimistic\n",
    "standard_deviation_zetaLBEK_RedAlphaO_Liske = (Sigmas(BEK_RedAlphaO_Liske)[3])\n",
    "likelihood_zetaLBEK_RedAlphaO_Liske = scipy.stats.norm(mean_zeta, standard_deviation_zetaLBEK_RedAlphaO_Liske)\n",
    "norm_zetaLBEK_RedAlphaO_Liske=Standardization(likelihood_zetaLBEK_RedAlphaO_Liske.pdf(values_zeta))\n",
    "\n",
    "\n",
    "#LambdaCDM\n",
    "#zetaM=zetaL=0\n",
    "\n",
    "#Alpha Baseline\n",
    "likelihood_zetaLBEK0_RedAlphaB_Liske = scipy.stats.norm(0, standard_deviation_zetaLBEK_RedAlphaB_Liske)\n",
    "norm_zetaLBEK0_RedAlphaB_Liske=Standardization(likelihood_zetaLBEK0_RedAlphaB_Liske.pdf(values_zeta))\n",
    "#Alpha Optimistic\n",
    "likelihood_zetaLBEK0_RedAlphaO_Liske = scipy.stats.norm(0, standard_deviation_zetaLBEK_RedAlphaO_Liske)\n",
    "norm_zetaLBEK0_RedAlphaO_Liske=Standardization(likelihood_zetaLBEK0_RedAlphaO_Liske.pdf(values_zeta))"
   ]
  },
  {
   "cell_type": "code",
   "execution_count": 34,
   "id": "0431be9a",
   "metadata": {},
   "outputs": [],
   "source": [
    "fig = plt.figure(figsize=[10,8])\n",
    "\n",
    "plt.plot(values_zeta, norm_zetaLBEK_RedAlphaB_Liske, color ='blue')\n",
    "plt.plot(values_zeta, norm_zetaLBEK_RedAlphaO_Liske, 'blue',linestyle='--')\n",
    "\n",
    "plt.plot(values_zeta, norm_zetaLBEK0_RedAlphaB_Liske, color ='mediumvioletred')\n",
    "plt.plot(values_zeta, norm_zetaLBEK0_RedAlphaO_Liske, 'mediumvioletred', linestyle='--')\n",
    "\n",
    "plt.tick_params(axis='both', which='major', labelsize=20)\n",
    "plt.ylabel('Likelihood', fontsize=24)\n",
    "plt.xlabel('$\\zeta_\\Lambda$ (ppm)',fontsize=24)\n",
    "plt.xlim(-1.2,1.2)\n",
    "\n",
    "#plt.savefig('LikelihoodBEK_Zl.png', dpi=300, bbox_inches='tight')\n",
    "plt.close()"
   ]
  },
  {
   "cell_type": "markdown",
   "id": "c257ead6",
   "metadata": {},
   "source": [
    "### CPL"
   ]
  },
  {
   "cell_type": "code",
   "execution_count": 35,
   "id": "d3b92591",
   "metadata": {},
   "outputs": [],
   "source": [
    "#CPL - H\n",
    "#w0=-0.9 and wa=0.3\n",
    "\n",
    "#Alpha Baseline\n",
    "standard_deviation_hCPL_RedAlphaB_Liske = (Sigmas(CPL_RedAlphaB_Liske)[0])\n",
    "likelihood_hCPL_RedAlphaB_Liske = scipy.stats.norm(mean_h, standard_deviation_hCPL_RedAlphaB_Liske)\n",
    "norm_hCPL_RedAlphaB_Liske=Standardization(likelihood_hCPL_RedAlphaB_Liske.pdf(values_h))\n",
    "#Alpha Optimistic\n",
    "standard_deviation_hCPL_RedAlphaO_Liske = (Sigmas(CPL_RedAlphaO_Liske)[0])\n",
    "likelihood_hCPL_RedAlphaO_Liske = scipy.stats.norm(mean_h, standard_deviation_hCPL_RedAlphaO_Liske)\n",
    "norm_hCPL_RedAlphaO_Liske=Standardization(likelihood_hCPL_RedAlphaO_Liske.pdf(values_h))\n",
    "\n",
    "\n",
    "#LambdaCDM\n",
    "#w0=-1 and wa=0\n",
    "\n",
    "#Alpha Baseline\n",
    "standard_deviation_hCPLLCDM_RedAlphaB_Liske = (Sigmas(CPLLCDM_RedAlphaB_Liske)[0])\n",
    "likelihood_hCPLLCDM_RedAlphaB_Liske = scipy.stats.norm(mean_h, standard_deviation_hCPLLCDM_RedAlphaB_Liske)\n",
    "norm_hCPLLCDM_RedAlphaB_Liske=Standardization(likelihood_hCPLLCDM_RedAlphaB_Liske.pdf(values_h))\n",
    "#Alpha Optimistic\n",
    "standard_deviation_hCPLLCDM_RedAlphaO_Liske = (Sigmas(CPLLCDM_RedAlphaO_Liske)[0])\n",
    "likelihood_hCPLLCDM_RedAlphaO_Liske = scipy.stats.norm(mean_h, standard_deviation_hCPLLCDM_RedAlphaO_Liske)\n",
    "norm_hCPLLCDM_RedAlphaO_Liske=Standardization(likelihood_hCPLLCDM_RedAlphaO_Liske.pdf(values_h))"
   ]
  },
  {
   "cell_type": "code",
   "execution_count": 36,
   "id": "b90bcde4",
   "metadata": {},
   "outputs": [],
   "source": [
    "fig = plt.figure(figsize=[10,8])\n",
    "\n",
    "plt.plot(values_h, norm_hCPL_RedAlphaB_Liske, color ='green')\n",
    "plt.plot(values_h, norm_hCPL_RedAlphaO_Liske, 'g--')\n",
    "\n",
    "plt.plot(values_h, norm_hCPLLCDM_RedAlphaB_Liske, color ='darkorange')\n",
    "plt.plot(values_h, norm_hCPLLCDM_RedAlphaO_Liske, 'darkorange', linestyle='--')\n",
    "\n",
    "plt.tick_params(axis='both', which='major', labelsize=20)\n",
    "plt.ylabel('Likelihood', fontsize=24)\n",
    "plt.xlabel('$h$',fontsize=24)\n",
    "plt.xlim(0.5,0.9)\n",
    "\n",
    "#plt.savefig('LikelihoodCPL_h.png', dpi=300, bbox_inches='tight')\n",
    "plt.close()"
   ]
  },
  {
   "cell_type": "code",
   "execution_count": 37,
   "id": "2a955e0c",
   "metadata": {},
   "outputs": [],
   "source": [
    "#CPL - OMEGAM\n",
    "#w0=-0.9 and wa=0.3\n",
    "\n",
    "#Alpha Baseline\n",
    "standard_deviation_OmegaMCPL_RedAlphaB_Liske = (Sigmas(CPL_RedAlphaB_Liske)[1])\n",
    "likelihood_OmegaMCPL_RedAlphaB_Liske = scipy.stats.norm(mean_OmegaM, standard_deviation_OmegaMCPL_RedAlphaB_Liske)\n",
    "norm_OmegaMCPL_RedAlphaB_Liske=Standardization(likelihood_OmegaMCPL_RedAlphaB_Liske.pdf(values_OmegaM))\n",
    "#Alpha Optimistic\n",
    "standard_deviation_OmegaMCPL_RedAlphaO_Liske = (Sigmas(CPL_RedAlphaO_Liske)[1])\n",
    "likelihood_OmegaMCPL_RedAlphaO_Liske = scipy.stats.norm(mean_OmegaM, standard_deviation_OmegaMCPL_RedAlphaO_Liske)\n",
    "norm_OmegaMCPL_RedAlphaO_Liske=Standardization(likelihood_OmegaMCPL_RedAlphaO_Liske.pdf(values_OmegaM))\n",
    "\n",
    "\n",
    "#LambdaCDM\n",
    "#w0=-1 and wa=0\n",
    "\n",
    "#Alpha Baseline\n",
    "standard_deviation_OmegaMCPLLCDM_RedAlphaB_Liske = (Sigmas(CPLLCDM_RedAlphaB_Liske)[1])\n",
    "likelihood_OmegaMCPLLCDM_RedAlphaB_Liske = scipy.stats.norm(mean_OmegaM, standard_deviation_OmegaMCPLLCDM_RedAlphaB_Liske)\n",
    "norm_OmegaMCPLLCDM_RedAlphaB_Liske=Standardization(likelihood_OmegaMCPLLCDM_RedAlphaB_Liske.pdf(values_OmegaM))\n",
    "#Alpha Optimistic\n",
    "standard_deviation_OmegaMCPLLCDM_RedAlphaO_Liske = (Sigmas(CPLLCDM_RedAlphaO_Liske)[1])\n",
    "likelihood_OmegaMCPLLCDM_RedAlphaO_Liske = scipy.stats.norm(mean_OmegaM, standard_deviation_OmegaMCPLLCDM_RedAlphaO_Liske)\n",
    "norm_OmegaMCPLLCDM_RedAlphaO_Liske=Standardization(likelihood_OmegaMCPLLCDM_RedAlphaO_Liske.pdf(values_OmegaM))"
   ]
  },
  {
   "cell_type": "code",
   "execution_count": 38,
   "id": "b311d9aa",
   "metadata": {},
   "outputs": [],
   "source": [
    "fig = plt.figure(figsize=[10,8])\n",
    "\n",
    "plt.plot(values_OmegaM, norm_OmegaMCPL_RedAlphaB_Liske, color ='green')\n",
    "plt.plot(values_OmegaM, norm_OmegaMCPL_RedAlphaO_Liske, 'g--')\n",
    "\n",
    "plt.plot(values_OmegaM, norm_OmegaMCPLLCDM_RedAlphaB_Liske, color ='darkorange')\n",
    "plt.plot(values_OmegaM, norm_OmegaMCPLLCDM_RedAlphaO_Liske, 'darkorange', linestyle='--')\n",
    "\n",
    "plt.locator_params(axis=\"x\", nbins=5)\n",
    "plt.tick_params(axis='both', which='major', labelsize=20)\n",
    "plt.ylabel('Likelihood', fontsize=24)\n",
    "plt.xlabel('$\\Omega_m$',fontsize=24)\n",
    "plt.xlim(0.2,0.4)\n",
    "\n",
    "#plt.savefig('LikelihoodCPL_OmegaM.png', dpi=300, bbox_inches='tight')\n",
    "plt.close()"
   ]
  },
  {
   "cell_type": "code",
   "execution_count": 39,
   "id": "8b96c8a8",
   "metadata": {},
   "outputs": [],
   "source": [
    "#CPL - W0\n",
    "#w0=-0.9 and wa=0.3\n",
    "\n",
    "#Alpha Baseline\n",
    "standard_deviation_w0CPL_RedAlphaB_Liske = (Sigmas(CPL_RedAlphaB_Liske)[2])\n",
    "likelihood_w0CPL_RedAlphaB_Liske = scipy.stats.norm(mean_w0, standard_deviation_w0CPL_RedAlphaB_Liske)\n",
    "norm_w0CPL_RedAlphaB_Liske=Standardization(likelihood_w0CPL_RedAlphaB_Liske.pdf(values_w0))\n",
    "#Alpha Optimistic\n",
    "standard_deviation_w0CPL_RedAlphaO_Liske = (Sigmas(CPL_RedAlphaO_Liske)[2])\n",
    "likelihood_w0CPL_RedAlphaO_Liske = scipy.stats.norm(mean_w0, standard_deviation_w0CPL_RedAlphaO_Liske)\n",
    "norm_w0CPL_RedAlphaO_Liske=Standardization(likelihood_w0CPL_RedAlphaO_Liske.pdf(values_w0))\n",
    "\n",
    "\n",
    "#LambdaCDM\n",
    "#w0=-1 and wa=0\n",
    "\n",
    "#Alpha Baseline\n",
    "#likelihood_w0LCDM_RedAlphaB_Liske = scipy.stats.norm(-1, 0.1)\n",
    "likelihood_w0CPLLCDM_RedAlphaB_Liske = scipy.stats.norm(-1, standard_deviation_w0CPL_RedAlphaB_Liske)\n",
    "norm_w0CPLLCDM_RedAlphaB_Liske=Standardization(likelihood_w0CPLLCDM_RedAlphaB_Liske.pdf(values_w0))\n",
    "#Alpha Optimistic\n",
    "likelihood_w0CPLLCDM_RedAlphaO_Liske = scipy.stats.norm(-1, standard_deviation_w0CPL_RedAlphaO_Liske)\n",
    "norm_w0CPLLCDM_RedAlphaO_Liske=Standardization(likelihood_w0CPLLCDM_RedAlphaO_Liske.pdf(values_w0))"
   ]
  },
  {
   "cell_type": "code",
   "execution_count": 40,
   "id": "fedf6e56",
   "metadata": {},
   "outputs": [],
   "source": [
    "fig = plt.figure(figsize=[10,8])\n",
    "\n",
    "plt.plot(values_w0, norm_w0CPL_RedAlphaB_Liske, color ='green')\n",
    "plt.plot(values_w0, norm_w0CPL_RedAlphaO_Liske, 'g--')\n",
    "\n",
    "plt.plot(values_w0, norm_w0CPLLCDM_RedAlphaB_Liske, color ='darkorange')\n",
    "plt.plot(values_w0, norm_w0CPLLCDM_RedAlphaO_Liske, 'darkorange', linestyle='--')\n",
    "\n",
    "\n",
    "plt.tick_params(axis='both', which='major', labelsize=20)\n",
    "plt.ylabel('Likelihood', fontsize=24)\n",
    "plt.xlabel('$w_0$',fontsize=24)\n",
    "plt.xlim(-1.3,-0.6)\n",
    "\n",
    "#plt.savefig('LikelihoodCPL_w0.png', dpi=300, bbox_inches='tight')\n",
    "plt.close()"
   ]
  },
  {
   "cell_type": "code",
   "execution_count": 41,
   "id": "649d4be1",
   "metadata": {},
   "outputs": [],
   "source": [
    "#CPL - WA\n",
    "#w0=-0.9 and wa=0.3\n",
    "\n",
    "#Alpha Baseline\n",
    "standard_deviation_waCPL_RedAlphaB_Liske = (Sigmas(CPL_RedAlphaB_Liske)[3])\n",
    "likelihood_waCPL_RedAlphaB_Liske = scipy.stats.norm(mean_wa, standard_deviation_waCPL_RedAlphaB_Liske)\n",
    "norm_waCPL_RedAlphaB_Liske=Standardization(likelihood_waCPL_RedAlphaB_Liske.pdf(values_wa))\n",
    "#Alpha Optimistic\n",
    "standard_deviation_waCPL_RedAlphaO_Liske = (Sigmas(CPL_RedAlphaO_Liske)[3])\n",
    "likelihood_waCPL_RedAlphaO_Liske = scipy.stats.norm(mean_wa, standard_deviation_waCPL_RedAlphaO_Liske)\n",
    "norm_waCPL_RedAlphaO_Liske=Standardization(likelihood_waCPL_RedAlphaO_Liske.pdf(values_wa))\n",
    "\n",
    "\n",
    "#LambdaCDM\n",
    "#w0=-1 and wa=0\n",
    "\n",
    "#Alpha Baseline\n",
    "likelihood_waCPLLCDM_RedAlphaB_Liske = scipy.stats.norm(0, standard_deviation_waCPL_RedAlphaB_Liske)\n",
    "norm_waCPLLCDM_RedAlphaB_Liske=Standardization(likelihood_waCPLLCDM_RedAlphaB_Liske.pdf(values_wa))\n",
    "#Alpha Optimistic\n",
    "likelihood_waCPLLCDM_RedAlphaO_Liske = scipy.stats.norm(0, standard_deviation_waCPL_RedAlphaO_Liske)\n",
    "norm_waCPLLCDM_RedAlphaO_Liske=Standardization(likelihood_waCPLLCDM_RedAlphaO_Liske.pdf(values_wa))"
   ]
  },
  {
   "cell_type": "code",
   "execution_count": 42,
   "id": "3ef9484d",
   "metadata": {},
   "outputs": [],
   "source": [
    "fig = plt.figure(figsize=[10,8])\n",
    "\n",
    "plt.plot(values_wa, norm_waCPL_RedAlphaB_Liske, color ='green')\n",
    "plt.plot(values_wa, norm_waCPL_RedAlphaO_Liske, 'g--')\n",
    "\n",
    "plt.plot(values_wa, norm_waCPLLCDM_RedAlphaB_Liske, color ='darkorange')\n",
    "plt.plot(values_wa, norm_waCPLLCDM_RedAlphaO_Liske, 'darkorange', linestyle='--')\n",
    "\n",
    "plt.locator_params(axis=\"x\", nbins=10)\n",
    "plt.tick_params(axis='both', which='major', labelsize=20)\n",
    "plt.ylabel('Likelihood', fontsize=24)\n",
    "plt.xlabel('$w_a$',fontsize=24)\n",
    "plt.xlim(-0.8,1.2)\n",
    "\n",
    "#plt.savefig('LikelihoodCPL_wa.png', dpi=300, bbox_inches='tight')\n",
    "plt.close()"
   ]
  },
  {
   "cell_type": "code",
   "execution_count": 43,
   "id": "35517916",
   "metadata": {},
   "outputs": [],
   "source": [
    "#CPL - ZETA\n",
    "#w0=-0.9 and wa=0.3\n",
    "\n",
    "#Alpha Baseline\n",
    "standard_deviation_zetaCPL_RedAlphaB_Liske = (Sigmas(CPL_RedAlphaB_Liske)[4])\n",
    "likelihood_zetaCPL_RedAlphaB_Liske = scipy.stats.norm(mean_zeta, standard_deviation_zetaCPL_RedAlphaB_Liske)\n",
    "norm_zetaCPL_RedAlphaB_Liske=Standardization(likelihood_zetaCPL_RedAlphaB_Liske.pdf(values_zeta))\n",
    "#Alpha Optimistic\n",
    "standard_deviation_zetaCPL_RedAlphaO_Liske = (Sigmas(CPL_RedAlphaO_Liske)[4])\n",
    "likelihood_zetaCPL_RedAlphaO_Liske = scipy.stats.norm(mean_zeta, standard_deviation_zetaCPL_RedAlphaO_Liske)\n",
    "norm_zetaCPL_RedAlphaO_Liske=Standardization(likelihood_zetaCPL_RedAlphaO_Liske.pdf(values_zeta))\n",
    "\n",
    "\n",
    "#LambdaCDM\n",
    "#w0=-1 and wa=0\n",
    "\n",
    "#Alpha Baseline\n",
    "likelihood_zetaCPLLCDM_RedAlphaB_Liske = scipy.stats.norm(0, standard_deviation_zetaCPL_RedAlphaB_Liske)\n",
    "norm_zetaCPLLCDM_RedAlphaB_Liske=Standardization(likelihood_zetaCPLLCDM_RedAlphaB_Liske.pdf(values_zeta))\n",
    "#Alpha Optimistic\n",
    "likelihood_zetaCPLLCDM_RedAlphaO_Liske = scipy.stats.norm(0, standard_deviation_zetaCPL_RedAlphaO_Liske)\n",
    "norm_zetaCPLLCDM_RedAlphaO_Liske=Standardization(likelihood_zetaCPLLCDM_RedAlphaO_Liske.pdf(values_zeta))"
   ]
  },
  {
   "cell_type": "code",
   "execution_count": 44,
   "id": "581666ee",
   "metadata": {},
   "outputs": [],
   "source": [
    "fig = plt.figure(figsize=[10,8])\n",
    "\n",
    "plt.plot(values_zeta, norm_zetaCPL_RedAlphaB_Liske, color ='green')\n",
    "plt.plot(values_zeta, norm_zetaCPL_RedAlphaO_Liske, 'g--')\n",
    "\n",
    "plt.plot(values_zeta, norm_zetaCPLLCDM_RedAlphaB_Liske, color ='darkorange')\n",
    "plt.plot(values_zeta, norm_zetaCPLLCDM_RedAlphaO_Liske, 'darkorange', linestyle='--')\n",
    "\n",
    "plt.tick_params(axis='both', which='major', labelsize=20)\n",
    "plt.ylabel('Likelihood', fontsize=24)\n",
    "plt.xlabel('$\\zeta$ (ppm)',fontsize=24)\n",
    "plt.xlim(-0.25,0.15)\n",
    "\n",
    "#plt.savefig('LikelihoodCPL_zeta.png', dpi=300, bbox_inches='tight')\n",
    "plt.close()"
   ]
  },
  {
   "cell_type": "markdown",
   "id": "400ae8e5",
   "metadata": {},
   "source": [
    "### Model Comparison"
   ]
  },
  {
   "cell_type": "code",
   "execution_count": 61,
   "id": "b5c9d992",
   "metadata": {},
   "outputs": [],
   "source": [
    "#7x7 matrix - baseline\n",
    "M7_B = M7_BEK_B + M7_BEK0_B + M7_CPL_B + M7_CPLLCDM_B\n",
    "#7x7 matrix - optimistic\n",
    "M7_O = M7_BEK_O + M7_BEK0_O + M7_CPL_O + M7_CPLLCDM_O"
   ]
  },
  {
   "cell_type": "code",
   "execution_count": 112,
   "id": "444c65ef",
   "metadata": {},
   "outputs": [],
   "source": [
    "M7_B_CPL = np.delete(M7_B,[4,5],0)\n",
    "M7_B_CPL = np.delete(M7_B_CPL,[4,5],1)\n",
    "\n",
    "M7_B_BEK = np.delete(M7_B,[2,3,6],0)\n",
    "M7_B_BEK = np.delete(M7_B_BEK,[2,3,6],1)\n",
    "\n",
    "M7_B_LCDM = np.delete(M7_B,[2,3,4,5,6],0)\n",
    "M7_B_LCDM = np.delete(M7_B_LCDM,[2,3,4,5,6],1)\n",
    "\n",
    "\n",
    "M7_O_CPL = np.delete(M7_O,[4,5],0)\n",
    "M7_O_CPL = np.delete(M7_O_CPL,[4,5],1)\n",
    "\n",
    "M7_O_BEK = np.delete(M7_O,[2,3,6],0)\n",
    "M7_O_BEK = np.delete(M7_O_BEK,[2,3,6],1)\n",
    "\n",
    "M7_O_LCDM = np.delete(M7_O,[2,3,4,5,6],0)\n",
    "M7_O_LCDM = np.delete(M7_O_LCDM,[2,3,4,5,6],1)"
   ]
  },
  {
   "cell_type": "code",
   "execution_count": 56,
   "id": "9d47274e",
   "metadata": {},
   "outputs": [
    {
     "data": {
      "text/plain": [
       "array([0.02409564, 0.00832017, 0.0918369 , 0.24836298, 0.05700575])"
      ]
     },
     "execution_count": 56,
     "metadata": {},
     "output_type": "execute_result"
    }
   ],
   "source": [
    "Sigmas(M7_B_CPL)"
   ]
  },
  {
   "cell_type": "code",
   "execution_count": 58,
   "id": "8925f689",
   "metadata": {},
   "outputs": [
    {
     "data": {
      "text/plain": [
       "array([0.02406553, 0.0080329 , 0.06784423, 0.40683116])"
      ]
     },
     "execution_count": 58,
     "metadata": {},
     "output_type": "execute_result"
    }
   ],
   "source": [
    "Sigmas(M7_B_BEK)"
   ]
  },
  {
   "cell_type": "code",
   "execution_count": 60,
   "id": "d93d6225",
   "metadata": {},
   "outputs": [
    {
     "data": {
      "text/plain": [
       "array([0.0240645 , 0.00803008])"
      ]
     },
     "execution_count": 60,
     "metadata": {},
     "output_type": "execute_result"
    }
   ],
   "source": [
    "Sigmas(M7_B_LCDM)"
   ]
  },
  {
   "cell_type": "code",
   "execution_count": 139,
   "id": "ce8eed01",
   "metadata": {},
   "outputs": [],
   "source": [
    "#H\n",
    "\n",
    "##Baseline\n",
    "\n",
    "#LambdaCDM\n",
    "standard_deviation_hLCDM_M7_B = Sigmas(M7_B_LCDM)[0]\n",
    "likelihood_hLCDM_M7_B = scipy.stats.norm(mean_h, standard_deviation_hLCDM_M7_B)\n",
    "norm_hLCDM_M7_B=Standardization(likelihood_hLCDM_M7_B.pdf(values_h))\n",
    "\n",
    "#CPL\n",
    "standard_deviation_hCPL_M7_B = Sigmas(M7_B_CPL)[0]\n",
    "likelihood_hCPL_M7_B = scipy.stats.norm(mean_h, standard_deviation_hCPL_M7_B)\n",
    "norm_hCPL_M7_B=Standardization(likelihood_hCPL_M7_B.pdf(values_h))\n",
    "\n",
    "#Bekenstein\n",
    "standard_deviation_hBEK_M7_B = Sigmas(M7_B_BEK)[0]\n",
    "likelihood_hBEK_M7_B = scipy.stats.norm(mean_h, standard_deviation_hBEK_M7_B)\n",
    "norm_hBEK_M7_B=Standardization(likelihood_hBEK_M7_B.pdf(values_h))\n",
    "\n",
    "\n",
    "##Optimistic\n",
    "\n",
    "#LambdaCDM\n",
    "standard_deviation_hLCDM_M7_O = Sigmas(M7_O_LCDM)[0]\n",
    "likelihood_hLCDM_M7_O = scipy.stats.norm(mean_h, standard_deviation_hLCDM_M7_O)\n",
    "norm_hLCDM_M7_O=Standardization(likelihood_hLCDM_M7_O.pdf(values_h))\n",
    "\n",
    "#CPL\n",
    "standard_deviation_hCPL_M7_O = Sigmas(M7_O_CPL)[0]\n",
    "likelihood_hCPL_M7_O = scipy.stats.norm(mean_h, standard_deviation_hCPL_M7_O)\n",
    "norm_hCPL_M7_O=Standardization(likelihood_hCPL_M7_O.pdf(values_h))\n",
    "\n",
    "#Bekenstein\n",
    "standard_deviation_hBEK_M7_O = Sigmas(M7_O_BEK)[0]\n",
    "likelihood_hBEK_M7_O = scipy.stats.norm(mean_h, standard_deviation_hBEK_M7_O)\n",
    "norm_hBEK_M7_O=Standardization(likelihood_hBEK_M7_O.pdf(values_h))"
   ]
  },
  {
   "cell_type": "code",
   "execution_count": 140,
   "id": "c6a7a2cf",
   "metadata": {},
   "outputs": [
    {
     "data": {
      "text/plain": [
       "(0.63, 0.77)"
      ]
     },
     "execution_count": 140,
     "metadata": {},
     "output_type": "execute_result"
    },
    {
     "data": {
      "image/png": "[encoded data removed]",
      "text/plain": [
       "<Figure size 720x576 with 1 Axes>"
      ]
     },
     "metadata": {
      "needs_background": "light"
     },
     "output_type": "display_data"
    }
   ],
   "source": [
    "fig = plt.figure(figsize=[10,8])\n",
    "\n",
    "plt.plot(values_h, norm_hLCDM_M7_B, color ='red')\n",
    "plt.plot(values_h, norm_hCPL_M7_B, 'green')\n",
    "plt.plot(values_h, norm_hBEK_M7_B, color ='blue')\n",
    "\n",
    "plt.plot(values_h, norm_hLCDM_M7_O, color ='red',linestyle='--')\n",
    "plt.plot(values_h, norm_hCPL_M7_O, 'green',linestyle='--')\n",
    "plt.plot(values_h, norm_hBEK_M7_O, color ='blue',linestyle='--')\n",
    "\n",
    "#plt.plot(values_zeta, norm_zetaCPLLCDM_RedAlphaO_Liske, 'darkorange', linestyle='--')\n",
    "\n",
    "plt.tick_params(axis='both', which='major', labelsize=20)\n",
    "plt.ylabel('Likelihood', fontsize=24)\n",
    "plt.xlabel('$h$',fontsize=24)\n",
    "plt.xlim(0.63,0.77)\n",
    "\n",
    "#plt.savefig('LikelihoodCPL_zeta.png', dpi=300, bbox_inches='tight')\n",
    "#plt.close()"
   ]
  },
  {
   "cell_type": "code",
   "execution_count": 113,
   "id": "b76a7b2f",
   "metadata": {},
   "outputs": [],
   "source": [
    "#OmegaM\n",
    "\n",
    "##Baseline\n",
    "\n",
    "#LambdaCDM\n",
    "standard_deviation_OmegaMLCDM_M7_B = Sigmas(M7_B_LCDM)[1]\n",
    "likelihood_OmegaMLCDM_M7_B = scipy.stats.norm(mean_OmegaM, standard_deviation_OmegaMLCDM_M7_B)\n",
    "norm_OmegaMLCDM_M7_B=Standardization(likelihood_OmegaMLCDM_M7_B.pdf(values_OmegaM))\n",
    "\n",
    "#CPL\n",
    "standard_deviation_OmegaMCPL_M7_B = Sigmas(M7_B_CPL)[1]\n",
    "likelihood_OmegaMCPL_M7_B = scipy.stats.norm(mean_OmegaM, standard_deviation_OmegaMCPL_M7_B)\n",
    "norm_OmegaMCPL_M7_B=Standardization(likelihood_OmegaMCPL_M7_B.pdf(values_OmegaM))\n",
    "\n",
    "#Bekenstein\n",
    "standard_deviation_OmegaMBEK_M7_B = Sigmas(M7_B_BEK)[1]\n",
    "likelihood_OmegaMBEK_M7_B = scipy.stats.norm(mean_OmegaM, standard_deviation_OmegaMBEK_M7_B)\n",
    "norm_OmegaMBEK_M7_B=Standardization(likelihood_OmegaMBEK_M7_B.pdf(values_OmegaM))\n",
    "\n",
    "##Optimistic\n",
    "\n",
    "#LambdaCDM\n",
    "standard_deviation_OmegaMLCDM_M7_O = Sigmas(M7_O_LCDM)[1]\n",
    "likelihood_OmegaMLCDM_M7_O = scipy.stats.norm(mean_OmegaM, standard_deviation_OmegaMLCDM_M7_O)\n",
    "norm_OmegaMLCDM_M7_O=Standardization(likelihood_OmegaMLCDM_M7_O.pdf(values_OmegaM))\n",
    "\n",
    "#CPL\n",
    "standard_deviation_OmegaMCPL_M7_O = Sigmas(M7_O_CPL)[1]\n",
    "likelihood_OmegaMCPL_M7_O = scipy.stats.norm(mean_OmegaM, standard_deviation_OmegaMCPL_M7_O)\n",
    "norm_OmegaMCPL_M7_O=Standardization(likelihood_OmegaMCPL_M7_O.pdf(values_OmegaM))\n",
    "\n",
    "#Bekenstein\n",
    "standard_deviation_OmegaMBEK_M7_O = Sigmas(M7_O_BEK)[1]\n",
    "likelihood_OmegaMBEK_M7_O = scipy.stats.norm(mean_OmegaM, standard_deviation_OmegaMBEK_M7_O)\n",
    "norm_OmegaMBEK_M7_O=Standardization(likelihood_OmegaMBEK_M7_O.pdf(values_OmegaM))\n",
    "\n"
   ]
  },
  {
   "cell_type": "code",
   "execution_count": 116,
   "id": "cabc98d0",
   "metadata": {},
   "outputs": [
    {
     "data": {
      "text/plain": [
       "(0.28, 0.32)"
      ]
     },
     "execution_count": 116,
     "metadata": {},
     "output_type": "execute_result"
    },
    {
     "data": {
      "image/png": "[encoded data removed]",
      "text/plain": [
       "<Figure size 720x576 with 1 Axes>"
      ]
     },
     "metadata": {
      "needs_background": "light"
     },
     "output_type": "display_data"
    }
   ],
   "source": [
    "fig = plt.figure(figsize=[10,8])\n",
    "\n",
    "plt.plot(values_OmegaM, norm_OmegaMLCDM_M7_B, color ='red')\n",
    "plt.plot(values_OmegaM, norm_OmegaMCPL_M7_B, 'green')\n",
    "plt.plot(values_OmegaM, norm_OmegaMBEK_M7_B, color ='blue')\n",
    "\n",
    "plt.plot(values_OmegaM, norm_OmegaMLCDM_M7_O, color ='red',linestyle='--')\n",
    "plt.plot(values_OmegaM, norm_OmegaMCPL_M7_O, 'green',linestyle='--')\n",
    "plt.plot(values_OmegaM, norm_OmegaMBEK_M7_O, color ='blue',linestyle='--')\n",
    "\n",
    "#plt.plot(values_zeta, norm_zetaCPLLCDM_RedAlphaO_Liske, 'darkorange', linestyle='--')\n",
    "\n",
    "plt.tick_params(axis='both', which='major', labelsize=20)\n",
    "plt.ylabel('Likelihood', fontsize=24)\n",
    "plt.xlabel('$\\Omega_m$',fontsize=24)\n",
    "plt.xlim(0.28,0.32)\n",
    "\n",
    "#plt.savefig('LikelihoodCPL_zeta.png', dpi=300, bbox_inches='tight')\n",
    "#plt.close()"
   ]
  },
  {
   "cell_type": "code",
   "execution_count": 117,
   "id": "8c10a574",
   "metadata": {},
   "outputs": [],
   "source": [
    "#w0\n",
    "\n",
    "##CPL\n",
    "\n",
    "#Baseline\n",
    "standard_deviation_w0CPL_M7_B = Sigmas(M7_B_CPL)[2]\n",
    "likelihood_w0CPL_M7_B = scipy.stats.norm(mean_w0, standard_deviation_w0CPL_M7_B)\n",
    "norm_w0CPL_M7_B=Standardization(likelihood_w0CPL_M7_B.pdf(values_w0))\n",
    "\n",
    "#Optimistic\n",
    "standard_deviation_w0CPL_M7_O = Sigmas(M7_O_CPL)[2]\n",
    "likelihood_w0CPL_M7_O = scipy.stats.norm(mean_w0, standard_deviation_w0CPL_M7_O)\n",
    "norm_w0CPL_M7_O=Standardization(likelihood_w0CPL_M7_O.pdf(values_w0))"
   ]
  },
  {
   "cell_type": "code",
   "execution_count": 118,
   "id": "2ca674fb",
   "metadata": {},
   "outputs": [
    {
     "data": {
      "text/plain": [
       "(-1.2, -0.6)"
      ]
     },
     "execution_count": 118,
     "metadata": {},
     "output_type": "execute_result"
    },
    {
     "data": {
      "image/png": "[encoded data removed]",
      "text/plain": [
       "<Figure size 720x576 with 1 Axes>"
      ]
     },
     "metadata": {
      "needs_background": "light"
     },
     "output_type": "display_data"
    }
   ],
   "source": [
    "fig = plt.figure(figsize=[10,8])\n",
    "\n",
    "#plt.plot(values_w0, norm_w0LCDM_M7_B, color ='red')\n",
    "plt.plot(values_w0, norm_w0CPL_M7_B, 'green')\n",
    "\n",
    "plt.plot(values_w0, norm_w0CPL_M7_O, 'green',linestyle='--')\n",
    "\n",
    "#plt.plot(values_OmegaM, norm_OmegaMBEK_M7_B, color ='blue')\n",
    "\n",
    "#plt.plot(values_zeta, norm_zetaCPLLCDM_RedAlphaO_Liske, 'darkorange', linestyle='--')\n",
    "\n",
    "plt.tick_params(axis='both', which='major', labelsize=20)\n",
    "plt.ylabel('Likelihood', fontsize=24)\n",
    "plt.xlabel('$w_0$',fontsize=24)\n",
    "plt.xlim(-1.2,-0.6)\n",
    "\n",
    "#plt.savefig('LikelihoodCPL_zeta.png', dpi=300, bbox_inches='tight')\n",
    "#plt.close()"
   ]
  },
  {
   "cell_type": "code",
   "execution_count": 119,
   "id": "689f00bc",
   "metadata": {},
   "outputs": [],
   "source": [
    "#wa\n",
    "\n",
    "#CPL\n",
    "\n",
    "#Baseline\n",
    "standard_deviation_waCPL_M7_B = Sigmas(M7_B_CPL)[3]\n",
    "likelihood_waCPL_M7_B = scipy.stats.norm(mean_wa, standard_deviation_waCPL_M7_B)\n",
    "norm_waCPL_M7_B=Standardization(likelihood_waCPL_M7_B.pdf(values_wa))\n",
    "\n",
    "#Optimistic\n",
    "standard_deviation_waCPL_M7_O = Sigmas(M7_O_CPL)[3]\n",
    "likelihood_waCPL_M7_O = scipy.stats.norm(mean_wa, standard_deviation_waCPL_M7_O)\n",
    "norm_waCPL_M7_O=Standardization(likelihood_waCPL_M7_O.pdf(values_wa))"
   ]
  },
  {
   "cell_type": "code",
   "execution_count": 122,
   "id": "4cfcff17",
   "metadata": {},
   "outputs": [
    {
     "data": {
      "text/plain": [
       "(-0.4, 1.0)"
      ]
     },
     "execution_count": 122,
     "metadata": {},
     "output_type": "execute_result"
    },
    {
     "data": {
      "image/png": "[encoded data removed]",
      "text/plain": [
       "<Figure size 720x576 with 1 Axes>"
      ]
     },
     "metadata": {
      "needs_background": "light"
     },
     "output_type": "display_data"
    }
   ],
   "source": [
    "fig = plt.figure(figsize=[10,8])\n",
    "\n",
    "#plt.plot(values_w0, norm_w0LCDM_M7_B, color ='red')\n",
    "plt.plot(values_wa, norm_waCPL_M7_B, 'green')\n",
    "plt.plot(values_wa, norm_waCPL_M7_O, 'green', linestyle='--')\n",
    "\n",
    "#plt.plot(values_OmegaM, norm_OmegaMBEK_M7_B, color ='blue')\n",
    "\n",
    "#plt.plot(values_zeta, norm_zetaCPLLCDM_RedAlphaO_Liske, 'darkorange', linestyle='--')\n",
    "\n",
    "plt.tick_params(axis='both', which='major', labelsize=20)\n",
    "plt.ylabel('Likelihood', fontsize=24)\n",
    "plt.xlabel('$w_a$',fontsize=24)\n",
    "plt.xlim(-0.4,1)\n",
    "\n",
    "#plt.savefig('LikelihoodCPL_zeta.png', dpi=300, bbox_inches='tight')\n",
    "#plt.close()"
   ]
  },
  {
   "cell_type": "code",
   "execution_count": 123,
   "id": "9145d7d5",
   "metadata": {},
   "outputs": [],
   "source": [
    "#ZetaM\n",
    "\n",
    "#Bekenstein\n",
    "\n",
    "#Baseline\n",
    "standard_deviation_ZetaMBEK_M7_B = Sigmas(M7_B_BEK)[2]\n",
    "likelihood_ZetaMBEK_M7_B = scipy.stats.norm(mean_zeta, standard_deviation_ZetaMBEK_M7_B)\n",
    "norm_ZetaMBEK_M7_B=Standardization(likelihood_ZetaMBEK_M7_B.pdf(values_zeta))\n",
    "\n",
    "#Optimistic\n",
    "standard_deviation_ZetaMBEK_M7_O = Sigmas(M7_O_BEK)[2]\n",
    "likelihood_ZetaMBEK_M7_O = scipy.stats.norm(mean_zeta, standard_deviation_ZetaMBEK_M7_O)\n",
    "norm_ZetaMBEK_M7_O=Standardization(likelihood_ZetaMBEK_M7_O.pdf(values_zeta))"
   ]
  },
  {
   "cell_type": "code",
   "execution_count": 124,
   "id": "2d02a4f2",
   "metadata": {},
   "outputs": [
    {
     "data": {
      "text/plain": [
       "(-0.4, 0.2)"
      ]
     },
     "execution_count": 124,
     "metadata": {},
     "output_type": "execute_result"
    },
    {
     "data": {
      "image/png": "[encoded data removed]",
      "text/plain": [
       "<Figure size 720x576 with 1 Axes>"
      ]
     },
     "metadata": {
      "needs_background": "light"
     },
     "output_type": "display_data"
    }
   ],
   "source": [
    "fig = plt.figure(figsize=[10,8])\n",
    "\n",
    "#plt.plot(values_w0, norm_w0LCDM_M7_B, color ='red')\n",
    "#plt.plot(values_wa, norm_waCPL_M7_B, 'green')\n",
    "\n",
    "plt.plot(values_zeta, norm_ZetaMBEK_M7_B, color ='blue')\n",
    "plt.plot(values_zeta, norm_ZetaMBEK_M7_O, color ='blue', linestyle='--')\n",
    "\n",
    "#plt.plot(values_zeta, norm_zetaCPLLCDM_RedAlphaO_Liske, 'darkorange', linestyle='--')\n",
    "\n",
    "plt.tick_params(axis='both', which='major', labelsize=20)\n",
    "plt.ylabel('Likelihood', fontsize=24)\n",
    "plt.xlabel('$\\zeta_m$',fontsize=24)\n",
    "plt.xlim(-0.4,0.2)\n",
    "\n",
    "#plt.savefig('LikelihoodCPL_zeta.png', dpi=300, bbox_inches='tight')\n",
    "#plt.close()"
   ]
  },
  {
   "cell_type": "code",
   "execution_count": 127,
   "id": "50e6c341",
   "metadata": {},
   "outputs": [],
   "source": [
    "#ZetaL\n",
    "\n",
    "#Bekenstein\n",
    "\n",
    "#Baseline\n",
    "standard_deviation_ZetaLBEK_M7_B = Sigmas(M7_B_BEK)[3]\n",
    "likelihood_ZetaLBEK_M7_B = scipy.stats.norm(mean_zeta, standard_deviation_ZetaLBEK_M7_B)\n",
    "norm_ZetaLBEK_M7_B=Standardization(likelihood_ZetaLBEK_M7_B.pdf(values_zeta))\n",
    "\n",
    "#Optimistic\n",
    "standard_deviation_ZetaLBEK_M7_O = Sigmas(M7_O_BEK)[3]\n",
    "likelihood_ZetaLBEK_M7_O = scipy.stats.norm(mean_zeta, standard_deviation_ZetaLBEK_M7_O)\n",
    "norm_ZetaLBEK_M7_O=Standardization(likelihood_ZetaLBEK_M7_O.pdf(values_zeta))"
   ]
  },
  {
   "cell_type": "code",
   "execution_count": 135,
   "id": "4ff83131",
   "metadata": {},
   "outputs": [
    {
     "data": {
      "text/plain": [
       "(-1.4, 1.2)"
      ]
     },
     "execution_count": 135,
     "metadata": {},
     "output_type": "execute_result"
    },
    {
     "data": {
      "image/png": "[encoded data removed]",
      "text/plain": [
       "<Figure size 720x576 with 1 Axes>"
      ]
     },
     "metadata": {
      "needs_background": "light"
     },
     "output_type": "display_data"
    }
   ],
   "source": [
    "fig = plt.figure(figsize=[10,8])\n",
    "\n",
    "#plt.plot(values_w0, norm_w0LCDM_M7_B, color ='red')\n",
    "#plt.plot(values_wa, norm_waCPL_M7_B, 'green')\n",
    "\n",
    "plt.plot(values_zeta, norm_ZetaLBEK_M7_B, color ='blue')\n",
    "plt.plot(values_zeta, norm_ZetaLBEK_M7_O, color ='blue', linestyle='--')\n",
    "\n",
    "#plt.plot(values_zeta, norm_zetaCPLLCDM_RedAlphaO_Liske, 'darkorange', linestyle='--')\n",
    "\n",
    "plt.tick_params(axis='both', which='major', labelsize=20)\n",
    "plt.ylabel('Likelihood', fontsize=24)\n",
    "plt.xlabel('$\\zeta_\\Lambda$',fontsize=24)\n",
    "plt.xlim(-1.4,1.2)\n",
    "\n",
    "#plt.savefig('LikelihoodCPL_zeta.png', dpi=300, bbox_inches='tight')\n",
    "#plt.close()"
   ]
  },
  {
   "cell_type": "code",
   "execution_count": 133,
   "id": "4c11c6bc",
   "metadata": {},
   "outputs": [],
   "source": [
    "#Zeta\n",
    "\n",
    "#CPL\n",
    "\n",
    "#Baseline\n",
    "standard_deviation_ZetaCPL_M7_B = Sigmas(M7_B_CPL)[4]\n",
    "likelihood_ZetaCPL_M7_B = scipy.stats.norm(mean_zeta, standard_deviation_ZetaCPL_M7_B)\n",
    "norm_ZetaCPL_M7_B=Standardization(likelihood_ZetaCPL_M7_B.pdf(values_zeta))\n",
    "\n",
    "#Optimistic\n",
    "standard_deviation_ZetaCPL_M7_O = Sigmas(M7_O_CPL)[4]\n",
    "likelihood_ZetaCPL_M7_O = scipy.stats.norm(mean_zeta, standard_deviation_ZetaCPL_M7_O)\n",
    "norm_ZetaCPL_M7_O=Standardization(likelihood_ZetaCPL_M7_O.pdf(values_zeta))"
   ]
  },
  {
   "cell_type": "code",
   "execution_count": 138,
   "id": "15f03769",
   "metadata": {},
   "outputs": [
    {
     "data": {
      "text/plain": [
       "(-0.3, 0.1)"
      ]
     },
     "execution_count": 138,
     "metadata": {},
     "output_type": "execute_result"
    },
    {
     "data": {
      "image/png": "[encoded data removed]",
      "text/plain": [
       "<Figure size 720x576 with 1 Axes>"
      ]
     },
     "metadata": {
      "needs_background": "light"
     },
     "output_type": "display_data"
    }
   ],
   "source": [
    "fig = plt.figure(figsize=[10,8])\n",
    "\n",
    "#plt.plot(values_w0, norm_w0LCDM_M7_B, color ='red')\n",
    "\n",
    "plt.plot(values_zeta, norm_ZetaCPL_M7_B, 'green')\n",
    "plt.plot(values_zeta, norm_ZetaCPL_M7_O, 'green',linestyle='--')\n",
    "\n",
    "#plt.plot(values_zeta, norm_ZetaLBEK_M7_B, color ='blue')\n",
    "#plt.plot(values_zeta, norm_ZetaLBEK_M7_O, color ='blue', linestyle='--')\n",
    "\n",
    "#plt.plot(values_zeta, norm_zetaCPLLCDM_RedAlphaO_Liske, 'darkorange', linestyle='--')\n",
    "\n",
    "plt.tick_params(axis='both', which='major', labelsize=20)\n",
    "plt.ylabel('Likelihood', fontsize=24)\n",
    "plt.xlabel('$\\zeta$',fontsize=24)\n",
    "plt.xlim(-0.3,0.1)\n",
    "\n",
    "#plt.savefig('LikelihoodCPL_zeta.png', dpi=300, bbox_inches='tight')\n",
    "#plt.close()"
   ]
  },
  {
   "cell_type": "code",
   "execution_count": null,
   "id": "b7f0af54",
   "metadata": {},
   "outputs": [],
   "source": []
  }
 ],
 "metadata": {
  "kernelspec": {
   "display_name": "Python 3 (ipykernel)",
   "language": "python",
   "name": "python3"
  },
  "language_info": {
   "codemirror_mode": {
    "name": "ipython",
    "version": 3
   },
   "file_extension": ".py",
   "mimetype": "text/x-python",
   "name": "python",
   "nbconvert_exporter": "python",
   "pygments_lexer": "ipython3",
   "version": "3.7.9"
  }
 },
 "nbformat": 4,
 "nbformat_minor": 5
}
