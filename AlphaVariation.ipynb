{
 "cells": [
  {
   "cell_type": "code",
   "execution_count": 1,
   "id": "d6a18893",
   "metadata": {},
   "outputs": [],
   "source": [
    "%run Main.ipynb"
   ]
  },
  {
   "cell_type": "markdown",
   "id": "6c551268",
   "metadata": {},
   "source": [
    "# Variation of the fine-structure constant\n",
    "\n",
    "## - Models\n",
    "**Bekenstein’s class of varying $\\alpha$ models $\\to$ flat $\\Lambda$CDM case**\n",
    "\n",
    "$\\frac{\\Delta \\alpha}{\\alpha}(z) = 2 \\zeta_m \\log(1+z) + \\frac{2(\\zeta_{\\Lambda} - 2\\zeta_m)}{3\\sqrt{\\Omega_{\\Lambda}}} \\left[ \\log\\left( \\frac{1+\\sqrt{\\Omega_{\\Lambda}}}{\\sqrt{\\Omega_m}}\\right) - \\sqrt{E^2(z)} \\log\\left( \\frac{\\sqrt{\\Omega_{\\Lambda}} + \\sqrt{E^2(z)}}{\\sqrt{\\Omega_m (1+z)^3}} \\right) \\right] \\Leftrightarrow$ \n",
    "\n",
    "$\\Leftrightarrow \\frac{\\Delta \\alpha}{\\alpha}(z) = \\left[ \\frac{2}{3\\sqrt{\\Omega_{\\Lambda}}} \\left[ \\log\\left( \\frac{1+\\sqrt{\\Omega_{\\Lambda}}}{\\sqrt{\\Omega_m}}\\right) - \\sqrt{E^2(z)} \\log\\left( \\frac{\\sqrt{\\Omega_{\\Lambda}} + \\sqrt{E^2(z)}}{\\sqrt{\\Omega_m (1+z)^3}} \\right) \\right] \\right] \\zeta_{\\Lambda} + \\left[ 2\\log(1+z) - \\frac{4}{3\\sqrt{\\Omega_{\\Lambda}}} \\left[ \\log\\left( \\frac{1+\\sqrt{\\Omega_{\\Lambda}}}{\\sqrt{\\Omega_m}}\\right) - \\sqrt{E^2(z)} \\log\\left( \\frac{\\sqrt{\\Omega_{\\Lambda}} + \\sqrt{E^2(z)}}{\\sqrt{\\Omega_m (1+z)^3}} \\right) \\right] \\right] \\zeta_m$\n",
    "\n",
    "For a flat universe we have: $\\Omega_m + \\Omega_{\\Lambda} = 1 \\Rightarrow \\Omega_{\\Lambda} = 1 - \\Omega_m$"
   ]
  },
  {
   "cell_type": "code",
   "execution_count": 2,
   "id": "27f82235",
   "metadata": {},
   "outputs": [],
   "source": [
    "def zeta_lambda(z, OmegaM, w0, wa):\n",
    "    if w0 == None: \n",
    "        w0 = -1.\n",
    "    if wa == None: \n",
    "        wa = 0\n",
    "    #in flat ΛCDM case we always have w0=-1 and wa=0\n",
    "    zeta_lambda = 2/(3*np.sqrt(1-OmegaM)) * (np.log((1+np.sqrt(1-OmegaM))/np.sqrt(OmegaM)) - \n",
    "     (function_E_z(z, OmegaM, w0, wa)*np.log((np.sqrt(1-OmegaM) + \n",
    "        function_E_z(z, OmegaM, w0, wa))/(np.sqrt(OmegaM * (1+z)**3)))))\n",
    "    return zeta_lambda\n",
    "\n",
    "def zeta_m(z, OmegaM, w0, wa):\n",
    "    if w0 == None: \n",
    "        w0 = -1.\n",
    "    if wa == None: \n",
    "        wa = 0\n",
    "    #in flat ΛCDM case we always have w0=-1 and wa=0\n",
    "    zeta_m = 2*np.log(1+z) - (4/(3*np.sqrt(1-OmegaM))) * (np.log((1+np.sqrt(1-OmegaM))/np.sqrt(OmegaM)) - \n",
    "     (function_E_z(z, OmegaM, w0, wa)*np.log((np.sqrt(1-OmegaM) + \n",
    "        function_E_z(z, OmegaM, w0, wa))/(np.sqrt(OmegaM * (1+z)**3)))))\n",
    "    return zeta_m\n",
    "\n",
    "def alpha_v_bekenstein(z, OmegaM, w0, wa, Zl, Zm):\n",
    "    return zeta_lambda(z, OmegaM, w0, wa) * Zl + zeta_m(z, OmegaM, w0, wa) * Zm"
   ]
  },
  {
   "cell_type": "markdown",
   "id": "f8109c77",
   "metadata": {},
   "source": [
    "**CPL Parametrization**\n",
    "\n",
    "$w_{CPL}(z) = w_0 + w_a \\frac{z}{1+z} $ and $\\Omega_{CPL}(z) = \\frac{1-\\Omega_m}{1-\\Omega_m+\\Omega_m (1+z)^{-3(w_0+w_a)} \\exp(3w_az/(1+z))}$\n",
    "\n",
    "For $w_\\phi\\geq-1$:\n",
    "\n",
    "$\\frac{\\Delta \\alpha}{\\alpha}(z) = \\zeta \\int_{0}^{z} \\sqrt{3\\Omega_\\phi(z') [1+w_\\phi(z')]} \\,\\frac{dz\\prime}{1+z\\prime}$\n",
    "\n",
    "For Phantom Energy Fields $(w_\\phi<-1)$:\n",
    "\n",
    "$\\frac{\\Delta \\alpha}{\\alpha}(z) = -\\zeta \\int_{0}^{z} \\sqrt{3\\Omega_\\phi(z') \\mid 1+w_\\phi(z')\\mid} \\,\\frac{dz'}{1+z'}$"
   ]
  },
  {
   "cell_type": "code",
   "execution_count": 3,
   "id": "0142272b",
   "metadata": {},
   "outputs": [],
   "source": [
    "def w_CPL(z, w0, wa):\n",
    "    w_CPL = w0 + wa * (z/(1+z))\n",
    "    return w_CPL\n",
    "\n",
    "def Omega_CPL(z, OmegaM, w0, wa):\n",
    "    Omega_CPL = (1 - OmegaM) / (1 - OmegaM + (OmegaM*(1+z)**(-3*(w0+wa)) * np.exp((3*wa*z)/(1+z))))\n",
    "    return Omega_CPL\n",
    "\n",
    "\n",
    "def function(z, OmegaM, w0, wa):\n",
    "    if w0 >= -1:            \n",
    "        return np.sqrt(3*Omega_CPL(z, OmegaM, w0, wa) * (1 + w_CPL(z, w0, wa)))/(1+z)\n",
    "    if 3*Omega_CPL(z, OmegaM, w0, wa) * (1 + w_CPL(z, w0, wa)) < 0:\n",
    "        return -np.sqrt(3*Omega_CPL(z, OmegaM, w0, wa) * abs(1 + w_CPL(z, w0, wa)))/(1+z)\n",
    "\n",
    "\n",
    "def alpha_v_CPL(z, OmegaM, w0, wa, zeta):\n",
    "    alpha_v_CPL, error = scipy.integrate.quad(function, 0, z, args=(OmegaM, w0, wa),epsabs=10**(-30))\n",
    "    return zeta * alpha_v_CPL  "
   ]
  },
  {
   "cell_type": "markdown",
   "id": "571c2cfe",
   "metadata": {},
   "source": [
    "## - Derivatives calculation\n",
    "**Bekenstein**"
   ]
  },
  {
   "cell_type": "code",
   "execution_count": 4,
   "id": "b1cd1148",
   "metadata": {},
   "outputs": [],
   "source": [
    "def dfdOmegaM_ab(z, OmegaM, w0, wa, Zl, Zm):\n",
    "    return ( alpha_v_bekenstein(z, OmegaM+hh, w0, wa, Zl, Zm)-alpha_v_bekenstein(z, OmegaM, w0, wa, Zl, Zm))/hh\n",
    "\n",
    "def dfdZl(z, OmegaM, w0, wa, Zl, Zm):\n",
    "    return ( alpha_v_bekenstein(z, OmegaM, w0, wa, Zl+hh, Zm)-alpha_v_bekenstein(z, OmegaM, w0, wa, Zl, Zm))/hh\n",
    "\n",
    "def dfdZm(z, OmegaM, w0, wa, Zl, Zm):\n",
    "    return ( alpha_v_bekenstein(z, OmegaM, w0, wa, Zl, Zm+hh)-alpha_v_bekenstein(z, OmegaM, w0, wa, Zl, Zm))/hh"
   ]
  },
  {
   "cell_type": "markdown",
   "id": "46804691",
   "metadata": {},
   "source": [
    "**CPL Parametrization**"
   ]
  },
  {
   "cell_type": "code",
   "execution_count": 5,
   "id": "c3a7ddf8",
   "metadata": {},
   "outputs": [],
   "source": [
    "def dfdOmegaM_a(z, OmegaM, w0, wa, zeta):\n",
    "    return ( alpha_v_CPL(z, OmegaM+hh, w0, wa, zeta)-alpha_v_CPL(z, OmegaM, w0, wa, zeta) )/hh\n",
    "\n",
    "def dfdw0_a(z, OmegaM, w0, wa, zeta):\n",
    "    return ( alpha_v_CPL(z, OmegaM, w0+hh, wa, zeta)-alpha_v_CPL(z, OmegaM, w0, wa, zeta) )/hh\n",
    "\n",
    "def dfdwa_a(z, OmegaM, w0, wa, zeta):\n",
    "    return ( alpha_v_CPL(z, OmegaM, w0, wa+hh, zeta)-alpha_v_CPL(z, OmegaM, w0, wa, zeta) )/hh\n",
    "\n",
    "def dfdzeta(z, OmegaM, w0, wa, zeta):\n",
    "    return ( alpha_v_CPL(z, OmegaM, w0, wa, zeta+hh)-alpha_v_CPL(z, OmegaM, w0, wa, zeta) )/hh"
   ]
  },
  {
   "cell_type": "markdown",
   "id": "aa0b464d",
   "metadata": {},
   "source": [
    "## - Add Priors\n",
    "\n",
    "#### Atomic Clocks\n",
    "\n",
    "- Considering $\\Omega_m$ as a constant:\n",
    "\n",
    "Present-day drift rate constrained by laboratory tests using atomi clocks $(\\Omega_m = 0.3)$:\n",
    "\n",
    "$\\left( \\frac{1}{H}\\frac{\\dot{\\alpha}}{\\alpha} \\right)_0 = - 0.13 \\zeta_{\\Lambda} - 1.74 \\zeta_{m}$\n",
    "\n",
    "- Considering $\\Omega_m$ as a parameter:\n",
    "\n",
    "Present-day drift rate for the Bekenstein model:\n",
    "\n",
    "${\\left( \\frac{1}{H} \\frac{\\dot{\\alpha}}{\\alpha} \\right)}_0 = - \\zeta_{\\Lambda} + 2(\\zeta_{\\Lambda} -2 \\zeta_{m}) \\frac{\\Omega_m}{\\sqrt{\\Omega_{\\Lambda}}} \\log{\\frac{1 + \\sqrt{\\Omega_{\\Lambda}}}{\\sqrt{\\Omega_{m}}}}\\Leftrightarrow$\n",
    "\n",
    "$\\Leftrightarrow {\\left( \\frac{1}{H} \\frac{\\dot{\\alpha}}{\\alpha} \\right)}_0 = \\left( 2 \\frac{\\Omega_m}{\\sqrt{\\Omega_{\\Lambda}}} \\log{\\frac{1 + \\sqrt{\\Omega_{\\Lambda}}}{\\sqrt{\\Omega_{m}}}} - 1\\right)\\zeta_{\\Lambda} - \\left(4 \\frac{\\Omega_m}{\\sqrt{\\Omega_{\\Lambda}}} \\log{\\frac{1 + \\sqrt{\\Omega_{\\Lambda}}}{\\sqrt{\\Omega_{m}}}}\\right)  \\zeta_{m}$\n",
    "\n",
    "\n",
    "Present-day drift rate for the CPL Parametrization:\n",
    "\n",
    "$\\Leftrightarrow {\\left( \\frac{1}{H} \\frac{\\dot{\\alpha}}{\\alpha} \\right)}_0 = - \\zeta \\sqrt{3 {\\Omega_{\\phi}}_0 |1+w_0|}$\n",
    "\n",
    "where ${\\Omega_{\\phi}}_0  = \\frac{\\Omega_{\\Lambda}}{\\Omega_{\\Lambda} + \\Omega_m \\times 1^{-3(w_0 + w_a)}}$\n",
    "\n",
    "For a flat universe we have: $\\Omega_m + \\Omega_{\\Lambda} = 1 \\Rightarrow \\Omega_{\\Lambda} = 1 - \\Omega_m$\n",
    "\n",
    "- Constraint on current drift of $\\alpha$ by R. Lange:\n",
    "\n",
    "$\\left( \\frac{1}{H}\\frac{\\dot{\\alpha}}{\\alpha} \\right)_{z=0} = 0.014 \\pm 0.015 ppm$"
   ]
  },
  {
   "cell_type": "code",
   "execution_count": 6,
   "id": "2fbf77f0",
   "metadata": {},
   "outputs": [],
   "source": [
    "#Constraint R.Lange in ppm\n",
    "unc_RLange = .015\n",
    "unc_RLange_F = .0015 \n",
    "\n",
    "##Bekenstein Model:\n",
    "#Considering OmegaM as constant\n",
    "a = -0.13\n",
    "b = -1.74\n",
    "\n",
    "FpriorClocks_Oconst  = np.array([[b**2*unc_RLange**(-2), a*b*unc_RLange**(-2)], [a*b*unc_RLange**-2, a**2*unc_RLange**(-2)]])\n",
    "FpriorClocksF_Oconst = np.array([[b**2*unc_RLange_F**(-2), a*b*unc_RLange_F**(-2)], [a*b*unc_RLange_F**-2, a**2*unc_RLange_F**(-2)]])\n",
    "\n",
    "\n",
    "#Considering OmegaM as parameter\n",
    "#Bekenstein\n",
    "d = 2 * ( (OmegaM / np.sqrt(1 - OmegaM)) * np.log((1+np.sqrt(1 - OmegaM))/np.sqrt(OmegaM)) ) - 1\n",
    "e = -4 * (OmegaM / np.sqrt(1 - OmegaM)) * np.log((1+np.sqrt(1 - OmegaM))/np.sqrt(OmegaM))\n",
    "\n",
    "FpriorClocks_Oparam  = np.array([[e**2*unc_RLange**(-2), d*e*unc_RLange**(-2)], [d*e*unc_RLange**(-2), d**2*unc_RLange**(-2)]])\n",
    "FpriorClocksF_Oparam = np.array([[e**2*unc_RLange_F**(-2), d*e*unc_RLange_F**(-2)], [d*e*unc_RLange_F**(-2), d**2*unc_RLange_F**(-2)]])\n",
    "\n",
    "##CPL\n",
    "#Prior Definition:-1 * np.sqrt(3 * ((1-OmegaM)/(1-OmegaM+(OmegaM*(1**(-3*(w0+wa))))) * np.abs(1+w0)))\n",
    "\n",
    "FpriorClocks_OparamCPLT = (-1 * np.sqrt(3 * ((1-0.3)/(1-0.3+(0.3*(1**(-3*(-0.8-0.2))))) * np.abs(1+(-0.8)))))**2*unc_RLange**(-2)\n",
    "\n",
    "FpriorClocks_OparamCPLF = (-1 * np.sqrt(3 * ((1-0.3)/(1-0.3+(0.3*(1**(-3*(-0.9+0.3))))) * np.abs(1+(-0.9)))))**2*unc_RLange**(-2)"
   ]
  },
  {
   "cell_type": "code",
   "execution_count": 7,
   "id": "cd90afb0",
   "metadata": {},
   "outputs": [],
   "source": [
    "def addPriors_BEK(F_ab, cur_ab, OCP):\n",
    "    #Assuming OmegaM as a constant\n",
    "    if OCP == 'constant':\n",
    "        newF_ab = np.copy(F_ab)\n",
    "        if cur_ab == 1:\n",
    "            newF_ab = F_ab + FpriorClocks_Oconst\n",
    "        else:\n",
    "            newF_ab = F_ab + FpriorClocksF_Oconst \n",
    "    #Assuming OmegaM as a parameter\n",
    "    if OCP == 'parameter':\n",
    "        newF_ab = np.copy(F_ab)\n",
    "        if cur_ab == 1:\n",
    "            FpriorClocksNew = np.insert(FpriorClocks_Oparam, 0, 0, axis=0)\n",
    "            FpriorClocksNew = np.insert(FpriorClocksNew, 0, 0, axis=1)\n",
    "            newF_ab = F_ab + FpriorClocksNew\n",
    "        else:\n",
    "            FpriorClocksFNew = np.insert(FpriorClocksF_Oparam, 0, 0, axis=0)\n",
    "            FpriorClocksFNew = np.insert(FpriorClocksFNew, 0, 0, axis=1)\n",
    "            newF_ab = F_ab + FpriorClocksFNew\n",
    "  \n",
    "    return newF_ab"
   ]
  },
  {
   "cell_type": "markdown",
   "id": "81dc715f",
   "metadata": {},
   "source": [
    "# Measurements\n",
    "### - Redshifts"
   ]
  },
  {
   "cell_type": "code",
   "execution_count": 8,
   "id": "2d0b1f18",
   "metadata": {},
   "outputs": [],
   "source": [
    "#ANDES Baseline\n",
    "zAndes_15baseline = np.linspace(1,2.5,num=15)\n",
    "zAndes_10baseline = np.linspace(2.5,4,num=10)\n",
    "\n",
    "\n",
    "#ANDES Optimistic\n",
    "zAndes_20optimistic = np.linspace(1,2.5,num=20)\n",
    "zAndes_15optimistic1 = np.linspace(2.5,4,num=15)\n",
    "zAndes_15optimistic2 = np.linspace(4,7,num=15)"
   ]
  },
  {
   "cell_type": "markdown",
   "id": "5dbff59f",
   "metadata": {},
   "source": [
    "### - Uncertainties"
   ]
  },
  {
   "cell_type": "code",
   "execution_count": 9,
   "id": "c729a7cd",
   "metadata": {},
   "outputs": [],
   "source": [
    "#ANDES Baseline\n",
    "\n",
    "#uncAndes_15baseline = np.zeros(15) + (0.1*10**(-6))\n",
    "#uncAndes_10baseline = np.zeros(10) + (0.2*10**(-6))\n",
    "\n",
    "#PPM:\n",
    "uncAndes_15baseline = np.zeros(15) + (0.1)\n",
    "uncAndes_10baseline = np.zeros(10) + (0.2)\n",
    "\n",
    "\n",
    "#ANDES Optimistic\n",
    "\n",
    "#uncAndes_20optimistic = np.zeros(20) + (0.05*10**(-6))\n",
    "#uncAndes_15optimistic1 = np.zeros(15) + (0.1*10**(-6))\n",
    "#uncAndes_15optimistic2 = np.zeros(15) + (1*10**(-6))\n",
    "\n",
    "#PPM:\n",
    "uncAndes_20optimistic = np.zeros(20) + (0.05)\n",
    "uncAndes_15optimistic1 = np.zeros(15) + (0.1)\n",
    "uncAndes_15optimistic2 = np.zeros(15) + (1)"
   ]
  },
  {
   "cell_type": "markdown",
   "id": "4ceb293b",
   "metadata": {},
   "source": [
    "# Fisher Matrices\n",
    "## - No Priors\n",
    "### Bekenstein\n",
    "#### BEK0 $(\\zeta_\\Lambda = \\zeta_m = 0)$"
   ]
  },
  {
   "cell_type": "code",
   "execution_count": 10,
   "id": "3f6f6ed8",
   "metadata": {},
   "outputs": [],
   "source": [
    "FM_BEK0_Andes_15baseline    = FisherMatrix_ab(zAndes_15baseline, uncAndes_15baseline, OmegaM, w0=None, wa=None, Zl=0, Zm=0, OCP= 'parameter', analysis = 'alpha')\n",
    "FM_BEK0_Andes_10baseline    = FisherMatrix_ab(zAndes_10baseline, uncAndes_10baseline, OmegaM, w0=None, wa=None, Zl=0, Zm=0, OCP= 'parameter', analysis = 'alpha')\n",
    "\n",
    "FM_BEK0_Andes_20optimistic  = FisherMatrix_ab(zAndes_20optimistic, uncAndes_20optimistic, OmegaM, w0=None, wa=None, Zl=0, Zm=0, OCP= 'parameter', analysis = 'alpha')\n",
    "FM_BEK0_Andes_15optimistic1 = FisherMatrix_ab(zAndes_15optimistic1, uncAndes_15optimistic1, OmegaM, w0=None, wa=None, Zl=0, Zm=0, OCP= 'parameter', analysis = 'alpha')\n",
    "FM_BEK0_Andes_15optimistic2 = FisherMatrix_ab(zAndes_15optimistic2, uncAndes_15optimistic2, OmegaM, w0=None, wa=None, Zl=0, Zm=0, OCP= 'parameter', analysis = 'alpha')\n",
    "\n",
    "\n",
    "BEK0_AlphaB_np = FM_BEK0_Andes_baseline = FM_BEK0_Andes_15baseline + FM_BEK0_Andes_10baseline\n",
    "BEK0_AlphaO_np = FM_BEK0_Andes_optimistic = FM_BEK0_Andes_20optimistic + FM_BEK0_Andes_15optimistic1 + FM_BEK0_Andes_15optimistic2"
   ]
  },
  {
   "cell_type": "markdown",
   "id": "e7f1b285",
   "metadata": {},
   "source": [
    "#### BEK($\\zeta_m = 0$ and $\\zeta_\\Lambda = +0.1$ppm)"
   ]
  },
  {
   "cell_type": "code",
   "execution_count": 11,
   "id": "df4ad772",
   "metadata": {},
   "outputs": [],
   "source": [
    "FM_BEK_Andes_15baseline    = FisherMatrix_ab(zAndes_15baseline, uncAndes_15baseline, OmegaM, w0=None, wa=None, Zl=+0.1, Zm=0, OCP= 'parameter', analysis = 'alpha')\n",
    "FM_BEK_Andes_10baseline    = FisherMatrix_ab(zAndes_10baseline, uncAndes_10baseline, OmegaM, w0=None, wa=None, Zl=+0.1, Zm=0, OCP= 'parameter', analysis = 'alpha')\n",
    "\n",
    "FM_BEK_Andes_20optimistic  = FisherMatrix_ab(zAndes_20optimistic, uncAndes_20optimistic, OmegaM, w0=None, wa=None, Zl=+0.1, Zm=0, OCP= 'parameter', analysis = 'alpha')\n",
    "FM_BEK_Andes_15optimistic1 = FisherMatrix_ab(zAndes_15optimistic1, uncAndes_15optimistic1, OmegaM, w0=None, wa=None, Zl=+0.1, Zm=0, OCP= 'parameter', analysis = 'alpha')\n",
    "FM_BEK_Andes_15optimistic2 = FisherMatrix_ab(zAndes_15optimistic2, uncAndes_15optimistic2, OmegaM, w0=None, wa=None, Zl=+0.1, Zm=0, OCP= 'parameter', analysis = 'alpha')\n",
    "\n",
    "\n",
    "FM_BEK_Andes_baseline = FM_BEK_Andes_15baseline + FM_BEK_Andes_10baseline\n",
    "FM_BEK_Andes_optimistic = FM_BEK_Andes_20optimistic + FM_BEK_Andes_15optimistic1 + FM_BEK_Andes_15optimistic2"
   ]
  },
  {
   "cell_type": "markdown",
   "id": "e4ebe269",
   "metadata": {},
   "source": [
    "### CPL Parametrization\n",
    "#### CPLT ($w_0 = -0.8$, $w_a = -0.2$ and $\\zeta = -0.15$ppm)"
   ]
  },
  {
   "cell_type": "code",
   "execution_count": 12,
   "id": "4179e923",
   "metadata": {},
   "outputs": [],
   "source": [
    "FM_CPL_Andes_15baselineT = FisherMatrix_aCPL(zAndes_15baseline, uncAndes_15baseline, OmegaM=0.3, w0=-0.8, wa=-0.2, zeta=-0.15, analysis = 'alpha')\n",
    "FM_CPL_Andes_10baselineT = FisherMatrix_aCPL(zAndes_10baseline, uncAndes_10baseline, OmegaM=0.3, w0=-0.8, wa=-0.2, zeta=-0.15, analysis = 'alpha')\n",
    "\n",
    "FM_CPL_Andes_20optimisticT = FisherMatrix_aCPL(zAndes_20optimistic, uncAndes_20optimistic, OmegaM=0.3, w0=-0.8, wa=-0.2, zeta=-0.15, analysis = 'alpha')\n",
    "FM_CPL_Andes_15optimistic1T = FisherMatrix_aCPL(zAndes_15optimistic1, uncAndes_15optimistic1, OmegaM=0.3, w0=-0.8, wa=-0.2, zeta=-0.15, analysis = 'alpha')\n",
    "FM_CPL_Andes_15optimistic2T = FisherMatrix_aCPL(zAndes_15optimistic2, uncAndes_15optimistic2, OmegaM=0.3, w0=-0.8, wa=-0.2, zeta=-0.15, analysis = 'alpha')\n",
    "\n",
    "\n",
    "FM_CPL_Andes_baselineT = FM_CPL_Andes_15baselineT + FM_CPL_Andes_10baselineT\n",
    "FM_CPL_Andes_optimisticT = FM_CPL_Andes_20optimisticT + FM_CPL_Andes_15optimistic1T + FM_CPL_Andes_15optimistic2T"
   ]
  },
  {
   "cell_type": "markdown",
   "id": "7bf2d058",
   "metadata": {},
   "source": [
    "#### CPLF ($w_0 = -0.9$, $w_a = +0.3$ and $\\zeta = -0.15$ppm)"
   ]
  },
  {
   "cell_type": "code",
   "execution_count": 13,
   "id": "ea48f6ed",
   "metadata": {},
   "outputs": [],
   "source": [
    "FM_CPL_Andes_15baselineF = FisherMatrix_aCPL(zAndes_15baseline, uncAndes_15baseline, OmegaM=0.3, w0=-0.9, wa=0.3, zeta=-0.15, analysis = 'alpha')\n",
    "FM_CPL_Andes_10baselineF = FisherMatrix_aCPL(zAndes_10baseline, uncAndes_10baseline, OmegaM=0.3, w0=-0.9, wa=0.3, zeta=-0.15, analysis = 'alpha')\n",
    "\n",
    "FM_CPL_Andes_20optimisticF = FisherMatrix_aCPL(zAndes_20optimistic, uncAndes_20optimistic, OmegaM=0.3, w0=-0.9, wa=0.3, zeta=-0.15, analysis = 'alpha')\n",
    "FM_CPL_Andes_15optimistic1F = FisherMatrix_aCPL(zAndes_15optimistic1, uncAndes_15optimistic1, OmegaM=0.3, w0=-0.9, wa=0.3, zeta=-0.15, analysis = 'alpha')\n",
    "FM_CPL_Andes_15optimistic2F = FisherMatrix_aCPL(zAndes_15optimistic2, uncAndes_15optimistic2, OmegaM=0.3, w0=-0.9, wa=0.3, zeta=-0.15, analysis = 'alpha')\n",
    "\n",
    "\n",
    "FM_CPL_Andes_baselineF = FM_CPL_Andes_15baselineF + FM_CPL_Andes_10baselineF\n",
    "FM_CPL_Andes_optimisticF = FM_CPL_Andes_20optimisticF + FM_CPL_Andes_15optimistic1F + FM_CPL_Andes_15optimistic2F"
   ]
  },
  {
   "cell_type": "markdown",
   "id": "27acce24",
   "metadata": {},
   "source": [
    "## - With Priors\n",
    "### Bekenstein\n",
    "#### BEK0 ($\\zeta_\\Lambda = \\zeta_m = 0$)"
   ]
  },
  {
   "cell_type": "code",
   "execution_count": 14,
   "id": "21fb37f6",
   "metadata": {},
   "outputs": [],
   "source": [
    "CurrentClocksBEK0 = add1DPriors(BEK0_AlphaB_np, [[uncOmegaM,0]])\n",
    "BEK0_AlphaB = addPriors_BEK(CurrentClocksBEK0  , cur_ab=1, OCP= 'parameter')\n",
    "\n",
    "CurrentClocksBEK0optimistic = add1DPriors(BEK0_AlphaO_np, [[uncOmegaM,0]])\n",
    "BEK0_AlphaO = addPriors_BEK(CurrentClocksBEK0optimistic  , cur_ab=1, OCP= 'parameter')"
   ]
  },
  {
   "cell_type": "markdown",
   "id": "705c7e6f",
   "metadata": {},
   "source": [
    "#### BEK ($\\zeta_m = 0$ and $\\zeta_\\Lambda = +0.1$ppm)"
   ]
  },
  {
   "cell_type": "code",
   "execution_count": 15,
   "id": "4bdb736a",
   "metadata": {},
   "outputs": [],
   "source": [
    "#Considering the prior sigma(OmegaM)=0.03=uncOmegaM and present atomic clocks (cur_ab=1-R.Lange)\n",
    "\n",
    "CurrentClocksbaseline = add1DPriors(FM_BEK_Andes_baseline, [[uncOmegaM,0]])\n",
    "BEK_AlphaB = addPriors_BEK(CurrentClocksbaseline  , cur_ab=1, OCP= 'parameter')\n",
    "\n",
    "CurrentClocksoptimistic = add1DPriors(FM_BEK_Andes_optimistic, [[uncOmegaM,0]])\n",
    "BEK_AlphaO = addPriors_BEK(CurrentClocksoptimistic  , cur_ab=1, OCP= 'parameter')"
   ]
  },
  {
   "cell_type": "markdown",
   "id": "08cad1b2",
   "metadata": {},
   "source": [
    "#### CPLT ($w_0 = -0.8$, $w_a = -0.2$ and $\\zeta = -0.15$ppm)"
   ]
  },
  {
   "cell_type": "code",
   "execution_count": 16,
   "id": "c7310c4f",
   "metadata": {},
   "outputs": [],
   "source": [
    "CPL_AlphaB_T = add1DPriors(FM_CPL_Andes_baselineT, [[uncOmegaM,0],[uncw0,1], [uncwa,2], [FpriorClocks_OparamCPLT,3]])\n",
    "CPL_AlphaO_T = add1DPriors(FM_CPL_Andes_optimisticT, [[uncOmegaM,0],[uncw0,1], [uncwa,2], [FpriorClocks_OparamCPLT,3]])"
   ]
  },
  {
   "cell_type": "markdown",
   "id": "87d1d8c5",
   "metadata": {},
   "source": [
    "#### CPLF ($w_0 = -0.9$, $w_a = +0.3$ and $\\zeta = -0.15$ppm)"
   ]
  },
  {
   "cell_type": "code",
   "execution_count": 17,
   "id": "0c3a4f6a",
   "metadata": {},
   "outputs": [],
   "source": [
    "CPL_AlphaB_F = add1DPriors(FM_CPL_Andes_baselineF, [[uncOmegaM,0],[uncw0,1], [uncwa,2], [FpriorClocks_OparamCPLF,3]])\n",
    "CPL_AlphaO_F = add1DPriors(FM_CPL_Andes_optimisticF, [[uncOmegaM,0],[uncw0,1], [uncwa,2], [FpriorClocks_OparamCPLF,3]])"
   ]
  }
 ],
 "metadata": {
  "kernelspec": {
   "display_name": "Python 3 (ipykernel)",
   "language": "python",
   "name": "python3"
  },
  "language_info": {
   "codemirror_mode": {
    "name": "ipython",
    "version": 3
   },
   "file_extension": ".py",
   "mimetype": "text/x-python",
   "name": "python",
   "nbconvert_exporter": "python",
   "pygments_lexer": "ipython3",
   "version": "3.7.9"
  }
 },
 "nbformat": 4,
 "nbformat_minor": 5
}
