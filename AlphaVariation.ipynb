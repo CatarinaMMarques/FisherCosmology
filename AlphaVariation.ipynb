{
 "cells": [
  {
   "cell_type": "code",
   "execution_count": 1,
   "id": "d6a18893",
   "metadata": {},
   "outputs": [],
   "source": [
    "%run Main.ipynb"
   ]
  },
  {
   "cell_type": "markdown",
   "id": "6c551268",
   "metadata": {},
   "source": [
    "# Variation of the fine-structure constant\n",
    "\n",
    "## - Models\n",
    "**Bekenstein’s class of varying $\\alpha$ models $\\to$ flat $\\Lambda$CDM case**\n",
    "\n",
    "$\\frac{\\Delta \\alpha}{\\alpha}(z) = 2 \\zeta_m \\log(1+z) + \\frac{2(\\zeta_{\\Lambda} - 2\\zeta_m)}{3\\sqrt{\\Omega_{\\Lambda}}} \\left[ \\log\\left( \\frac{1+\\sqrt{\\Omega_{\\Lambda}}}{\\sqrt{\\Omega_m}}\\right) - \\sqrt{E^2(z)} \\log\\left( \\frac{\\sqrt{\\Omega_{\\Lambda}} + \\sqrt{E^2(z)}}{\\sqrt{\\Omega_m (1+z)^3}} \\right) \\right] \\Leftrightarrow$ \n",
    "\n",
    "$\\Leftrightarrow \\frac{\\Delta \\alpha}{\\alpha}(z) = \\left[ \\frac{2}{3\\sqrt{\\Omega_{\\Lambda}}} \\left[ \\log\\left( \\frac{1+\\sqrt{\\Omega_{\\Lambda}}}{\\sqrt{\\Omega_m}}\\right) - \\sqrt{E^2(z)} \\log\\left( \\frac{\\sqrt{\\Omega_{\\Lambda}} + \\sqrt{E^2(z)}}{\\sqrt{\\Omega_m (1+z)^3}} \\right) \\right] \\right] \\zeta_{\\Lambda} + \\left[ 2\\log(1+z) - \\frac{4}{3\\sqrt{\\Omega_{\\Lambda}}} \\left[ \\log\\left( \\frac{1+\\sqrt{\\Omega_{\\Lambda}}}{\\sqrt{\\Omega_m}}\\right) - \\sqrt{E^2(z)} \\log\\left( \\frac{\\sqrt{\\Omega_{\\Lambda}} + \\sqrt{E^2(z)}}{\\sqrt{\\Omega_m (1+z)^3}} \\right) \\right] \\right] \\zeta_m$\n",
    "\n",
    "For a flat universe we have: $\\Omega_m + \\Omega_{\\Lambda} = 1 \\Rightarrow \\Omega_{\\Lambda} = 1 - \\Omega_m$"
   ]
  },
  {
   "cell_type": "code",
   "execution_count": 2,
   "id": "27f82235",
   "metadata": {},
   "outputs": [],
   "source": [
    "def zeta_lambda(z, OmegaM, w0, wa):\n",
    "    if w0 == None: \n",
    "        w0 = -1.\n",
    "    if wa == None: \n",
    "        wa = 0\n",
    "    #in flat ΛCDM case we always have w0=-1 and wa=0\n",
    "    zeta_lambda = 2/(3*np.sqrt(1-OmegaM)) * (np.log((1+np.sqrt(1-OmegaM))/np.sqrt(OmegaM)) - \n",
    "     (function_E_z(z, OmegaM, w0, wa)*np.log((np.sqrt(1-OmegaM) + \n",
    "        function_E_z(z, OmegaM, w0, wa))/(np.sqrt(OmegaM * (1+z)**3)))))\n",
    "    return zeta_lambda\n",
    "\n",
    "def zeta_m(z, OmegaM, w0, wa):\n",
    "    if w0 == None: \n",
    "        w0 = -1.\n",
    "    if wa == None: \n",
    "        wa = 0\n",
    "    #in flat ΛCDM case we always have w0=-1 and wa=0\n",
    "    zeta_m = 2*np.log(1+z) - (4/(3*np.sqrt(1-OmegaM))) * (np.log((1+np.sqrt(1-OmegaM))/np.sqrt(OmegaM)) - \n",
    "     (function_E_z(z, OmegaM, w0, wa)*np.log((np.sqrt(1-OmegaM) + \n",
    "        function_E_z(z, OmegaM, w0, wa))/(np.sqrt(OmegaM * (1+z)**3)))))\n",
    "    return zeta_m\n",
    "\n",
    "def alpha_v_bekenstein(z, OmegaM, w0, wa, Zl, Zm):\n",
    "    return zeta_lambda(z, OmegaM, w0, wa) * Zl + zeta_m(z, OmegaM, w0, wa) * Zm"
   ]
  },
  {
   "cell_type": "markdown",
   "id": "f8109c77",
   "metadata": {},
   "source": [
    "**CPL Parametrization**\n",
    "\n",
    "$w_{CPL}(z) = w_0 + w_a \\frac{z}{1+z} $ and $\\Omega_{CPL}(z) = \\frac{1-\\Omega_m}{1-\\Omega_m+\\Omega_m (1+z)^{-3(w_0+w_a)} \\exp(3w_az/(1+z))}$\n",
    "\n",
    "For $w_\\phi\\geq-1$:\n",
    "\n",
    "$\\frac{\\Delta \\alpha}{\\alpha}(z) = \\zeta \\int_{0}^{z} \\sqrt{3\\Omega_\\phi(z') [1+w_\\phi(z')]} \\,\\frac{dz\\prime}{1+z\\prime}$\n",
    "\n",
    "For Phantom Energy Fields $(w_\\phi<-1)$:\n",
    "\n",
    "$\\frac{\\Delta \\alpha}{\\alpha}(z) = -\\zeta \\int_{0}^{z} \\sqrt{3\\Omega_\\phi(z') \\mid 1+w_\\phi(z')\\mid} \\,\\frac{dz'}{1+z'}$"
   ]
  },
  {
   "cell_type": "code",
   "execution_count": 3,
   "id": "0142272b",
   "metadata": {},
   "outputs": [],
   "source": [
    "def w_CPL(z, w0, wa):\n",
    "    w_CPL = w0 + wa * (z/(1+z))\n",
    "    return w_CPL\n",
    "\n",
    "def Omega_CPL(z, OmegaM, w0, wa):\n",
    "    Omega_CPL = (1 - OmegaM) / (1 - OmegaM + (OmegaM*(1+z)**(-3*(w0+wa)) * np.exp((3*wa*z)/(1+z))))\n",
    "    return Omega_CPL\n",
    "\n",
    "\n",
    "def function(z, OmegaM, w0, wa):\n",
    "    if w0 >= -1:            \n",
    "        return np.sqrt(3*Omega_CPL(z, OmegaM, w0, wa) * (1 + w_CPL(z, w0, wa)))/(1+z)\n",
    "    if 3*Omega_CPL(z, OmegaM, w0, wa) * (1 + w_CPL(z, w0, wa)) < 0:\n",
    "        return -np.sqrt(3*Omega_CPL(z, OmegaM, w0, wa) * abs(1 + w_CPL(z, w0, wa)))/(1+z)\n",
    "\n",
    "\n",
    "def alpha_v_CPL(z, OmegaM, w0, wa, zeta):\n",
    "    alpha_v_CPL, error = scipy.integrate.quad(function, 0, z, args=(OmegaM, w0, wa),epsabs=10**(-30))\n",
    "    return zeta * alpha_v_CPL  "
   ]
  },
  {
   "cell_type": "markdown",
   "id": "571c2cfe",
   "metadata": {},
   "source": [
    "## - Derivatives calculation\n",
    "**Bekenstein**"
   ]
  },
  {
   "cell_type": "code",
   "execution_count": 4,
   "id": "b1cd1148",
   "metadata": {},
   "outputs": [],
   "source": [
    "def dfdOmegaM_ab(z, OmegaM, w0, wa, Zl, Zm):\n",
    "    return ( alpha_v_bekenstein(z, OmegaM+hh, w0, wa, Zl, Zm)-alpha_v_bekenstein(z, OmegaM, w0, wa, Zl, Zm))/hh\n",
    "\n",
    "def dfdZl(z, OmegaM, w0, wa, Zl, Zm):\n",
    "    return ( alpha_v_bekenstein(z, OmegaM, w0, wa, Zl+hh, Zm)-alpha_v_bekenstein(z, OmegaM, w0, wa, Zl, Zm))/hh\n",
    "\n",
    "def dfdZm(z, OmegaM, w0, wa, Zl, Zm):\n",
    "    return ( alpha_v_bekenstein(z, OmegaM, w0, wa, Zl, Zm+hh)-alpha_v_bekenstein(z, OmegaM, w0, wa, Zl, Zm))/hh"
   ]
  },
  {
   "cell_type": "markdown",
   "id": "46804691",
   "metadata": {},
   "source": [
    "**CPL Parametrization**"
   ]
  },
  {
   "cell_type": "code",
   "execution_count": 5,
   "id": "c3a7ddf8",
   "metadata": {},
   "outputs": [],
   "source": [
    "def dfdOmegaM_a(z, OmegaM, w0, wa, zeta):\n",
    "    return ( alpha_v_CPL(z, OmegaM+hh, w0, wa, zeta)-alpha_v_CPL(z, OmegaM, w0, wa, zeta) )/hh\n",
    "\n",
    "def dfdw0_a(z, OmegaM, w0, wa, zeta):\n",
    "    return ( alpha_v_CPL(z, OmegaM, w0+hh, wa, zeta)-alpha_v_CPL(z, OmegaM, w0, wa, zeta) )/hh\n",
    "\n",
    "def dfdwa_a(z, OmegaM, w0, wa, zeta):\n",
    "    return ( alpha_v_CPL(z, OmegaM, w0, wa+hh, zeta)-alpha_v_CPL(z, OmegaM, w0, wa, zeta) )/hh\n",
    "\n",
    "def dfdzeta(z, OmegaM, w0, wa, zeta):\n",
    "    return ( alpha_v_CPL(z, OmegaM, w0, wa, zeta+hh)-alpha_v_CPL(z, OmegaM, w0, wa, zeta) )/hh"
   ]
  },
  {
   "cell_type": "markdown",
   "id": "aa0b464d",
   "metadata": {},
   "source": [
    "## - Add Priors\n",
    "\n",
    "#### Atomic Clocks\n",
    "\n",
    "- Considering $\\Omega_m$ as a constant:\n",
    "\n",
    "Present-day drift rate constrained by laboratory tests using atomic clocks $(\\Omega_m = 0.3)$:\n",
    "\n",
    "$\\left( \\frac{1}{H}\\frac{\\dot{\\alpha}}{\\alpha} \\right)_0 = - 0.13 \\zeta_{\\Lambda} - 1.74 \\zeta_{m}$\n",
    "\n",
    "- Considering $\\Omega_m$ as a parameter:\n",
    "\n",
    "Present-day drift rate for the Bekenstein model:\n",
    "\n",
    "${\\left( \\frac{1}{H} \\frac{\\dot{\\alpha}}{\\alpha} \\right)}_0 = - \\zeta_{\\Lambda} + 2(\\zeta_{\\Lambda} -2 \\zeta_{m}) \\frac{\\Omega_m}{\\sqrt{\\Omega_{\\Lambda}}} \\log{\\frac{1 + \\sqrt{\\Omega_{\\Lambda}}}{\\sqrt{\\Omega_{m}}}}\\Leftrightarrow$\n",
    "\n",
    "$\\Leftrightarrow {\\left( \\frac{1}{H} \\frac{\\dot{\\alpha}}{\\alpha} \\right)}_0 = \\left( 2 \\frac{\\Omega_m}{\\sqrt{\\Omega_{\\Lambda}}} \\log{\\frac{1 + \\sqrt{\\Omega_{\\Lambda}}}{\\sqrt{\\Omega_{m}}}} - 1\\right)\\zeta_{\\Lambda} - \\left(4 \\frac{\\Omega_m}{\\sqrt{\\Omega_{\\Lambda}}} \\log{\\frac{1 + \\sqrt{\\Omega_{\\Lambda}}}{\\sqrt{\\Omega_{m}}}}\\right)  \\zeta_{m}$\n",
    "\n",
    "\n",
    "Present-day drift rate for the CPL Parametrization:\n",
    "\n",
    "$ {\\left( \\frac{1}{H} \\frac{\\dot{\\alpha}}{\\alpha} \\right)}_0 = - \\zeta \\sqrt{3 {\\Omega_{\\phi}}_0 |1+w_0|}$\n",
    "\n",
    "where ${\\Omega_{\\phi}}_0  = \\frac{\\Omega_{\\Lambda}}{\\Omega_{\\Lambda} + \\Omega_m \\times 1^{-3(w_0 + w_a)}}$\n",
    "\n",
    "For a flat universe we have: $\\Omega_m + \\Omega_{\\Lambda} = 1 \\Rightarrow \\Omega_{\\Lambda} = 1 - \\Omega_m$\n",
    "\n",
    "- Constraint on current drift of $\\alpha$ by R. Lange:\n",
    "\n",
    "$\\left( \\frac{1}{H}\\frac{\\dot{\\alpha}}{\\alpha} \\right)_{z=0} = 0.014 \\pm 0.015 ppm$"
   ]
  },
  {
   "cell_type": "code",
   "execution_count": 6,
   "id": "dab64b79",
   "metadata": {},
   "outputs": [],
   "source": [
    "def AtomicClocks(OmegaM, Zm, Zl, w0, zeta, model):\n",
    "    \n",
    "    #Constraint R.Lange in ppm\n",
    "    unc_RLange = .015\n",
    "    \n",
    "    if model == 'Bekenstein': #OmegaM, Zm, Zl\n",
    "\n",
    "        AtomicClocks = np.zeros((3,3))\n",
    "\n",
    "        PriorOmegaM1 = (Zl - (2*Zm)) * ((OmegaM*np.log(OmegaM)) - (2*OmegaM*np.log(np.sqrt(-OmegaM+1)+1)) + (4*np.log(np.sqrt(-OmegaM+1)+1)) - (2*np.log(OmegaM)) - (2*np.sqrt(-OmegaM+1)))\n",
    "        PriorOmegaM2 = 2 * (-OmegaM+1) * (np.sqrt(-OmegaM+1))\n",
    "        A = (PriorOmegaM1/PriorOmegaM2)\n",
    "        \n",
    "        B = -1 * (((4*OmegaM)*((np.log(np.sqrt(-OmegaM+1)+1)-((1/2)*(np.log(OmegaM)))))/(np.sqrt(-OmegaM+1))))\n",
    "        \n",
    "        C = -1 + (((2*OmegaM * np.log(1 + np.sqrt(1-OmegaM)))-(OmegaM*np.log(OmegaM)))/(np.sqrt(1-OmegaM)))\n",
    "\n",
    "        AtomicClocks  = np.array([[A**2*unc_RLange**(-2), A*B*unc_RLange**(-2), A*C*unc_RLange**(-2)],\n",
    "                                  [B*A*unc_RLange**(-2), B**2*unc_RLange**(-2), B*C*unc_RLange**(-2)],\n",
    "                                  [C*A*unc_RLange**(-2), C*B*unc_RLange**(-2), C**2*unc_RLange**(-2)]], dtype='float64')\n",
    "\n",
    "    \n",
    "    if model == 'CPL': #OmegaM, w0, zeta\n",
    "        \n",
    "        AtomicClocks = np.zeros((3,3))\n",
    "        \n",
    "        PriorOmegaM1 = -1 * np.sqrt(3) * zeta * (-1-w0)\n",
    "        PriorOmegaM2 = 2 * np.sqrt((1 - OmegaM)*(1+w0))\n",
    "        \n",
    "        A = PriorOmegaM1/PriorOmegaM2\n",
    "        \n",
    "        Priorw01 = -1 * np.sqrt(3) * zeta * np.sqrt(1 - OmegaM)\n",
    "        Priorw02 = 2 * np.sqrt(1+w0)\n",
    "        \n",
    "        B = Priorw01/Priorw02\n",
    "        \n",
    "        C = -1 * np.sqrt(3) * np.sqrt((1 - OmegaM)*(1+w0))\n",
    "        \n",
    "        AtomicClocks  = np.array([[A**2*unc_RLange**(-2), A*B*unc_RLange**(-2), A*C*unc_RLange**(-2)],\n",
    "                                  [B*A*unc_RLange**(-2), B**2*unc_RLange**(-2), B*C*unc_RLange**(-2)],\n",
    "                                  [C*A*unc_RLange**(-2), C*B*unc_RLange**(-2), C**2*unc_RLange**(-2)]], dtype='float64')\n",
    "\n",
    "    \n",
    "    return AtomicClocks"
   ]
  },
  {
   "cell_type": "markdown",
   "id": "658357c4",
   "metadata": {},
   "source": [
    "#### Separate Priors"
   ]
  },
  {
   "cell_type": "code",
   "execution_count": 7,
   "id": "de4ba522",
   "metadata": {},
   "outputs": [],
   "source": [
    "unch = 0.05\n",
    "uncOmegaM = 0.03\n",
    "uncw0 = 0.1\n",
    "uncwa = 0.4"
   ]
  },
  {
   "cell_type": "code",
   "execution_count": 8,
   "id": "264c3cfb",
   "metadata": {},
   "outputs": [],
   "source": [
    "PriorClocksBEK0 = AtomicClocks(OmegaM=0.3, Zm=0., Zl=0., w0=0., zeta=0., model='Bekenstein')\n",
    "PriorBEK0 = add1DPriors(PriorClocksBEK0, [[uncOmegaM,0]])\n",
    "\n",
    "PriorClocksBEK = AtomicClocks(OmegaM=0.3, Zm=0., Zl=0.1, w0=0., zeta=0., model='Bekenstein')\n",
    "PriorBEK = add1DPriors(PriorClocksBEK, [[uncOmegaM,0]])\n",
    "\n",
    "PriorClocksCPLT = AtomicClocks(OmegaM=0.3, Zm=0., Zl=0., w0=-0.8, zeta=-0.15, model='CPL')\n",
    "PriorCPLT = np.copy(PriorClocksCPLT)\n",
    "PriorCPLT = np.insert(PriorCPLT, 2, 0, axis=0)\n",
    "PriorCPLT = np.insert(PriorCPLT, 2, 0, axis=1)\n",
    "PriorCPLT = add1DPriors(PriorCPLT, [[uncOmegaM,0],[uncw0,1],[uncwa,2]])\n",
    "\n",
    "\n",
    "PriorClocksCPLF = AtomicClocks(OmegaM=0.3, Zm=0., Zl=0., w0=-0.9, zeta=-0.15, model='CPL')\n",
    "PriorCPLF = np.copy(PriorClocksCPLF)\n",
    "PriorCPLF = np.insert(PriorCPLF, 2, 0, axis=0)\n",
    "PriorCPLF = np.insert(PriorCPLF, 2, 0, axis=1)\n",
    "PriorCPLF = add1DPriors(PriorCPLF, [[uncOmegaM,0],[uncw0,1],[uncwa,2]])"
   ]
  },
  {
   "cell_type": "markdown",
   "id": "81dc715f",
   "metadata": {},
   "source": [
    "# Measurements\n",
    "### - Redshifts"
   ]
  },
  {
   "cell_type": "code",
   "execution_count": 9,
   "id": "2d0b1f18",
   "metadata": {},
   "outputs": [],
   "source": [
    "#ANDES Baseline\n",
    "zAndes_15baseline = np.linspace(1,2.5,num=15)\n",
    "zAndes_10baseline = np.linspace(2.5,4,num=10)\n",
    "\n",
    "\n",
    "#ANDES Optimistic\n",
    "zAndes_20optimistic = np.linspace(1,2.5,num=20)\n",
    "zAndes_15optimistic1 = np.linspace(2.5,4,num=15)\n",
    "zAndes_15optimistic2 = np.linspace(4,7,num=15)"
   ]
  },
  {
   "cell_type": "markdown",
   "id": "5dbff59f",
   "metadata": {},
   "source": [
    "### - Uncertainties"
   ]
  },
  {
   "cell_type": "code",
   "execution_count": 10,
   "id": "c729a7cd",
   "metadata": {},
   "outputs": [],
   "source": [
    "#ANDES Baseline (in ppm)\n",
    "uncAndes_15baseline = np.zeros(15) + (0.1)\n",
    "uncAndes_10baseline = np.zeros(10) + (0.2)\n",
    "\n",
    "\n",
    "#ANDES Optimistic (in ppm)\n",
    "uncAndes_20optimistic = np.zeros(20) + (0.05)\n",
    "uncAndes_15optimistic1 = np.zeros(15) + (0.1)\n",
    "uncAndes_15optimistic2 = np.zeros(15) + (1)"
   ]
  },
  {
   "cell_type": "markdown",
   "id": "4ceb293b",
   "metadata": {},
   "source": [
    "# Fisher Matrices\n",
    "## - No Priors\n",
    "### Bekenstein\n",
    "#### BEK0 $(\\zeta_\\Lambda = \\zeta_m = 0)$"
   ]
  },
  {
   "cell_type": "code",
   "execution_count": 11,
   "id": "3f6f6ed8",
   "metadata": {},
   "outputs": [],
   "source": [
    "FM_BEK0_Andes_15baseline    = FisherMatrix_ab(zAndes_15baseline, uncAndes_15baseline, OmegaM, w0=None, wa=None, Zl=0, Zm=0, OCP= 'parameter', analysis = 'alpha')\n",
    "FM_BEK0_Andes_10baseline    = FisherMatrix_ab(zAndes_10baseline, uncAndes_10baseline, OmegaM, w0=None, wa=None, Zl=0, Zm=0, OCP= 'parameter', analysis = 'alpha')\n",
    "\n",
    "FM_BEK0_Andes_20optimistic  = FisherMatrix_ab(zAndes_20optimistic, uncAndes_20optimistic, OmegaM, w0=None, wa=None, Zl=0, Zm=0, OCP= 'parameter', analysis = 'alpha')\n",
    "FM_BEK0_Andes_15optimistic1 = FisherMatrix_ab(zAndes_15optimistic1, uncAndes_15optimistic1, OmegaM, w0=None, wa=None, Zl=0, Zm=0, OCP= 'parameter', analysis = 'alpha')\n",
    "FM_BEK0_Andes_15optimistic2 = FisherMatrix_ab(zAndes_15optimistic2, uncAndes_15optimistic2, OmegaM, w0=None, wa=None, Zl=0, Zm=0, OCP= 'parameter', analysis = 'alpha')\n",
    "\n",
    "\n",
    "BEK0_AlphaB_np = FM_BEK0_Andes_baseline = FM_BEK0_Andes_15baseline + FM_BEK0_Andes_10baseline\n",
    "BEK0_AlphaO_np = FM_BEK0_Andes_optimistic = FM_BEK0_Andes_20optimistic + FM_BEK0_Andes_15optimistic1 + FM_BEK0_Andes_15optimistic2"
   ]
  },
  {
   "cell_type": "markdown",
   "id": "e7f1b285",
   "metadata": {},
   "source": [
    "#### BEK($\\zeta_m = 0$ and $\\zeta_\\Lambda = +0.1$ppm)"
   ]
  },
  {
   "cell_type": "code",
   "execution_count": 12,
   "id": "df4ad772",
   "metadata": {},
   "outputs": [],
   "source": [
    "FM_BEK_Andes_15baseline    = FisherMatrix_ab(zAndes_15baseline, uncAndes_15baseline, OmegaM, w0=None, wa=None, Zl=+0.1, Zm=0, OCP= 'parameter', analysis = 'alpha')\n",
    "FM_BEK_Andes_10baseline    = FisherMatrix_ab(zAndes_10baseline, uncAndes_10baseline, OmegaM, w0=None, wa=None, Zl=+0.1, Zm=0, OCP= 'parameter', analysis = 'alpha')\n",
    "\n",
    "FM_BEK_Andes_20optimistic  = FisherMatrix_ab(zAndes_20optimistic, uncAndes_20optimistic, OmegaM, w0=None, wa=None, Zl=+0.1, Zm=0, OCP= 'parameter', analysis = 'alpha')\n",
    "FM_BEK_Andes_15optimistic1 = FisherMatrix_ab(zAndes_15optimistic1, uncAndes_15optimistic1, OmegaM, w0=None, wa=None, Zl=+0.1, Zm=0, OCP= 'parameter', analysis = 'alpha')\n",
    "FM_BEK_Andes_15optimistic2 = FisherMatrix_ab(zAndes_15optimistic2, uncAndes_15optimistic2, OmegaM, w0=None, wa=None, Zl=+0.1, Zm=0, OCP= 'parameter', analysis = 'alpha')\n",
    "\n",
    "\n",
    "BEK_AlphaB_np = FM_BEK_Andes_15baseline + FM_BEK_Andes_10baseline\n",
    "BEK_AlphaO_np = FM_BEK_Andes_20optimistic + FM_BEK_Andes_15optimistic1 + FM_BEK_Andes_15optimistic2"
   ]
  },
  {
   "cell_type": "markdown",
   "id": "e4ebe269",
   "metadata": {},
   "source": [
    "### CPL Parametrization\n",
    "#### CPLT ($w_0 = -0.8$, $w_a = -0.2$ and $\\zeta = -0.15$ppm)"
   ]
  },
  {
   "cell_type": "code",
   "execution_count": 13,
   "id": "4179e923",
   "metadata": {},
   "outputs": [],
   "source": [
    "FM_CPL_Andes_15baselineT = FisherMatrix_aCPL(zAndes_15baseline, uncAndes_15baseline, OmegaM=0.3, w0=-0.8, wa=-0.2, zeta=-0.15, analysis = 'alpha')\n",
    "FM_CPL_Andes_10baselineT = FisherMatrix_aCPL(zAndes_10baseline, uncAndes_10baseline, OmegaM=0.3, w0=-0.8, wa=-0.2, zeta=-0.15, analysis = 'alpha')\n",
    "\n",
    "FM_CPL_Andes_20optimisticT = FisherMatrix_aCPL(zAndes_20optimistic, uncAndes_20optimistic, OmegaM=0.3, w0=-0.8, wa=-0.2, zeta=-0.15, analysis = 'alpha')\n",
    "FM_CPL_Andes_15optimistic1T = FisherMatrix_aCPL(zAndes_15optimistic1, uncAndes_15optimistic1, OmegaM=0.3, w0=-0.8, wa=-0.2, zeta=-0.15, analysis = 'alpha')\n",
    "FM_CPL_Andes_15optimistic2T = FisherMatrix_aCPL(zAndes_15optimistic2, uncAndes_15optimistic2, OmegaM=0.3, w0=-0.8, wa=-0.2, zeta=-0.15, analysis = 'alpha')\n",
    "\n",
    "\n",
    "FM_CPL_AlphaB_T_np = FM_CPL_Andes_15baselineT + FM_CPL_Andes_10baselineT\n",
    "FM_CPL_AlphaO_T_np = FM_CPL_Andes_20optimisticT + FM_CPL_Andes_15optimistic1T + FM_CPL_Andes_15optimistic2T"
   ]
  },
  {
   "cell_type": "markdown",
   "id": "7bf2d058",
   "metadata": {},
   "source": [
    "#### CPLF ($w_0 = -0.9$, $w_a = +0.3$ and $\\zeta = -0.15$ppm)"
   ]
  },
  {
   "cell_type": "code",
   "execution_count": 14,
   "id": "ea48f6ed",
   "metadata": {},
   "outputs": [],
   "source": [
    "FM_CPL_Andes_15baselineF = FisherMatrix_aCPL(zAndes_15baseline, uncAndes_15baseline, OmegaM=0.3, w0=-0.9, wa=0.3, zeta=-0.15, analysis = 'alpha')\n",
    "FM_CPL_Andes_10baselineF = FisherMatrix_aCPL(zAndes_10baseline, uncAndes_10baseline, OmegaM=0.3, w0=-0.9, wa=0.3, zeta=-0.15, analysis = 'alpha')\n",
    "\n",
    "FM_CPL_Andes_20optimisticF = FisherMatrix_aCPL(zAndes_20optimistic, uncAndes_20optimistic, OmegaM=0.3, w0=-0.9, wa=0.3, zeta=-0.15, analysis = 'alpha')\n",
    "FM_CPL_Andes_15optimistic1F = FisherMatrix_aCPL(zAndes_15optimistic1, uncAndes_15optimistic1, OmegaM=0.3, w0=-0.9, wa=0.3, zeta=-0.15, analysis = 'alpha')\n",
    "FM_CPL_Andes_15optimistic2F = FisherMatrix_aCPL(zAndes_15optimistic2, uncAndes_15optimistic2, OmegaM=0.3, w0=-0.9, wa=0.3, zeta=-0.15, analysis = 'alpha')\n",
    "\n",
    "\n",
    "FM_CPL_AlphaB_F_np = FM_CPL_Andes_15baselineF + FM_CPL_Andes_10baselineF\n",
    "FM_CPL_AlphaO_F_np = FM_CPL_Andes_20optimisticF + FM_CPL_Andes_15optimistic1F + FM_CPL_Andes_15optimistic2F"
   ]
  },
  {
   "cell_type": "markdown",
   "id": "27acce24",
   "metadata": {},
   "source": [
    "## - With Priors\n",
    "### Bekenstein\n",
    "#### BEK0 ($\\zeta_\\Lambda = \\zeta_m = 0$)"
   ]
  },
  {
   "cell_type": "code",
   "execution_count": 15,
   "id": "21fb37f6",
   "metadata": {},
   "outputs": [],
   "source": [
    "BEK0_AlphaB = BEK0_AlphaB_np + PriorBEK0\n",
    "BEK0_AlphaO = BEK0_AlphaO_np + PriorBEK0"
   ]
  },
  {
   "cell_type": "markdown",
   "id": "705c7e6f",
   "metadata": {},
   "source": [
    "#### BEK ($\\zeta_m = 0$ and $\\zeta_\\Lambda = +0.1$ppm)"
   ]
  },
  {
   "cell_type": "code",
   "execution_count": 16,
   "id": "4bdb736a",
   "metadata": {},
   "outputs": [],
   "source": [
    "BEK_AlphaB = BEK_AlphaB_np + PriorBEK\n",
    "BEK_AlphaO = BEK_AlphaO_np + PriorBEK"
   ]
  },
  {
   "cell_type": "markdown",
   "id": "08cad1b2",
   "metadata": {},
   "source": [
    "#### CPLT ($w_0 = -0.8$, $w_a = -0.2$ and $\\zeta = -0.15$ppm)"
   ]
  },
  {
   "cell_type": "code",
   "execution_count": 17,
   "id": "c7310c4f",
   "metadata": {},
   "outputs": [],
   "source": [
    "CPL_AlphaB_T = FM_CPL_AlphaB_T_np + PriorCPLT\n",
    "CPL_AlphaO_T = FM_CPL_AlphaO_T_np + PriorCPLT"
   ]
  },
  {
   "cell_type": "markdown",
   "id": "87d1d8c5",
   "metadata": {},
   "source": [
    "#### CPLF ($w_0 = -0.9$, $w_a = +0.3$ and $\\zeta = -0.15$ppm)"
   ]
  },
  {
   "cell_type": "code",
   "execution_count": 18,
   "id": "0c3a4f6a",
   "metadata": {},
   "outputs": [],
   "source": [
    "CPL_AlphaB_F = FM_CPL_AlphaB_F_np + PriorCPLF\n",
    "CPL_AlphaO_F = FM_CPL_AlphaO_F_np + PriorCPLF"
   ]
  },
  {
   "cell_type": "markdown",
   "id": "ac31c0c6",
   "metadata": {},
   "source": [
    "# Confidence ellipses (1-sigma)\n",
    "\n",
    "#### Bekenstein"
   ]
  },
  {
   "cell_type": "code",
   "execution_count": 19,
   "id": "8eac5982",
   "metadata": {},
   "outputs": [],
   "source": [
    "def EllipsesAlphaBek(parameter1,parameter2, parameter_values, Fs, ells_color, ells_linestyle, Fs_legend=None): \n",
    "    ells = []\n",
    "    custom_lines=[]\n",
    "    if not Fs_legend:\n",
    "        Fs_legend = len(Fs)*[None]\n",
    "    for i in range(len(Fs)):\n",
    "        parameter1_value, parameter2_value = parameter_values[i] \n",
    "        \n",
    "        if parameter1 == 'OmegaM':\n",
    "            parameter1_legend = '$\\Omega_m$'\n",
    "        \n",
    "            if parameter2 == 'Zm':\n",
    "                Fm = marginalize(Fs[i],'Zl',analysis='alpha-BEK')\n",
    "                parameter2_legend = '$\\zeta_m$ (ppm)'\n",
    "                \n",
    "            if parameter2 == 'Zl':\n",
    "                Fm = marginalize(Fs[i],'Zm',analysis='alpha-BEK')\n",
    "                parameter2_legend = '$\\zeta_\\Lambda$ (ppm)'  \n",
    "           \n",
    "        \n",
    "        if parameter1 == 'Zm' and parameter2 == 'Zl':\n",
    "            parameter1_legend = '$\\zeta_m$ (ppm)'\n",
    "            parameter2_legend = '$\\zeta_\\Lambda$ (ppm)'\n",
    "            Fm = marginalize(Fs[i],'OmegaM',analysis='alpha-BEK')\n",
    "        \n",
    "        \n",
    "        Pa = preelipse(Fm)\n",
    "        color, name, style,facecolor, alpha = ells_color[i], Fs_legend[i], ells_linestyle[i], 'none', 1\n",
    "        ells.append([parameter1_value,parameter2_value,Pa[0],Pa[1],Pa[2],name,color,style,facecolor, alpha])\n",
    "        custom_lines+= [Line2D([0], [0], color=ells_color[i], lw=1.1, ls=ells_linestyle[i])]\n",
    "        \n",
    "                            \n",
    "    ellipses(ells,[parameter1_legend,parameter2_legend])\n",
    "    plt.tick_params(axis='both', which='major', labelsize=16)\n",
    "    if Fs_legend[0]: \n",
    "        plt.legend(custom_lines, Fs_legend)\n",
    "    \n",
    "    #Definition of plot limits and figure name\n",
    "    #plt.xlim(-1.1,-0.7)\n",
    "    #plt.ylim(-0.4, 1.0)\n",
    "    #plt.savefig('name.png', dpi=300, bbox_inches='tight')\n",
    "\n",
    "    plt.show()"
   ]
  },
  {
   "cell_type": "markdown",
   "id": "73052efb",
   "metadata": {},
   "source": [
    "The possible combinations are: (Zm,Zl), (OmegaM, Zm), (OmegaM, Zl)\n",
    "\n",
    "Specify the <b>combination of parameters</b>, <b>fiducial values</b> of the model, the <b>matrices</b>, <b>colours</b>, <b>linestyle</b> and <b>names</b> for the legend."
   ]
  },
  {
   "cell_type": "code",
   "execution_count": 20,
   "id": "2aef0a3b",
   "metadata": {},
   "outputs": [],
   "source": [
    "#EllipsesAlphaBek('Zm','Zl',[[0.0,0.0],[0.0,0.1]],[BEK0_AlphaB, BEK_AlphaB], ['blue','red'], ['-', (0, (8,8))],['$\\zeta_\\Lambda$=0.0 ppm', '$\\zeta_\\Lambda$=+0.1 ppm'])"
   ]
  },
  {
   "cell_type": "markdown",
   "id": "10f36582",
   "metadata": {},
   "source": [
    "#### CPL"
   ]
  },
  {
   "cell_type": "code",
   "execution_count": 21,
   "id": "6742bb3a",
   "metadata": {},
   "outputs": [],
   "source": [
    "def EllipsesAlphaCPL(parameter1,parameter2, parameter_values, Fs, ells_color, ells_linestyle, Fs_legend=None): \n",
    "    ells = []\n",
    "    custom_lines=[]\n",
    "    if not Fs_legend:\n",
    "        Fs_legend = len(Fs)*[None]\n",
    "    for i in range(len(Fs)):\n",
    "        parameter1_value, parameter2_value = parameter_values[i] \n",
    "        \n",
    "        if parameter1 == 'OmegaM':\n",
    "            parameter1_legend = '$\\Omega_m$'\n",
    "        \n",
    "            if parameter2 == 'zeta':\n",
    "                Fm = marginalize(Fs[i],'wa',analysis='alpha-CPL')\n",
    "                Fm = marginalize(Fm,'w0',analysis='alpha-CPL')\n",
    "                parameter2_legend = '$\\zeta$ (ppm)'\n",
    "                \n",
    "            if parameter2 == 'w0':\n",
    "                Fm = marginalize(Fs[i],'zeta',analysis='alpha-CPL')\n",
    "                Fm = marginalize(Fm,'wa',analysis='alpha-CPL')\n",
    "                parameter2_legend = '$w_0$'\n",
    "                \n",
    "            if parameter2 == 'wa':\n",
    "                Fm = marginalize(Fs[i],'zeta',analysis='alpha-CPL')\n",
    "                Fm = marginalize(Fm,'w0',analysis='alpha-CPL')\n",
    "                parameter2_legend = '$w_a$'\n",
    "                \n",
    "                \n",
    "        if parameter1 == 'w0':\n",
    "            parameter1_legend = '$w_0$'\n",
    "            \n",
    "            if parameter2 == 'zeta':\n",
    "                Fm = marginalize(Fs[i],'wa',analysis='alpha-CPL')\n",
    "                Fm = marginalize(Fm,'OmegaM',analysis='alpha-CPL')\n",
    "                parameter2_legend = '$\\zeta$ (ppm)'\n",
    "                \n",
    "            if parameter2 == 'wa':\n",
    "                Fm = marginalize(Fs[i],'zeta',analysis='alpha-CPL')\n",
    "                Fm = marginalize(Fm,'OmegaM',analysis='alpha-CPL')\n",
    "                parameter2_legend = '$w_a$'\n",
    "                \n",
    "        if parameter1 == 'wa' and parameter2 == 'zeta':\n",
    "            parameter1_legend = '$w_a$'\n",
    "            parameter2_legend = '$\\zeta$ (ppm)'\n",
    "            Fm = marginalize(Fs[i],'w0',analysis='alpha-CPL')\n",
    "            Fm = marginalize(Fm,'OmegaM',analysis='alpha-CPL')\n",
    "                \n",
    "           \n",
    "        Pa = preelipse(Fm)\n",
    "        color, name, style,facecolor, alpha = ells_color[i], Fs_legend[i], ells_linestyle[i], 'none', 1\n",
    "        ells.append([parameter1_value,parameter2_value,Pa[0],Pa[1],Pa[2],name,color,style,facecolor, alpha])\n",
    "        custom_lines+= [Line2D([0], [0], color=ells_color[i], lw=1.1, ls=ells_linestyle[i])]\n",
    "        \n",
    "                            \n",
    "    ellipses(ells,[parameter1_legend,parameter2_legend])\n",
    "    plt.tick_params(axis='both', which='major', labelsize=16)\n",
    "    if Fs_legend[0]: \n",
    "        plt.legend(custom_lines, Fs_legend)\n",
    "    \n",
    "    #Definition of plot limits and figure name\n",
    "    #plt.xlim(-1.1,-0.7)\n",
    "    #plt.ylim(-0.4, 1.0)\n",
    "    #plt.savefig('name.png', dpi=300, bbox_inches='tight')\n",
    "\n",
    "    plt.show()"
   ]
  },
  {
   "cell_type": "markdown",
   "id": "dc0adc19",
   "metadata": {},
   "source": [
    "The possible combinations are: (OmegaM, zeta), (OmegaM, w0), (OmegaM, wa), (w0, zeta), (w0, wa), (wa, zeta)\n",
    "\n",
    "Specify the <b>combination of parameters</b>, <b>fiducial values</b> of the model, the <b>matrices</b>, <b>colours</b>, <b>linestyle</b> and <b>names</b> for the legend."
   ]
  },
  {
   "cell_type": "code",
   "execution_count": 22,
   "id": "81678b37",
   "metadata": {},
   "outputs": [],
   "source": [
    "#EllipsesAlphaCPL('OmegaM','zeta',[[0.3,-0.15],[0.3,-0.15]],[CPL_AlphaB_T, CPL_AlphaB_F], ['blue','red'], ['-', (0, (8,8))],['Thawing', 'Freezing'])"
   ]
  },
  {
   "cell_type": "markdown",
   "id": "c3d43fb2",
   "metadata": {},
   "source": [
    "# Table with ρ, FoM and σ\n",
    "\n",
    "#### Bekenstein"
   ]
  },
  {
   "cell_type": "code",
   "execution_count": 23,
   "id": "4ccd1175",
   "metadata": {},
   "outputs": [],
   "source": [
    "def TableAlphaBek(matrices):\n",
    "    i=0\n",
    "    df=pd.DataFrame()\n",
    "    nformat = \"{:.0f}\"\n",
    "    float_format=\"{:.3f}\"\n",
    "\n",
    "    for matrix in matrices:\n",
    "        rows = {'ρ(Ωm, Zm)':float_format.format(FigMeriteRho(matrix,['Zl'],analysis='alpha-BEK')[1]),\n",
    "                'ρ(Ωm, Zl)':float_format.format(FigMeriteRho(matrix,['Zm'],analysis='alpha-BEK')[1]),\n",
    "                'ρ(Zm, Zl)':float_format.format(FigMeriteRho(matrix,['OmegaM'],analysis='alpha-BEK')[1]),                      \n",
    "                'FoM(Ωm, Zm)': nformat.format(FigMeriteRho(matrix,['Zl'],analysis='alpha-BEK')[0]),\n",
    "                'FoM(Ωm, Zl)': nformat.format(FigMeriteRho(matrix,['Zm'],analysis='alpha-BEK')[0]),\n",
    "                'FoM(Zm, Zl)': nformat.format(FigMeriteRho(matrix,['OmegaM'],analysis='alpha-BEK')[0]),\n",
    "                'σ(Ωm)':float_format.format(Sigmas(matrix)[0]),\n",
    "                'σ(Zm)':float_format.format(Sigmas(matrix)[1]),\n",
    "                'σ(Zl)':float_format.format(Sigmas(matrix)[2])}\n",
    "        i+=1\n",
    "        df = df.append(rows,ignore_index=True)\n",
    "        del rows\n",
    "    \n",
    "    \n",
    "    Datasets = ['Baseline BEK0','Baseline BEK','Optimistic BEK0', 'Optimistic BEK']\n",
    "    df.insert(0, \"Parameters\", Datasets, True)\n",
    "    \n",
    "    df = df.transpose()\n",
    "    \n",
    "            \n",
    "    return df"
   ]
  },
  {
   "cell_type": "code",
   "execution_count": 28,
   "id": "1de0cd03",
   "metadata": {},
   "outputs": [],
   "source": [
    "matricesBEK = [BEK0_AlphaB, BEK_AlphaB, BEK0_AlphaO, BEK_AlphaO]\n",
    "#tab = TableAlphaBek(matricesBEK)\n",
    "\n",
    "#See the table in DataFrame:\n",
    "#tab\n",
    "\n",
    "#Transform dataframe to latex code:\n",
    "#print(tab.to_latex(header=False,index=True))"
   ]
  },
  {
   "cell_type": "markdown",
   "id": "2e216146",
   "metadata": {},
   "source": [
    "#### CPL"
   ]
  },
  {
   "cell_type": "code",
   "execution_count": 25,
   "id": "3562e778",
   "metadata": {},
   "outputs": [],
   "source": [
    "def TableAlphaCPL(matrices):\n",
    "    i=0\n",
    "    df=pd.DataFrame()\n",
    "    nformat = \"{:.0f}\"\n",
    "    float_format=\"{:.3f}\"\n",
    "    \n",
    "    for matrix in matrices:\n",
    "        rows = {'ρ(Ωm, w0)':float_format.format(FigMeriteRho(matrix,['wa','zeta'],analysis='alpha-CPL')[1]),\n",
    "                'ρ(Ωm, wa)':float_format.format(FigMeriteRho(matrix,['w0','zeta'],analysis='alpha-CPL')[1]),\n",
    "                'ρ(Ωm, zeta)':float_format.format(FigMeriteRho(matrix,['w0','wa'],analysis='alpha-CPL')[1]),                       \n",
    "                'ρ(w0, wa)':float_format.format(FigMeriteRho(matrix,['OmegaM','zeta'],analysis='alpha-CPL')[1]),\n",
    "                'ρ(w0, zeta)':float_format.format(FigMeriteRho(matrix,['OmegaM','wa'],analysis='alpha-CPL')[1]),\n",
    "                'ρ(wa, zeta)':float_format.format(FigMeriteRho(matrix,['OmegaM','w0'],analysis='alpha-CPL')[1]),\n",
    "                'FoM(Ωm, w0)': nformat.format(FigMeriteRho(matrix,['wa','zeta'],analysis='alpha-CPL')[0]),\n",
    "                'FoM(Ωm, wa)': nformat.format(FigMeriteRho(matrix,['w0','zeta'],analysis='alpha-CPL')[0]),\n",
    "                'FoM(Ωm, zeta)': nformat.format(FigMeriteRho(matrix,['w0','wa'],analysis='alpha-CPL')[0]),\n",
    "                'FoM(w0, wa)': nformat.format(FigMeriteRho(matrix,['OmegaM','zeta'],analysis='alpha-CPL')[0]),\n",
    "                'FoM(w0, zeta)': nformat.format(FigMeriteRho(matrix,['OmegaM','wa'],analysis='alpha-CPL')[0]),\n",
    "                'FoM(wa, zeta)': nformat.format(FigMeriteRho(matrix,['OmegaM','w0'],analysis='alpha-CPL')[0]),\n",
    "                'σ(Ωm)':float_format.format(Sigmas(matrix)[0]),\n",
    "                'σ(w0)':float_format.format(Sigmas(matrix)[1]),\n",
    "                'σ(wa)':float_format.format(Sigmas(matrix)[2]),\n",
    "                'σ(zeta)':float_format.format(Sigmas(matrix)[3])}\n",
    "        i+=1\n",
    "        df = df.append(rows,ignore_index=True)\n",
    "        del rows\n",
    "    \n",
    "    \n",
    "    Datasets = ['Baseline Thawing','Baseline Freezing', 'Optimistic Thawing','Optimistic Freezing']\n",
    "    df.insert(0, \"Parameters\", Datasets, True)\n",
    "    \n",
    "    df = df.transpose()\n",
    "    \n",
    "            \n",
    "    return df"
   ]
  },
  {
   "cell_type": "code",
   "execution_count": 27,
   "id": "3c4adece",
   "metadata": {},
   "outputs": [],
   "source": [
    "matricesCPL = [CPL_AlphaB_T, CPL_AlphaB_F, CPL_AlphaO_T, CPL_AlphaO_F]\n",
    "#tab = TableAlphaCPL(matricesCPL)\n",
    "\n",
    "#See the table in DataFrame:\n",
    "#tab\n",
    "\n",
    "#Transform dataframe to latex code:\n",
    "#print(tab.to_latex(header=False,index=True))"
   ]
  }
 ],
 "metadata": {
  "kernelspec": {
   "display_name": "Python 3 (ipykernel)",
   "language": "python",
   "name": "python3"
  },
  "language_info": {
   "codemirror_mode": {
    "name": "ipython",
    "version": 3
   },
   "file_extension": ".py",
   "mimetype": "text/x-python",
   "name": "python",
   "nbconvert_exporter": "python",
   "pygments_lexer": "ipython3",
   "version": "3.7.9"
  }
 },
 "nbformat": 4,
 "nbformat_minor": 5
}
