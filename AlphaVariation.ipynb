{
 "cells": [
  {
   "cell_type": "code",
   "execution_count": 1,
   "id": "d6a18893",
   "metadata": {},
   "outputs": [],
   "source": [
    "%run Main.ipynb"
   ]
  },
  {
   "cell_type": "markdown",
   "id": "6c551268",
   "metadata": {},
   "source": [
    "# Variation of the fine-structure constant\n",
    "\n",
    "## - Models\n",
    "**Bekenstein’s class of varying $\\alpha$ models $\\to$ flat $\\Lambda$CDM case**\n",
    "\n",
    "$\\frac{\\Delta \\alpha}{\\alpha}(z) = 2 \\zeta_m \\log(1+z) + \\frac{2(\\zeta_{\\Lambda} - 2\\zeta_m)}{3\\sqrt{\\Omega_{\\Lambda}}} \\left[ \\log\\left( \\frac{1+\\sqrt{\\Omega_{\\Lambda}}}{\\sqrt{\\Omega_m}}\\right) - \\sqrt{E^2(z)} \\log\\left( \\frac{\\sqrt{\\Omega_{\\Lambda}} + \\sqrt{E^2(z)}}{\\sqrt{\\Omega_m (1+z)^3}} \\right) \\right] \\Leftrightarrow$ \n",
    "\n",
    "$\\Leftrightarrow \\frac{\\Delta \\alpha}{\\alpha}(z) = \\left[ \\frac{2}{3\\sqrt{\\Omega_{\\Lambda}}} \\left[ \\log\\left( \\frac{1+\\sqrt{\\Omega_{\\Lambda}}}{\\sqrt{\\Omega_m}}\\right) - \\sqrt{E^2(z)} \\log\\left( \\frac{\\sqrt{\\Omega_{\\Lambda}} + \\sqrt{E^2(z)}}{\\sqrt{\\Omega_m (1+z)^3}} \\right) \\right] \\right] \\zeta_{\\Lambda} + \\left[ 2\\log(1+z) - \\frac{4}{3\\sqrt{\\Omega_{\\Lambda}}} \\left[ \\log\\left( \\frac{1+\\sqrt{\\Omega_{\\Lambda}}}{\\sqrt{\\Omega_m}}\\right) - \\sqrt{E^2(z)} \\log\\left( \\frac{\\sqrt{\\Omega_{\\Lambda}} + \\sqrt{E^2(z)}}{\\sqrt{\\Omega_m (1+z)^3}} \\right) \\right] \\right] \\zeta_m$\n",
    "\n",
    "For a flat universe we have: $\\Omega_m + \\Omega_{\\Lambda} = 1 \\Rightarrow \\Omega_{\\Lambda} = 1 - \\Omega_m$"
   ]
  },
  {
   "cell_type": "code",
   "execution_count": 2,
   "id": "27f82235",
   "metadata": {},
   "outputs": [],
   "source": [
    "def zeta_lambda(z, OmegaM, w0, wa):\n",
    "    if w0 == None: \n",
    "        w0 = -1.\n",
    "    if wa == None: \n",
    "        wa = 0\n",
    "    #in flat ΛCDM case we always have w0=-1 and wa=0\n",
    "    zeta_lambda = 2/(3*np.sqrt(1-OmegaM)) * (np.log((1+np.sqrt(1-OmegaM))/np.sqrt(OmegaM)) - \n",
    "     (function_E_z(z, OmegaM, w0, wa)*np.log((np.sqrt(1-OmegaM) + \n",
    "        function_E_z(z, OmegaM, w0, wa))/(np.sqrt(OmegaM * (1+z)**3)))))\n",
    "    return zeta_lambda\n",
    "\n",
    "def zeta_m(z, OmegaM, w0, wa):\n",
    "    if w0 == None: \n",
    "        w0 = -1.\n",
    "    if wa == None: \n",
    "        wa = 0\n",
    "    #in flat ΛCDM case we always have w0=-1 and wa=0\n",
    "    zeta_m = 2*np.log(1+z) - (4/(3*np.sqrt(1-OmegaM))) * (np.log((1+np.sqrt(1-OmegaM))/np.sqrt(OmegaM)) - \n",
    "     (function_E_z(z, OmegaM, w0, wa)*np.log((np.sqrt(1-OmegaM) + \n",
    "        function_E_z(z, OmegaM, w0, wa))/(np.sqrt(OmegaM * (1+z)**3)))))\n",
    "    return zeta_m\n",
    "\n",
    "def alpha_v_bekenstein(z, OmegaM, w0, wa, Zl, Zm):\n",
    "    return zeta_lambda(z, OmegaM, w0, wa) * Zl + zeta_m(z, OmegaM, w0, wa) * Zm"
   ]
  },
  {
   "cell_type": "markdown",
   "id": "f8109c77",
   "metadata": {},
   "source": [
    "**CPL Parametrization**\n",
    "\n",
    "$w_{CPL}(z) = w_0 + w_a \\frac{z}{1+z} $ and $\\Omega_{CPL}(z) = \\frac{1-\\Omega_m}{1-\\Omega_m+\\Omega_m (1+z)^{-3(w_0+w_a)} \\exp(3w_az/(1+z))}$\n",
    "\n",
    "For $w_\\phi\\geq-1$:\n",
    "\n",
    "$\\frac{\\Delta \\alpha}{\\alpha}(z) = \\zeta \\int_{0}^{z} \\sqrt{3\\Omega_\\phi(z') [1+w_\\phi(z')]} \\,\\frac{dz\\prime}{1+z\\prime}$\n",
    "\n",
    "For Phantom Energy Fields $(w_\\phi<-1)$:\n",
    "\n",
    "$\\frac{\\Delta \\alpha}{\\alpha}(z) = -\\zeta \\int_{0}^{z} \\sqrt{3\\Omega_\\phi(z') \\mid 1+w_\\phi(z')\\mid} \\,\\frac{dz'}{1+z'}$"
   ]
  },
  {
   "cell_type": "code",
   "execution_count": 3,
   "id": "0142272b",
   "metadata": {},
   "outputs": [],
   "source": [
    "def w_CPL(z, w0, wa):\n",
    "    w_CPL = w0 + wa * (z/(1+z))\n",
    "    return w_CPL\n",
    "\n",
    "def Omega_CPL(z, OmegaM, w0, wa):\n",
    "    Omega_CPL = (1 - OmegaM) / (1 - OmegaM + (OmegaM*(1+z)**(-3*(w0+wa)) * np.exp((3*wa*z)/(1+z))))\n",
    "    return Omega_CPL\n",
    "\n",
    "\n",
    "def function(z, OmegaM, w0, wa):\n",
    "    if w0 >= -1:            \n",
    "        return np.sqrt(3*Omega_CPL(z, OmegaM, w0, wa) * (1 + w_CPL(z, w0, wa)))/(1+z)\n",
    "    if 3*Omega_CPL(z, OmegaM, w0, wa) * (1 + w_CPL(z, w0, wa)) < 0:\n",
    "        return -np.sqrt(3*Omega_CPL(z, OmegaM, w0, wa) * abs(1 + w_CPL(z, w0, wa)))/(1+z)\n",
    "\n",
    "\n",
    "def alpha_v_CPL(z, OmegaM, w0, wa, zeta):\n",
    "    alpha_v_CPL, error = scipy.integrate.quad(function, 0, z, args=(OmegaM, w0, wa),epsabs=10**(-30))\n",
    "    return zeta * alpha_v_CPL  "
   ]
  },
  {
   "cell_type": "markdown",
   "id": "571c2cfe",
   "metadata": {},
   "source": [
    "## - Derivatives calculation\n",
    "**Bekenstein**"
   ]
  },
  {
   "cell_type": "code",
   "execution_count": 4,
   "id": "b1cd1148",
   "metadata": {},
   "outputs": [],
   "source": [
    "def dfdOmegaM_ab(z, OmegaM, w0, wa, Zl, Zm):\n",
    "    return ( alpha_v_bekenstein(z, OmegaM+hh, w0, wa, Zl, Zm)-alpha_v_bekenstein(z, OmegaM, w0, wa, Zl, Zm))/hh\n",
    "\n",
    "def dfdZl(z, OmegaM, w0, wa):\n",
    "    return zeta_lambda(z, OmegaM, w0, wa)\n",
    "\n",
    "def dfdZm(z, OmegaM, w0, wa):\n",
    "    return zeta_m(z, OmegaM, w0, wa)"
   ]
  },
  {
   "cell_type": "markdown",
   "id": "46804691",
   "metadata": {},
   "source": [
    "**CPL Parametrization**"
   ]
  },
  {
   "cell_type": "code",
   "execution_count": 5,
   "id": "c3a7ddf8",
   "metadata": {},
   "outputs": [],
   "source": [
    "def dfdOmegaM_a(z, OmegaM, w0, wa, zeta):\n",
    "    return ( alpha_v_CPL(z, OmegaM+hh, w0, wa, zeta)-alpha_v_CPL(z, OmegaM, w0, wa, zeta) )/hh\n",
    "\n",
    "def dfdw0_a(z, OmegaM, w0, wa, zeta):\n",
    "    return ( alpha_v_CPL(z, OmegaM, w0+hh, wa, zeta)-alpha_v_CPL(z, OmegaM, w0, wa, zeta) )/hh\n",
    "\n",
    "def dfdwa_a(z, OmegaM, w0, wa, zeta):\n",
    "    return ( alpha_v_CPL(z, OmegaM, w0, wa+hh, zeta)-alpha_v_CPL(z, OmegaM, w0, wa, zeta) )/hh\n",
    "\n",
    "def dfdzeta(z, OmegaM, w0, wa, zeta):\n",
    "    return alpha_v_CPL(z, OmegaM, w0, wa, zeta)/zeta"
   ]
  },
  {
   "cell_type": "markdown",
   "id": "aa0b464d",
   "metadata": {},
   "source": [
    "## - Add Priors (Separate)\n",
    "\n",
    "#### Atomic Clocks\n",
    "\n",
    "- Considering $\\Omega_m$ as a constant:\n",
    "\n",
    "Present-day drift rate constrained by laboratory tests using atomi clocks $(\\Omega_m = 0.3)$:\n",
    "\n",
    "$\\left( \\frac{1}{H}\\frac{\\dot{\\alpha}}{\\alpha} \\right)_0 = - 0.13 \\zeta_{\\Lambda} - 1.74 \\zeta_{m}$\n",
    "\n",
    "- Considering $\\Omega_m$ as a parameter:\n",
    "\n",
    "Present-day drift rate:\n",
    "\n",
    "${\\left( \\frac{1}{H} \\frac{\\dot{\\alpha}}{\\alpha} \\right)}_0 = - \\zeta_{\\Lambda} + 2(\\zeta_{\\Lambda} -2 \\zeta_{m}) \\frac{\\Omega_m}{\\sqrt{\\Omega_{\\Lambda}}} \\log{\\frac{1 + \\sqrt{\\Omega_{\\Lambda}}}{\\sqrt{\\Omega_{m}}}}\\Leftrightarrow$\n",
    "\n",
    "$\\Leftrightarrow {\\left( \\frac{1}{H} \\frac{\\dot{\\alpha}}{\\alpha} \\right)}_0 = \\left( 2 \\frac{\\Omega_m}{\\sqrt{\\Omega_{\\Lambda}}} \\log{\\frac{1 + \\sqrt{\\Omega_{\\Lambda}}}{\\sqrt{\\Omega_{m}}}} - 1\\right)\\zeta_{\\Lambda} - \\left(4 \\frac{\\Omega_m}{\\sqrt{\\Omega_{\\Lambda}}} \\log{\\frac{1 + \\sqrt{\\Omega_{\\Lambda}}}{\\sqrt{\\Omega_{m}}}}\\right)  \\zeta_{m}$\n",
    "\n",
    "For a flat universe we have: $\\Omega_m + \\Omega_{\\Lambda} = 1 \\Rightarrow \\Omega_{\\Lambda} = 1 - \\Omega_m$\n",
    "\n",
    "- Constraint on current drift of $\\alpha$ by Rosenband:\n",
    "\n",
    "$\\left( \\frac{1}{H}\\frac{\\dot{\\alpha}}{\\alpha} \\right)_0 = - 0.22 \\pm 0.32 ppm$"
   ]
  },
  {
   "cell_type": "code",
   "execution_count": 6,
   "id": "2fbf77f0",
   "metadata": {},
   "outputs": [],
   "source": [
    "#Constraint Rosenband\n",
    "#unc_Rosenband = .32*10**(-6)\n",
    "#unc_Rosenband_F = .032*10**(-6) #Future constraint = unc_Rosenvand/10\n",
    "\n",
    "#Constraint Rosenband in ppm\n",
    "unc_Rosenband = .32\n",
    "unc_Rosenband_F = .032 #Future constraint = unc_Rosenvand/10\n",
    "\n",
    "\n",
    "#Considering OmegaM as constant\n",
    "a = -0.13\n",
    "b = -1.74\n",
    "\n",
    "FpriorClocks_Oconst  = np.array([[b**2*unc_Rosenband**(-2), a*b*unc_Rosenband**(-2)], [a*b*unc_Rosenband**-2, a**2*unc_Rosenband**(-2)]])\n",
    "FpriorClocksF_Oconst = np.array([[b**2*unc_Rosenband_F**(-2), a*b*unc_Rosenband_F**(-2)], [a*b*unc_Rosenband_F**-2, a**2*unc_Rosenband_F**(-2)]])\n",
    "\n",
    "\n",
    "#Considering OmegaM as parameter\n",
    "d = 2 * ( (OmegaM / np.sqrt(1 - OmegaM)) * np.log((1+np.sqrt(1 - OmegaM))/np.sqrt(OmegaM)) ) - 1\n",
    "e = -4 * (OmegaM / np.sqrt(1 - OmegaM)) * np.log((1+np.sqrt(1 - OmegaM))/np.sqrt(OmegaM))\n",
    "\n",
    "FpriorClocks_Oparam  = np.array([[e**2*unc_Rosenband**(-2), d*e*unc_Rosenband**(-2)], [d*e*unc_Rosenband**(-2), d**2*unc_Rosenband**(-2)]])\n",
    "FpriorClocksF_Oparam = np.array([[e**2*unc_Rosenband_F**(-2), d*e*unc_Rosenband_F**(-2)], [d*e*unc_Rosenband_F**(-2), d**2*unc_Rosenband_F**(-2)]])"
   ]
  },
  {
   "cell_type": "code",
   "execution_count": 7,
   "id": "cd90afb0",
   "metadata": {},
   "outputs": [],
   "source": [
    "def addPriors_BEK(F_ab, cur_ab, OCP):\n",
    "    #Assuming OmegaM as a constant\n",
    "    if OCP == 'constant':\n",
    "        newF_ab = np.copy(F_ab)\n",
    "        if cur_ab == 1:\n",
    "            newF_ab = F_ab + FpriorClocks_Oconst\n",
    "        else:\n",
    "            newF_ab = F_ab + FpriorClocksF_Oconst \n",
    "    #Assuming OmegaM as a parameter\n",
    "    if OCP == 'parameter':\n",
    "        newF_ab = np.copy(F_ab)\n",
    "        if cur_ab == 1:\n",
    "            FpriorClocksNew = np.insert(FpriorClocks_Oparam, 0, 0, axis=0)\n",
    "            FpriorClocksNew = np.insert(FpriorClocksNew, 0, 0, axis=1)\n",
    "            newF_ab = F_ab + FpriorClocksNew\n",
    "        else:\n",
    "            FpriorClocksFNew = np.insert(FpriorClocksF_Oparam, 0, 0, axis=0)\n",
    "            FpriorClocksFNew = np.insert(FpriorClocksFNew, 0, 0, axis=1)\n",
    "            newF_ab = F_ab + FpriorClocksFNew\n",
    "  \n",
    "    return newF_ab"
   ]
  },
  {
   "cell_type": "code",
   "execution_count": 8,
   "id": "2a5d09bb",
   "metadata": {},
   "outputs": [],
   "source": [
    "def add1DPriors(F, priors): #to add priors locally in the intended parameters\n",
    "    '''F-Fisher matrix, priors-[[sigma_prior1,local1],...]'''\n",
    "    G = np.copy(F)\n",
    "    for i in range(len(priors)): \n",
    "        G[priors[i][1],priors[i][1]]+=priors[i][0]**-2\n",
    "    return G"
   ]
  },
  {
   "cell_type": "markdown",
   "id": "81dc715f",
   "metadata": {},
   "source": [
    "# Measurements\n",
    "### - Redshifts"
   ]
  },
  {
   "cell_type": "code",
   "execution_count": 9,
   "id": "2d0b1f18",
   "metadata": {},
   "outputs": [],
   "source": [
    "#ANDES Baseline\n",
    "zAndes_15baseline = np.linspace(1,2.5,num=15)\n",
    "zAndes_10baseline = np.linspace(2.5,4,num=10)\n",
    "\n",
    "\n",
    "#ANDES Optimistic\n",
    "zAndes_20optimistic = np.linspace(1,2.5,num=20)\n",
    "zAndes_15optimistic1 = np.linspace(2.5,4,num=15)\n",
    "zAndes_15optimistic2 = np.linspace(4,7,num=15)"
   ]
  },
  {
   "cell_type": "markdown",
   "id": "5dbff59f",
   "metadata": {},
   "source": [
    "### - Uncertainties"
   ]
  },
  {
   "cell_type": "code",
   "execution_count": 10,
   "id": "c729a7cd",
   "metadata": {},
   "outputs": [],
   "source": [
    "#ANDES Baseline\n",
    "\n",
    "#uncAndes_15baseline = np.zeros(15) + (0.1*10**(-6))\n",
    "#uncAndes_10baseline = np.zeros(10) + (0.2*10**(-6))\n",
    "\n",
    "#PPM:\n",
    "uncAndes_15baseline = np.zeros(15) + (0.1)\n",
    "uncAndes_10baseline = np.zeros(10) + (0.2)\n",
    "\n",
    "\n",
    "#ANDES Optimistic\n",
    "\n",
    "#uncAndes_20optimistic = np.zeros(20) + (0.05*10**(-6))\n",
    "#uncAndes_15optimistic1 = np.zeros(15) + (0.1*10**(-6))\n",
    "#uncAndes_15optimistic2 = np.zeros(15) + (1*10**(-6))\n",
    "\n",
    "#PPM:\n",
    "uncAndes_20optimistic = np.zeros(20) + (0.05)\n",
    "uncAndes_15optimistic1 = np.zeros(15) + (0.1)\n",
    "uncAndes_15optimistic2 = np.zeros(15) + (1)"
   ]
  },
  {
   "cell_type": "markdown",
   "id": "4ceb293b",
   "metadata": {},
   "source": [
    "# Fisher Matrices\n",
    "## - No Priors\n",
    "#### Bekenstein $(\\zeta_\\Lambda = \\zeta_m = 0)$"
   ]
  },
  {
   "cell_type": "code",
   "execution_count": 11,
   "id": "3f6f6ed8",
   "metadata": {},
   "outputs": [],
   "source": [
    "FM_BEK0_Andes_15baseline    = FisherMatrix_ab(zAndes_15baseline, uncAndes_15baseline, OmegaM, w0=None, wa=None, Zl=0, Zm=0, OCP= 'parameter', analysis = 'alpha')\n",
    "FM_BEK0_Andes_10baseline    = FisherMatrix_ab(zAndes_10baseline, uncAndes_10baseline, OmegaM, w0=None, wa=None, Zl=0, Zm=0, OCP= 'parameter', analysis = 'alpha')\n",
    "\n",
    "FM_BEK0_Andes_20optimistic  = FisherMatrix_ab(zAndes_20optimistic, uncAndes_20optimistic, OmegaM, w0=None, wa=None, Zl=0, Zm=0, OCP= 'parameter', analysis = 'alpha')\n",
    "FM_BEK0_Andes_15optimistic1 = FisherMatrix_ab(zAndes_15optimistic1, uncAndes_15optimistic1, OmegaM, w0=None, wa=None, Zl=0, Zm=0, OCP= 'parameter', analysis = 'alpha')\n",
    "FM_BEK0_Andes_15optimistic2 = FisherMatrix_ab(zAndes_15optimistic2, uncAndes_15optimistic2, OmegaM, w0=None, wa=None, Zl=0, Zm=0, OCP= 'parameter', analysis = 'alpha')\n",
    "\n",
    "\n",
    "BEK0_AlphaB = FM_BEK0_Andes_baseline = FM_BEK0_Andes_15baseline + FM_BEK0_Andes_10baseline\n",
    "BEK0_AlphaO = FM_BEK0_Andes_optimistic = FM_BEK0_Andes_20optimistic + FM_BEK0_Andes_15optimistic1 + FM_BEK0_Andes_15optimistic2"
   ]
  },
  {
   "cell_type": "markdown",
   "id": "e7f1b285",
   "metadata": {},
   "source": [
    "#### Bekenstein $(\\zeta_\\Lambda = \\zeta_m = -0.1)$"
   ]
  },
  {
   "cell_type": "code",
   "execution_count": 12,
   "id": "df4ad772",
   "metadata": {},
   "outputs": [],
   "source": [
    "FM_BEK_Andes_15baseline    = FisherMatrix_ab(zAndes_15baseline, uncAndes_15baseline, OmegaM, w0=None, wa=None, Zl=-0.1, Zm=-0.1, OCP= 'parameter', analysis = 'alpha')\n",
    "FM_BEK_Andes_10baseline    = FisherMatrix_ab(zAndes_10baseline, uncAndes_10baseline, OmegaM, w0=None, wa=None, Zl=-0.1, Zm=-0.1, OCP= 'parameter', analysis = 'alpha')\n",
    "\n",
    "FM_BEK_Andes_20optimistic  = FisherMatrix_ab(zAndes_20optimistic, uncAndes_20optimistic, OmegaM, w0=None, wa=None, Zl=-0.1, Zm=-0.1, OCP= 'parameter', analysis = 'alpha')\n",
    "FM_BEK_Andes_15optimistic1 = FisherMatrix_ab(zAndes_15optimistic1, uncAndes_15optimistic1, OmegaM, w0=None, wa=None, Zl=-0.1, Zm=-0.1, OCP= 'parameter', analysis = 'alpha')\n",
    "FM_BEK_Andes_15optimistic2 = FisherMatrix_ab(zAndes_15optimistic2, uncAndes_15optimistic2, OmegaM, w0=None, wa=None, Zl=-0.1, Zm=-0.1, OCP= 'parameter', analysis = 'alpha')\n",
    "\n",
    "\n",
    "FM_BEK_Andes_baseline = FM_BEK_Andes_15baseline + FM_BEK_Andes_10baseline\n",
    "FM_BEK_Andes_optimistic = FM_BEK_Andes_20optimistic + FM_BEK_Andes_15optimistic1 + FM_BEK_Andes_15optimistic2"
   ]
  },
  {
   "cell_type": "markdown",
   "id": "5a9f9a50",
   "metadata": {},
   "source": [
    "#### CPL $(w_0 = -1)$ and $(w_a = 0)$"
   ]
  },
  {
   "cell_type": "code",
   "execution_count": 13,
   "id": "8f7ebd9b",
   "metadata": {},
   "outputs": [],
   "source": [
    "FM_CPLLCDM_Andes_15baseline = FisherMatrix_aCPL(zAndes_15baseline, uncAndes_15baseline, OmegaM=0.3, w0=-1, wa=0, zeta=-0.1, analysis = 'alpha')\n",
    "FM_CPLLCDM_Andes_10baseline = FisherMatrix_aCPL(zAndes_10baseline, uncAndes_10baseline, OmegaM=0.3, w0=-1, wa=0, zeta=-0.1, analysis = 'alpha')\n",
    "\n",
    "FM_CPLLCDM_Andes_20optimistic = FisherMatrix_aCPL(zAndes_20optimistic, uncAndes_20optimistic, OmegaM=0.3, w0=-1, wa=0, zeta=-0.1, analysis = 'alpha')\n",
    "FM_CPLLCDM_Andes_15optimistic1 = FisherMatrix_aCPL(zAndes_15optimistic1, uncAndes_15optimistic1, OmegaM=0.3, w0=-1, wa=0, zeta=-0.1, analysis = 'alpha')\n",
    "FM_CPLLCDM_Andes_15optimistic2 = FisherMatrix_aCPL(zAndes_15optimistic2, uncAndes_15optimistic2, OmegaM=0.3, w0=-1, wa=0, zeta=-0.1, analysis = 'alpha')\n",
    "\n",
    "\n",
    "FM_CPLLCDM_Andes_baseline = FM_CPLLCDM_Andes_15baseline + FM_CPLLCDM_Andes_10baseline\n",
    "FM_CPLLCDM_Andes_optimistic = FM_CPLLCDM_Andes_20optimistic + FM_CPLLCDM_Andes_15optimistic1 + FM_CPLLCDM_Andes_15optimistic2"
   ]
  },
  {
   "cell_type": "markdown",
   "id": "04e2e747",
   "metadata": {},
   "source": [
    "#### CPL $(w_0 = -0.9)$ and $(w_a = 0.3)$"
   ]
  },
  {
   "cell_type": "code",
   "execution_count": 14,
   "id": "94781c6f",
   "metadata": {},
   "outputs": [],
   "source": [
    "FM_CPL_Andes_15baseline = FisherMatrix_aCPL(zAndes_15baseline, uncAndes_15baseline, OmegaM=0.3, w0=-0.9, wa=0.3, zeta=-0.1, analysis = 'alpha')\n",
    "FM_CPL_Andes_10baseline = FisherMatrix_aCPL(zAndes_10baseline, uncAndes_10baseline, OmegaM=0.3, w0=-0.9, wa=0.3, zeta=-0.1, analysis = 'alpha')\n",
    "\n",
    "FM_CPL_Andes_20optimistic = FisherMatrix_aCPL(zAndes_20optimistic, uncAndes_20optimistic, OmegaM=0.3, w0=-0.9, wa=0.3, zeta=-0.1, analysis = 'alpha')\n",
    "FM_CPL_Andes_15optimistic1 = FisherMatrix_aCPL(zAndes_15optimistic1, uncAndes_15optimistic1, OmegaM=0.3, w0=-0.9, wa=0.3, zeta=-0.1, analysis = 'alpha')\n",
    "FM_CPL_Andes_15optimistic2 = FisherMatrix_aCPL(zAndes_15optimistic2, uncAndes_15optimistic2, OmegaM=0.3, w0=-0.9, wa=0.3, zeta=-0.1, analysis = 'alpha')\n",
    "\n",
    "\n",
    "FM_CPL_Andes_baseline = FM_CPL_Andes_15baseline + FM_CPL_Andes_10baseline\n",
    "FM_CPL_Andes_optimistic = FM_CPL_Andes_20optimistic + FM_CPL_Andes_15optimistic1 + FM_CPL_Andes_15optimistic2"
   ]
  },
  {
   "cell_type": "markdown",
   "id": "27acce24",
   "metadata": {},
   "source": [
    "## - With Priors\n",
    "#### Bekenstein $(\\zeta_\\Lambda = \\zeta_m = 0)$\n",
    "\n",
    "It has no Priors because $\\zeta_\\Lambda = \\zeta_m = 0$ implies LambdaCDM which itself implies $\\frac{\\Delta \\alpha}{\\alpha} = 0$\n",
    "\n",
    "#### Bekenstein $(\\zeta_\\Lambda = \\zeta_m = -0.1)$"
   ]
  },
  {
   "cell_type": "code",
   "execution_count": 15,
   "id": "4bdb736a",
   "metadata": {},
   "outputs": [],
   "source": [
    "#Considering the prior sigma(OmegaM)=0.03=uncOmegaM and present atomic clocks (cur_ab=1)\n",
    "\n",
    "CurrentClocksbaseline = add1DPriors(FM_BEK_Andes_baseline, [[uncOmegaM,0]])\n",
    "BEK_AlphaB = addPriors_BEK(CurrentClocksbaseline  , cur_ab=1, OCP= 'parameter')\n",
    "\n",
    "CurrentClocksoptimistic = add1DPriors(FM_BEK_Andes_optimistic, [[uncOmegaM,0]])\n",
    "BEK_AlphaO = addPriors_BEK(CurrentClocksoptimistic  , cur_ab=1, OCP= 'parameter')"
   ]
  },
  {
   "cell_type": "markdown",
   "id": "847e3b34",
   "metadata": {},
   "source": [
    "#### CPL $(w_0 = -1)$ and $(w_a = 0)$"
   ]
  },
  {
   "cell_type": "code",
   "execution_count": 16,
   "id": "83491fb4",
   "metadata": {},
   "outputs": [],
   "source": [
    "CPLLCDM_AlphaB = add1DPriors(FM_CPLLCDM_Andes_baseline, [[uncOmegaM,0], [unczeta,1]])\n",
    "CPLLCDM_AlphaO = add1DPriors(FM_CPLLCDM_Andes_optimistic, [[uncOmegaM,0], [unczeta,1]])"
   ]
  },
  {
   "cell_type": "markdown",
   "id": "9d64ca6b",
   "metadata": {},
   "source": [
    "#### CPL $(w_0 = -0.9)$ and $(w_a = 0.3)$"
   ]
  },
  {
   "cell_type": "code",
   "execution_count": 17,
   "id": "633f2441",
   "metadata": {},
   "outputs": [],
   "source": [
    "CPL_AlphaB = add1DPriors(FM_CPL_Andes_baseline, [[uncOmegaM,0],[uncw0Cur,1], [uncwaCur,2], [unczeta,3]])\n",
    "CPL_AlphaO = add1DPriors(FM_CPL_Andes_optimistic, [[uncOmegaM,0],[uncw0Cur,1], [uncwaCur,2], [unczeta,3]])"
   ]
  },
  {
   "cell_type": "markdown",
   "id": "6adc30a8",
   "metadata": {},
   "source": [
    "# Confidence ellipses (1-sigma)\n",
    "#### Bekenstein"
   ]
  },
  {
   "cell_type": "code",
   "execution_count": 18,
   "id": "32c88da8",
   "metadata": {},
   "outputs": [],
   "source": [
    "def grafZmZl_BEK(Zm,Zl,Fs): \n",
    "    ells = []\n",
    "    for i in range(len(Fs)):\n",
    "        Fm = marginalize(Fs[i],'OmegaM',analysis='alpha-BEK')\n",
    "        Pa = preelipse(Fm)\n",
    "        color,name,style = colornamestyle2(Fs[i])\n",
    "        ells.append([Zm,Zl,Pa[0],Pa[1],Pa[2],name,color,style])\n",
    "    ellipses(ells,['$\\zeta_m$ (ppm)','$\\zeta_\\Lambda$ (ppm)'])\n",
    "    plt.tick_params(axis='both', which='major', labelsize=20)\n",
    "    plt.xlim(-0.25,0.05)\n",
    "    plt.ylim(-1,0.8)\n",
    "    #plt.savefig('BEKZmZl.png', dpi=300, bbox_inches='tight')\n",
    "    plt.show()\n",
    "    \n",
    "#grafZmZl_BEK(-0.1,-0.1,[BEK_AlphaB, BEK_AlphaO])"
   ]
  },
  {
   "cell_type": "code",
   "execution_count": 19,
   "id": "e1f46d0a",
   "metadata": {},
   "outputs": [],
   "source": [
    "def grafOmZm_BEK(OmegaM,Zm,Fs): \n",
    "    ells = []\n",
    "    for i in range(len(Fs)):\n",
    "        Fm = marginalize(Fs[i],'Zl',analysis='alpha-BEK')\n",
    "        Pa = preelipse(Fm)\n",
    "        color,name,style = colornamestyle2(Fs[i])\n",
    "        ells.append([OmegaM,Zm,Pa[0],Pa[1],Pa[2],name,color,style])\n",
    "    ellipses(ells,['$\\Omega_m$','$\\zeta_m$ (ppm)'])\n",
    "    plt.tick_params(axis='both', which='major', labelsize=20)\n",
    "    plt.xlim(0.24,0.36)\n",
    "    plt.ylim(-0.25,0.05)\n",
    "    #plt.savefig('BEKOmegaMZm.png', dpi=300, bbox_inches='tight')\n",
    "    plt.show()\n",
    "    \n",
    "#grafOmZm_BEK(0.3,-0.1,[BEK_AlphaB, BEK_AlphaO])"
   ]
  },
  {
   "cell_type": "code",
   "execution_count": 20,
   "id": "7ef70fc3",
   "metadata": {},
   "outputs": [],
   "source": [
    "def grafOmZl_BEK(OmegaM,Zl,Fs): \n",
    "    ells = []\n",
    "    for i in range(len(Fs)):\n",
    "        Fm = marginalize(Fs[i],'Zm',analysis='alpha-BEK')\n",
    "        Pa = preelipse(Fm)\n",
    "        color,name,style = colornamestyle2(Fs[i])\n",
    "        ells.append([OmegaM,Zl,Pa[0],Pa[1],Pa[2],name,color,style])\n",
    "    ellipses(ells,['$\\Omega_m$','$\\zeta_\\Lambda$ (ppm)'])\n",
    "    plt.tick_params(axis='both', which='major', labelsize=20)\n",
    "    plt.xlim(0.24,0.36)\n",
    "    plt.ylim(-1,0.8)\n",
    "    #plt.savefig('BEKOmegaMZl.png', dpi=300, bbox_inches='tight')\n",
    "    plt.show()\n",
    "    \n",
    "#grafOmZl_BEK(0.3,-0.1,[BEK_AlphaB, BEK_AlphaO])"
   ]
  },
  {
   "cell_type": "markdown",
   "id": "71595b65",
   "metadata": {},
   "source": [
    "#### CPL"
   ]
  },
  {
   "cell_type": "code",
   "execution_count": 21,
   "id": "ee04099d",
   "metadata": {},
   "outputs": [],
   "source": [
    "def grafwazeta_CPL(wa,zetas,Fs): \n",
    "    ells = []\n",
    "    for i in range(len(Fs)):\n",
    "        Fm = marginalize(Fs[i],'w0',analysis='alpha-CPL')\n",
    "        Fm = marginalize(Fm,'OmegaM',analysis='alpha-CPL')\n",
    "        Pa = preelipse(Fm)\n",
    "        color,name,style = colornamestyle2(Fs[i])\n",
    "        ells.append([wa,zetas, Pa[0],Pa[1],Pa[2],name,color,style])\n",
    "    ellipses(ells,['$w_a$','$\\zeta$ (ppm)'])\n",
    "    plt.tick_params(axis='both', which='major', labelsize=20)\n",
    "    plt.xlim(-0.4,1)\n",
    "    plt.ylim(-0.25, 0.05)\n",
    "    #plt.savefig('CPLAlphawazeta.png', dpi=300, bbox_inches='tight')\n",
    "    plt.show()\n",
    "    \n",
    "#grafwazeta_CPL(0.3,-0.1,[CPL_AlphaB, CPL_AlphaO])"
   ]
  },
  {
   "cell_type": "code",
   "execution_count": 22,
   "id": "4e113a9c",
   "metadata": {},
   "outputs": [],
   "source": [
    "def grafw0zeta_CPL(w0,zetas,Fs): \n",
    "    ells = []\n",
    "    for i in range(len(Fs)):\n",
    "        Fm = marginalize(Fs[i],'wa',analysis='alpha-CPL')\n",
    "        Fm = marginalize(Fm,'OmegaM',analysis='alpha-CPL')\n",
    "        Pa = preelipse(Fm)\n",
    "        color,name,style = colornamestyle2(Fs[i])\n",
    "        ells.append([w0,zetas, Pa[0],Pa[1],Pa[2],name,color,style])\n",
    "    ellipses(ells,['$w_0$','$\\zeta$ (ppm)'])\n",
    "    plt.tick_params(axis='both', which='major', labelsize=20)\n",
    "    plt.xlim(-1.2,-0.6)\n",
    "    plt.ylim(-0.25, 0.05)\n",
    "    #plt.savefig('CPLAlphaw0zeta.png', dpi=300, bbox_inches='tight')\n",
    "    plt.show()\n",
    "    \n",
    "#grafw0zeta_CPL(-0.9,-0.1,[CPL_AlphaB, CPL_AlphaO])"
   ]
  },
  {
   "cell_type": "code",
   "execution_count": 23,
   "id": "f455ba30",
   "metadata": {},
   "outputs": [],
   "source": [
    "def grafOmegaMzeta_CPL(OmegaM,zetas,Fs):\n",
    "    ells = []\n",
    "    for i in range(len(Fs)):\n",
    "        Fm = marginalize(Fs[i],'wa',analysis='alpha-CPL')\n",
    "        Fm = marginalize(Fm,'w0',analysis='alpha-CPL')\n",
    "        Pa = preelipse(Fm)\n",
    "        color,name,style = colornamestyle2(Fs[i])\n",
    "        ells.append([OmegaM,zetas, Pa[0],Pa[1],Pa[2],name,color,style])\n",
    "    ellipses(ells,['$\\Omega_m$','$\\zeta$ (ppm)'])\n",
    "    plt.tick_params(axis='both', which='major', labelsize=20)\n",
    "    plt.xlim(0.24,0.36)\n",
    "    plt.ylim(-0.25, 0.05)\n",
    "    #plt.savefig('CPLAlphaOmegaMzeta.png', dpi=300, bbox_inches='tight')\n",
    "    plt.show()\n",
    "    \n",
    "#grafOmegaMzeta_CPL(0.3,-0.1,[CPL_AlphaB, CPL_AlphaO])"
   ]
  },
  {
   "cell_type": "code",
   "execution_count": 24,
   "id": "3c7d128d",
   "metadata": {},
   "outputs": [],
   "source": [
    "def grafw0wa_CPL(w0,wa,Fs): \n",
    "    ells = []\n",
    "    for i in range(len(Fs)):\n",
    "        Fm = marginalize(Fs[i],'zeta',analysis='alpha-CPL')\n",
    "        Fm = marginalize(Fm,'OmegaM',analysis='alpha-CPL')\n",
    "        Pa = preelipse(Fm)\n",
    "        color,name,style = colornamestyle2(Fs[i])\n",
    "        ells.append([w0,wa, Pa[0],Pa[1],Pa[2],name,color,style])\n",
    "    ellipses(ells,['$w_0$','$w_a$'])\n",
    "    plt.tick_params(axis='both', which='major', labelsize=12)\n",
    "    plt.xlim(-1.2,-0.6)\n",
    "    plt.ylim(-0.4,1)\n",
    "    #plt.savefig('CPLw0wa.png', dpi=300, bbox_inches='tight')\n",
    "    plt.show()\n",
    "    \n",
    "#grafw0wa_CPL(-0.9,0.3,[CPL_AlphaB, CPL_AlphaO])"
   ]
  },
  {
   "cell_type": "code",
   "execution_count": 25,
   "id": "5ad37f29",
   "metadata": {},
   "outputs": [],
   "source": [
    "def grafOmegaMw0_CPL(OmegaM,w0,Fs): \n",
    "    ells = []\n",
    "    for i in range(len(Fs)):\n",
    "        Fm = marginalize(Fs[i],'zeta',analysis='alpha-CPL')\n",
    "        Fm = marginalize(Fm,'wa',analysis='alpha-CPL')\n",
    "        Pa = preelipse(Fm)\n",
    "        color,name,style = colornamestyle2(Fs[i])\n",
    "        ells.append([OmegaM,w0, Pa[0],Pa[1],Pa[2],name,color,style])\n",
    "    ellipses(ells,['$\\Omega_m$','$w_0$'])\n",
    "    plt.tick_params(axis='both', which='major', labelsize=12)\n",
    "    plt.xlim(0.24,0.36)\n",
    "    plt.ylim(-1.2,-0.6)\n",
    "    #plt.savefig('CPLOmegaMw0.png', dpi=300, bbox_inches='tight')\n",
    "    plt.show()\n",
    "    \n",
    "#grafOmegaMw0_CPL(0.3,-0.9,[CPL_AlphaB, CPL_AlphaO])"
   ]
  },
  {
   "cell_type": "code",
   "execution_count": 26,
   "id": "ff87c3b0",
   "metadata": {},
   "outputs": [],
   "source": [
    "def grafOmegaMwa_CPL(OmegaM,wa,Fs): \n",
    "    ells = []\n",
    "    for i in range(len(Fs)):\n",
    "        Fm = marginalize(Fs[i],'zeta',analysis='alpha-CPL')\n",
    "        Fm = marginalize(Fm,'w0',analysis='alpha-CPL')\n",
    "        Pa = preelipse(Fm)\n",
    "        color,name,style = colornamestyle2(Fs[i])\n",
    "        ells.append([OmegaM,wa, Pa[0],Pa[1],Pa[2],name,color,style])\n",
    "    ellipses(ells,['$\\Omega_m$','$w_a$'])\n",
    "    plt.tick_params(axis='both', which='major', labelsize=12)\n",
    "    plt.xlim(0.24,0.36)\n",
    "    plt.ylim(-0.4,1)\n",
    "    #plt.savefig('CPLOmegaMwa.png', dpi=300, bbox_inches='tight')\n",
    "    plt.show()\n",
    "    \n",
    "#grafOmegaMwa_CPL(0.3,0.3,[CPL_AlphaB, CPL_AlphaO])"
   ]
  },
  {
   "cell_type": "markdown",
   "id": "7082698a",
   "metadata": {},
   "source": [
    "# Tables\n",
    "#### Bekenstein"
   ]
  },
  {
   "cell_type": "code",
   "execution_count": 27,
   "id": "88d0c4e0",
   "metadata": {},
   "outputs": [],
   "source": [
    "def tableBEKalpha(matrices):\n",
    "    i=0\n",
    "    df=pd.DataFrame()\n",
    "    nformat = \"{:.0f}\"\n",
    "    float_format=\"{:.3f}\"\n",
    "    zetaformat=\"{:.3e}\"\n",
    "    \n",
    "\n",
    "    for matrix in matrices:\n",
    "        rows = {'ρ(Ωm, Zm)':float_format.format(FigMeriteRho(matrix,['Zl'],analysis='alpha-BEK')[1]),\n",
    "                'ρ(Ωm, Zl)':float_format.format(FigMeriteRho(matrix,['Zm'],analysis='alpha-BEK')[1]),\n",
    "                'ρ(Zm, Zl)':float_format.format(FigMeriteRho(matrix,['OmegaM'],analysis='alpha-BEK')[1]),                      \n",
    "                'FoM(Ωm, Zm)': nformat.format(FigMeriteRho(matrix,['Zl'],analysis='alpha-BEK')[0]),\n",
    "                'FoM(Ωm, Zl)': nformat.format(FigMeriteRho(matrix,['Zm'],analysis='alpha-BEK')[0]),\n",
    "                'FoM(Zm, Zl)': nformat.format(FigMeriteRho(matrix,['OmegaM'],analysis='alpha-BEK')[0]),\n",
    "                'σ(Ωm)':float_format.format(Sigmas(matrix)[0]),\n",
    "                'σ(Zm)':float_format.format(Sigmas(matrix)[1]),\n",
    "                'σ(Zl)':float_format.format(Sigmas(matrix)[2])}\n",
    "        i+=1\n",
    "        df = df.append(rows,ignore_index=True)\n",
    "        del rows\n",
    "    \n",
    "    \n",
    "    Datasets = ['Baseline','Optimistic']\n",
    "    df.insert(0, \"Parameters\", Datasets, True)\n",
    "    \n",
    "    df = df.transpose()\n",
    "    \n",
    "            \n",
    "    return df"
   ]
  },
  {
   "cell_type": "code",
   "execution_count": 28,
   "id": "a03ac5fb",
   "metadata": {},
   "outputs": [],
   "source": [
    "#Bekenstein - Baseline + Optimistic\n",
    "\n",
    "#matricesBEKalpha = [BEK_AlphaB, BEK_AlphaO]\n",
    "#tab1 = tableBEKalpha(matricesBEKalpha)\n",
    "\n",
    "#See the table in DataFrame:\n",
    "#tab1\n",
    "\n",
    "#Transform dataframe to latex code:\n",
    "#print(tab1.to_latex(header=False,index=True))"
   ]
  },
  {
   "cell_type": "markdown",
   "id": "fafb3424",
   "metadata": {},
   "source": [
    "#### CPL"
   ]
  },
  {
   "cell_type": "code",
   "execution_count": 29,
   "id": "f25ab85a",
   "metadata": {},
   "outputs": [],
   "source": [
    "def tableCPLalpha(matrices):\n",
    "    i=0\n",
    "    df=pd.DataFrame()\n",
    "    nformat = \"{:.0f}\"\n",
    "    float_format=\"{:.3f}\"\n",
    "    zetaformat=\"{:.3e}\"\n",
    "    \n",
    "\n",
    "    for matrix in matrices:\n",
    "        rows = {'ρ(Ωm, w0)':float_format.format(FigMeriteRho(matrix,['wa','zeta'],analysis='alpha-CPL')[1]),\n",
    "                'ρ(Ωm, wa)':float_format.format(FigMeriteRho(matrix,['w0','zeta'],analysis='alpha-CPL')[1]),\n",
    "                'ρ(Ωm, zeta)':float_format.format(FigMeriteRho(matrix,['w0','wa'],analysis='alpha-CPL')[1]),                       \n",
    "                'ρ(w0, wa)':float_format.format(FigMeriteRho(matrix,['OmegaM','zeta'],analysis='alpha-CPL')[1]),\n",
    "                'ρ(w0, zeta)':float_format.format(FigMeriteRho(matrix,['OmegaM','wa'],analysis='alpha-CPL')[1]),\n",
    "                'ρ(wa, zeta)':float_format.format(FigMeriteRho(matrix,['OmegaM','w0'],analysis='alpha-CPL')[1]),\n",
    "                'FoM(Ωm, w0)': nformat.format(FigMeriteRho(matrix,['wa','zeta'],analysis='alpha-CPL')[0]),\n",
    "                'FoM(Ωm, wa)': nformat.format(FigMeriteRho(matrix,['w0','zeta'],analysis='alpha-CPL')[0]),\n",
    "                'FoM(Ωm, zeta)': nformat.format(FigMeriteRho(matrix,['w0','wa'],analysis='alpha-CPL')[0]),\n",
    "                'FoM(w0, wa)': nformat.format(FigMeriteRho(matrix,['OmegaM','zeta'],analysis='alpha-CPL')[0]),\n",
    "                'FoM(w0, zeta)': nformat.format(FigMeriteRho(matrix,['OmegaM','wa'],analysis='alpha-CPL')[0]),\n",
    "                'FoM(wa, zeta)': nformat.format(FigMeriteRho(matrix,['OmegaM','w0'],analysis='alpha-CPL')[0]),\n",
    "                'σ(Ωm)':float_format.format(Sigmas(matrix)[0]),\n",
    "                'σ(w0)':float_format.format(Sigmas(matrix)[1]),\n",
    "                'σ(wa)':float_format.format(Sigmas(matrix)[2]),\n",
    "                'σ(zeta)':float_format.format(Sigmas(matrix)[3])}\n",
    "        i+=1\n",
    "        df = df.append(rows,ignore_index=True)\n",
    "        del rows\n",
    "    \n",
    "    \n",
    "    Datasets = ['Baseline','Optimistic']\n",
    "    df.insert(0, \"Parameters\", Datasets, True)\n",
    "    \n",
    "    df = df.transpose()\n",
    "    \n",
    "            \n",
    "    return df"
   ]
  },
  {
   "cell_type": "code",
   "execution_count": 30,
   "id": "fc1b166f",
   "metadata": {},
   "outputs": [],
   "source": [
    "#CPL - Baseline + Optimistic\n",
    "\n",
    "#matricesCPLalpha = [CPL_AlphaB, CPL_AlphaO]\n",
    "#tab1 = tableCPLalpha(matricesCPLalpha)\n",
    "\n",
    "#See the table in DataFrame:\n",
    "#tab1\n",
    "\n",
    "#Transform dataframe to latex code:\n",
    "#print(tab1.to_latex(header=False,index=True))"
   ]
  },
  {
   "cell_type": "code",
   "execution_count": null,
   "id": "1e00e32d",
   "metadata": {},
   "outputs": [],
   "source": []
  }
 ],
 "metadata": {
  "kernelspec": {
   "display_name": "Python 3 (ipykernel)",
   "language": "python",
   "name": "python3"
  },
  "language_info": {
   "codemirror_mode": {
    "name": "ipython",
    "version": 3
   },
   "file_extension": ".py",
   "mimetype": "text/x-python",
   "name": "python",
   "nbconvert_exporter": "python",
   "pygments_lexer": "ipython3",
   "version": "3.7.9"
  }
 },
 "nbformat": 4,
 "nbformat_minor": 5
}
